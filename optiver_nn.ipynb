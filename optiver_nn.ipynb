{
 "cells": [
  {
   "cell_type": "code",
   "execution_count": 1,
   "id": "ab77208b",
   "metadata": {},
   "outputs": [],
   "source": [
    "## nn模型初次尝试调参\n",
    "suff = 920000\n",
    "n_startup_trials=90\n",
    "n_trials=120\n",
    "ENV = \"10900\"\n",
    "\n",
    "if ENV == \"9700\":\n",
    "    data_dir = 'E:/optiver-realized-volatility-prediction'\n",
    "    output_dir = \"E:/output\"\n",
    "elif ENV == \"10900\":\n",
    "    data_dir = '/home/xuming/workspace/optiver-realized-volatility-prediction'\n",
    "    output_dir = \"/home/xuming/workspace/output\"\n",
    "elif ENV == \"colab\":\n",
    "    data_dir = '/content/drive/Shareddrives/workspace/optiver-realized-volatility-prediction'\n",
    "    output_dir = \"/content/drive/Shareddrives/workspace/output\"\n",
    "    !pip -q install pytorch_tabnet==3.1.1\n",
    "    !pip -q install optuna\n",
    "    !pip -q install -U pandas==1.2.4\n",
    "    !pip -q install -U scikit-learn==0.23.2\n",
    "    from google.colab import drive\n",
    "    drive.mount('/content/drive')"
   ]
  },
  {
   "cell_type": "code",
   "execution_count": 2,
   "id": "637429c0",
   "metadata": {
    "_cell_guid": "33cd69f1-96e9-4214-920f-0fb86bcd2056",
    "_uuid": "c930aefe-c0c1-4336-858d-28d810af02ae",
    "execution": {
     "iopub.execute_input": "2021-09-18T05:56:48.017419Z",
     "iopub.status.busy": "2021-09-18T05:56:48.016727Z",
     "iopub.status.idle": "2021-09-18T05:56:49.016344Z",
     "shell.execute_reply": "2021-09-18T05:56:49.017456Z",
     "shell.execute_reply.started": "2021-09-01T09:00:05.721628Z"
    },
    "jupyter": {
     "outputs_hidden": false
    },
    "papermill": {
     "duration": 1.114547,
     "end_time": "2021-09-18T05:56:49.017679",
     "exception": false,
     "start_time": "2021-09-18T05:56:47.903132",
     "status": "completed"
    },
    "tags": []
   },
   "outputs": [],
   "source": [
    "from IPython.core.display import display, HTML\n",
    "\n",
    "import pandas as pd\n",
    "import numpy as np # linear algebra\n",
    "import pandas as pd # data processing, CSV file I/O (e.g. pd.read_csv)\n",
    "import glob\n",
    "import os\n",
    "import gc\n",
    "\n",
    "from joblib import Parallel, delayed\n",
    "\n",
    "from sklearn import preprocessing, model_selection\n",
    "from sklearn.preprocessing import MinMaxScaler\n",
    "from sklearn.preprocessing import QuantileTransformer\n",
    "from sklearn.metrics import r2_score\n",
    "\n",
    "import matplotlib.pyplot as plt \n",
    "import seaborn as sns\n",
    "import numpy.matlib\n",
    "import random\n",
    "import optuna\n",
    "from optuna.samplers import TPESampler\n",
    "import time\n",
    "\n",
    "target_name = 'target'\n",
    "scores_folds = {}\n",
    "random.seed(42)\n",
    "os.environ['PYTHONHASHSEED'] = str(42)\n",
    "np.random.seed(42)"
   ]
  },
  {
   "cell_type": "code",
   "execution_count": 3,
   "id": "d8e1a349",
   "metadata": {},
   "outputs": [],
   "source": [
    "def init_logger(log_file=output_dir+'train.log'):\n",
    "    from logging import getLogger, INFO, FileHandler,  Formatter,  StreamHandler\n",
    "    logger = getLogger(__name__)\n",
    "    logger.setLevel(INFO)\n",
    "    handler1 = StreamHandler()\n",
    "    handler1.setFormatter(Formatter(\"%(message)s\"))\n",
    "    handler2 = FileHandler(filename=log_file)\n",
    "    handler2.setFormatter(Formatter(\"%(message)s\"))\n",
    "    logger.addHandler(handler1)\n",
    "    logger.addHandler(handler2)\n",
    "    return logger\n",
    "\n",
    "def get_timediff(time1,time2):\n",
    "    minute_,second_ = divmod(time2-time1,60)\n",
    "    return f\"{int(minute_):02d}:{int(second_):02d}\"  \n",
    "\n",
    "LOGGER = init_logger(f'{output_dir}/nn_{suff}.log')"
   ]
  },
  {
   "cell_type": "code",
   "execution_count": 4,
   "id": "7f0648ff",
   "metadata": {
    "_cell_guid": "aa9c17e0-9e8b-4c5f-9cf2-9380633c87f3",
    "_uuid": "ab71dda0-ff79-4c4d-8a5d-81dba69aa840",
    "execution": {
     "iopub.execute_input": "2021-09-18T05:56:49.323899Z",
     "iopub.status.busy": "2021-09-18T05:56:49.322954Z",
     "iopub.status.idle": "2021-09-18T05:56:49.402924Z",
     "shell.execute_reply": "2021-09-18T05:56:49.403966Z",
     "shell.execute_reply.started": "2021-09-01T09:00:06.709803Z"
    },
    "jupyter": {
     "outputs_hidden": false
    },
    "papermill": {
     "duration": 0.175638,
     "end_time": "2021-09-18T05:56:49.404179",
     "exception": false,
     "start_time": "2021-09-18T05:56:49.228541",
     "status": "completed"
    },
    "tags": []
   },
   "outputs": [],
   "source": [
    "# Function to calculate first WAP\n",
    "def calc_wap1(df):\n",
    "    wap = (df['bid_price1'] * df['ask_size1'] + df['ask_price1'] * df['bid_size1']) / (df['bid_size1'] + df['ask_size1'])\n",
    "    return wap\n",
    "\n",
    "# Function to calculate second WAP\n",
    "def calc_wap2(df):\n",
    "    wap = (df['bid_price2'] * df['ask_size2'] + df['ask_price2'] * df['bid_size2']) / (df['bid_size2'] + df['ask_size2'])\n",
    "    return wap\n",
    "\n",
    "def calc_wap3(df):\n",
    "    wap = (df['bid_price1'] * df['bid_size1'] + df['ask_price1'] * df['ask_size1']) / (df['bid_size1'] + df['ask_size1'])\n",
    "    return wap\n",
    "\n",
    "def calc_wap4(df):\n",
    "    wap = (df['bid_price2'] * df['bid_size2'] + df['ask_price2'] * df['ask_size2']) / (df['bid_size2'] + df['ask_size2'])\n",
    "    return wap\n",
    "\n",
    "# Function to calculate the log of the return\n",
    "# Remember that logb(x / y) = logb(x) - logb(y)\n",
    "def log_return(series):\n",
    "    return np.log(series).diff()\n",
    "\n",
    "# Calculate the realized volatility\n",
    "def realized_volatility(series):\n",
    "    return np.sqrt(np.sum(series**2))\n",
    "\n",
    "# Function to count unique elements of a series\n",
    "def count_unique(series):\n",
    "    return len(np.unique(series))\n",
    "\n",
    "# Function to read our base train and test set\n",
    "def read_train_test():\n",
    "    train = pd.read_csv(f'{data_dir}/train.csv')\n",
    "    test = pd.read_csv(f'{data_dir}/test.csv')\n",
    "    # Create a key to merge with book and trade data\n",
    "    train['row_id'] = train['stock_id'].astype(str) + '-' + train['time_id'].astype(str)\n",
    "    test['row_id'] = test['stock_id'].astype(str) + '-' + test['time_id'].astype(str)\n",
    "    print(f'Our training set has {train.shape[0]} rows')\n",
    "    return train, test\n",
    "\n",
    "# Function to preprocess book data (for each stock id)\n",
    "def book_preprocessor(file_path):\n",
    "    df = pd.read_parquet(file_path)\n",
    "    # Calculate Wap\n",
    "    df['wap1'] = calc_wap1(df)\n",
    "    df['wap2'] = calc_wap2(df)\n",
    "    df['wap3'] = calc_wap3(df)\n",
    "    df['wap4'] = calc_wap4(df)\n",
    "    # Calculate log returns\n",
    "    df['log_return1'] = df.groupby(['time_id'])['wap1'].apply(log_return)\n",
    "    df['log_return2'] = df.groupby(['time_id'])['wap2'].apply(log_return)\n",
    "    df['log_return3'] = df.groupby(['time_id'])['wap3'].apply(log_return)\n",
    "    df['log_return4'] = df.groupby(['time_id'])['wap4'].apply(log_return)\n",
    "    # Calculate wap balance\n",
    "    df['wap_balance'] = abs(df['wap1'] - df['wap2'])\n",
    "    # Calculate spread\n",
    "    df['price_spread'] = (df['ask_price1'] - df['bid_price1']) / ((df['ask_price1'] + df['bid_price1']) / 2)\n",
    "    df['price_spread2'] = (df['ask_price2'] - df['bid_price2']) / ((df['ask_price2'] + df['bid_price2']) / 2)\n",
    "    df['bid_spread'] = df['bid_price1'] - df['bid_price2']\n",
    "    df['ask_spread'] = df['ask_price1'] - df['ask_price2']\n",
    "    df[\"bid_ask_spread\"] = abs(df['bid_spread'] - df['ask_spread'])\n",
    "    df['total_volume'] = (df['ask_size1'] + df['ask_size2']) + (df['bid_size1'] + df['bid_size2'])\n",
    "    df['volume_imbalance'] = abs((df['ask_size1'] + df['ask_size2']) - (df['bid_size1'] + df['bid_size2']))\n",
    "    \n",
    "    # Dict for aggregations\n",
    "    create_feature_dict = {\n",
    "        'wap1': [np.sum, np.std],\n",
    "        'wap2': [np.sum, np.std],\n",
    "        'wap3': [np.sum, np.std],\n",
    "        'wap4': [np.sum, np.std],\n",
    "        'log_return1': [realized_volatility],\n",
    "        'log_return2': [realized_volatility],\n",
    "        'log_return3': [realized_volatility],\n",
    "        'log_return4': [realized_volatility],\n",
    "        'wap_balance': [np.sum, np.max],\n",
    "        'price_spread':[np.sum, np.max],\n",
    "        'price_spread2':[np.sum, np.max],\n",
    "        'bid_spread':[np.sum, np.max],\n",
    "        'ask_spread':[np.sum, np.max],\n",
    "        'total_volume':[np.sum, np.max],\n",
    "        'volume_imbalance':[np.sum, np.max],\n",
    "        \"bid_ask_spread\":[np.sum,  np.max],\n",
    "    }\n",
    "    create_feature_dict_time = {\n",
    "        'log_return1': [realized_volatility],\n",
    "        'log_return2': [realized_volatility],\n",
    "        'log_return3': [realized_volatility],\n",
    "        'log_return4': [realized_volatility],\n",
    "    }\n",
    "    \n",
    "    # Function to get group stats for different windows (seconds in bucket)\n",
    "    def get_stats_window(fe_dict,seconds_in_bucket, add_suffix = False):\n",
    "        # Group by the window\n",
    "        df_feature = df[df['seconds_in_bucket'] >= seconds_in_bucket].groupby(['time_id']).agg(fe_dict).reset_index()\n",
    "        # Rename columns joining suffix\n",
    "        df_feature.columns = ['_'.join(col) for col in df_feature.columns]\n",
    "        # Add a suffix to differentiate windows\n",
    "        if add_suffix:\n",
    "            df_feature = df_feature.add_suffix('_' + str(seconds_in_bucket))\n",
    "        return df_feature\n",
    "    \n",
    "    # Get the stats for different windows\n",
    "    df_feature = get_stats_window(create_feature_dict,seconds_in_bucket = 0, add_suffix = False)\n",
    "    df_feature_500 = get_stats_window(create_feature_dict_time,seconds_in_bucket = 500, add_suffix = True)\n",
    "    df_feature_400 = get_stats_window(create_feature_dict_time,seconds_in_bucket = 400, add_suffix = True)\n",
    "    df_feature_300 = get_stats_window(create_feature_dict_time,seconds_in_bucket = 300, add_suffix = True)\n",
    "    df_feature_200 = get_stats_window(create_feature_dict_time,seconds_in_bucket = 200, add_suffix = True)\n",
    "    df_feature_100 = get_stats_window(create_feature_dict_time,seconds_in_bucket = 100, add_suffix = True)\n",
    "\n",
    "    # Merge all\n",
    "    df_feature = df_feature.merge(df_feature_500, how = 'left', left_on = 'time_id_', right_on = 'time_id__500')\n",
    "    df_feature = df_feature.merge(df_feature_400, how = 'left', left_on = 'time_id_', right_on = 'time_id__400')\n",
    "    df_feature = df_feature.merge(df_feature_300, how = 'left', left_on = 'time_id_', right_on = 'time_id__300')\n",
    "    df_feature = df_feature.merge(df_feature_200, how = 'left', left_on = 'time_id_', right_on = 'time_id__200')\n",
    "    df_feature = df_feature.merge(df_feature_100, how = 'left', left_on = 'time_id_', right_on = 'time_id__100')\n",
    "    # Drop unnecesary time_ids\n",
    "    df_feature.drop(['time_id__500','time_id__400', 'time_id__300', 'time_id__200','time_id__100'], axis = 1, inplace = True)\n",
    "    \n",
    "    \n",
    "    # Create row_id so we can merge\n",
    "    stock_id = file_path.split('=')[1]\n",
    "    df_feature['row_id'] = df_feature['time_id_'].apply(lambda x: f'{stock_id}-{x}')\n",
    "    df_feature.drop(['time_id_'], axis = 1, inplace = True)\n",
    "    return df_feature\n",
    "\n",
    "# Function to preprocess trade data (for each stock id)\n",
    "def trade_preprocessor(file_path):\n",
    "    df = pd.read_parquet(file_path)\n",
    "    df['log_return'] = df.groupby('time_id')['price'].apply(log_return)\n",
    "    df['amount']=df['price']*df['size']\n",
    "    # Dict for aggregations\n",
    "    create_feature_dict = {\n",
    "        'log_return':[realized_volatility],\n",
    "        'seconds_in_bucket':[count_unique],\n",
    "        'size':[np.sum, np.max, np.min],\n",
    "        'order_count':[np.sum,np.max],\n",
    "        'amount':[np.sum,np.max,np.min],\n",
    "    }\n",
    "    create_feature_dict_time = {\n",
    "        'log_return':[realized_volatility],\n",
    "        'seconds_in_bucket':[count_unique],\n",
    "        'size':[np.sum],\n",
    "        'order_count':[np.sum],\n",
    "    }\n",
    "    # Function to get group stats for different windows (seconds in bucket)\n",
    "    def get_stats_window(fe_dict,seconds_in_bucket, add_suffix = False):\n",
    "        # Group by the window\n",
    "        df_feature = df[df['seconds_in_bucket'] >= seconds_in_bucket].groupby(['time_id']).agg(fe_dict).reset_index()\n",
    "        # Rename columns joining suffix\n",
    "        df_feature.columns = ['_'.join(col) for col in df_feature.columns]\n",
    "        # Add a suffix to differentiate windows\n",
    "        if add_suffix:\n",
    "            df_feature = df_feature.add_suffix('_' + str(seconds_in_bucket))\n",
    "        return df_feature\n",
    "    \n",
    "\n",
    "    # Get the stats for different windows\n",
    "    df_feature = get_stats_window(create_feature_dict,seconds_in_bucket = 0, add_suffix = False)\n",
    "    df_feature_500 = get_stats_window(create_feature_dict_time,seconds_in_bucket = 500, add_suffix = True)\n",
    "    df_feature_400 = get_stats_window(create_feature_dict_time,seconds_in_bucket = 400, add_suffix = True)\n",
    "    df_feature_300 = get_stats_window(create_feature_dict_time,seconds_in_bucket = 300, add_suffix = True)\n",
    "    df_feature_200 = get_stats_window(create_feature_dict_time,seconds_in_bucket = 200, add_suffix = True)\n",
    "    df_feature_100 = get_stats_window(create_feature_dict_time,seconds_in_bucket = 100, add_suffix = True)\n",
    "    \n",
    "    def tendency(price, vol):    \n",
    "        df_diff = np.diff(price)\n",
    "        val = (df_diff/price[1:])*100\n",
    "        power = np.sum(val*vol[1:])\n",
    "        return(power)\n",
    "    \n",
    "    lis = []\n",
    "    for n_time_id in df['time_id'].unique():\n",
    "        df_id = df[df['time_id'] == n_time_id]        \n",
    "        tendencyV = tendency(df_id['price'].values, df_id['size'].values)      \n",
    "        f_max = np.sum(df_id['price'].values > np.mean(df_id['price'].values))\n",
    "        f_min = np.sum(df_id['price'].values < np.mean(df_id['price'].values))\n",
    "        df_max =  np.sum(np.diff(df_id['price'].values) > 0)\n",
    "        df_min =  np.sum(np.diff(df_id['price'].values) < 0)\n",
    "        # new\n",
    "        abs_diff = np.median(np.abs( df_id['price'].values - np.mean(df_id['price'].values)))        \n",
    "        energy = np.mean(df_id['price'].values**2)\n",
    "        iqr_p = np.percentile(df_id['price'].values,75) - np.percentile(df_id['price'].values,25)\n",
    "        \n",
    "        # vol vars\n",
    "        \n",
    "        abs_diff_v = np.median(np.abs( df_id['size'].values - np.mean(df_id['size'].values)))        \n",
    "        energy_v = np.sum(df_id['size'].values**2)\n",
    "        iqr_p_v = np.percentile(df_id['size'].values,75) - np.percentile(df_id['size'].values,25)\n",
    "        \n",
    "        lis.append({'time_id':n_time_id,'tendency':tendencyV,'f_max':f_max,'f_min':f_min,'df_max':df_max,'df_min':df_min,\n",
    "                   'abs_diff':abs_diff,'energy':energy,'iqr_p':iqr_p,'abs_diff_v':abs_diff_v,'energy_v':energy_v,'iqr_p_v':iqr_p_v})\n",
    "    \n",
    "    df_lr = pd.DataFrame(lis)\n",
    "        \n",
    "   \n",
    "    df_feature = df_feature.merge(df_lr, how = 'left', left_on = 'time_id_', right_on = 'time_id')\n",
    "    \n",
    "    # Merge all\n",
    "    df_feature = df_feature.merge(df_feature_500, how = 'left', left_on = 'time_id_', right_on = 'time_id__500')\n",
    "    df_feature = df_feature.merge(df_feature_400, how = 'left', left_on = 'time_id_', right_on = 'time_id__400')\n",
    "    df_feature = df_feature.merge(df_feature_300, how = 'left', left_on = 'time_id_', right_on = 'time_id__300')\n",
    "    df_feature = df_feature.merge(df_feature_200, how = 'left', left_on = 'time_id_', right_on = 'time_id__200')\n",
    "    df_feature = df_feature.merge(df_feature_100, how = 'left', left_on = 'time_id_', right_on = 'time_id__100')\n",
    "    # Drop unnecesary time_ids\n",
    "    df_feature.drop(['time_id__500','time_id__400', 'time_id__300', 'time_id__200','time_id','time_id__100'], axis = 1, inplace = True)\n",
    "    \n",
    "    \n",
    "    df_feature = df_feature.add_prefix('trade_')\n",
    "    stock_id = file_path.split('=')[1]\n",
    "    df_feature['row_id'] = df_feature['trade_time_id_'].apply(lambda x:f'{stock_id}-{x}')\n",
    "    df_feature.drop(['trade_time_id_'], axis = 1, inplace = True)\n",
    "    return df_feature\n",
    "\n",
    "# Function to get group stats for the stock_id and time_id\n",
    "def get_time_stock(df):\n",
    "    vol_cols = ['log_return1_realized_volatility', 'log_return2_realized_volatility', 'log_return1_realized_volatility_400', 'log_return2_realized_volatility_400', \n",
    "                'log_return1_realized_volatility_300', 'log_return2_realized_volatility_300', 'log_return1_realized_volatility_200', 'log_return2_realized_volatility_200', \n",
    "                'trade_log_return_realized_volatility', 'trade_log_return_realized_volatility_400', 'trade_log_return_realized_volatility_300', 'trade_log_return_realized_volatility_200']\n",
    "\n",
    "\n",
    "    # Group by the stock id\n",
    "    df_stock_id = df.groupby(['stock_id'])[vol_cols].agg(['mean', 'std', 'max', 'min', ]).reset_index()\n",
    "    # Rename columns joining suffix\n",
    "    df_stock_id.columns = ['_'.join(col) for col in df_stock_id.columns]\n",
    "    df_stock_id = df_stock_id.add_suffix('_' + 'stock')\n",
    "\n",
    "    # Group by the stock id\n",
    "    df_time_id = df.groupby(['time_id'])[vol_cols].agg(['mean', 'std', 'max', 'min', ]).reset_index()\n",
    "    # Rename columns joining suffix\n",
    "    df_time_id.columns = ['_'.join(col) for col in df_time_id.columns]\n",
    "    df_time_id = df_time_id.add_suffix('_' + 'time')\n",
    "    \n",
    "    # Merge with original dataframe\n",
    "    df = df.merge(df_stock_id, how = 'left', left_on = ['stock_id'], right_on = ['stock_id__stock'])\n",
    "    df = df.merge(df_time_id, how = 'left', left_on = ['time_id'], right_on = ['time_id__time'])\n",
    "    df.drop(['stock_id__stock', 'time_id__time'], axis = 1, inplace = True)\n",
    "    return df\n",
    "    \n",
    "# Funtion to make preprocessing function in parallel (for each stock id)\n",
    "def preprocessor(list_stock_ids, is_train = True):\n",
    "    \n",
    "    # Parrallel for loop\n",
    "    def for_joblib(stock_id):\n",
    "        # Train\n",
    "        if is_train:\n",
    "            file_path_book = data_dir + \"/book_train.parquet/stock_id=\" + str(stock_id)\n",
    "            file_path_trade = data_dir + \"/trade_train.parquet/stock_id=\" + str(stock_id)\n",
    "        # Test\n",
    "        else:\n",
    "            file_path_book = data_dir + \"/book_test.parquet/stock_id=\" + str(stock_id)\n",
    "            file_path_trade = data_dir + \"/trade_test.parquet/stock_id=\" + str(stock_id)\n",
    "    \n",
    "        # Preprocess book and trade data and merge them\n",
    "        df_tmp = pd.merge(book_preprocessor(file_path_book), trade_preprocessor(file_path_trade), on = 'row_id', how = 'left')\n",
    "        \n",
    "        # Return the merge dataframe\n",
    "        return df_tmp\n",
    "    \n",
    "    # Use parallel api to call paralle for loop\n",
    "    df = Parallel(n_jobs = -1, verbose = 1)(delayed(for_joblib)(stock_id) for stock_id in list_stock_ids)\n",
    "    # Concatenate all the dataframes that return from Parallel\n",
    "    df = pd.concat(df, ignore_index = True)\n",
    "    return df\n",
    "\n",
    "# Function to calculate the root mean squared percentage error\n",
    "def rmspe(y_true, y_pred):\n",
    "    return np.sqrt(np.mean(np.square((y_true - y_pred) / y_true)))\n",
    "\n",
    "# Function to early stop with root mean squared percentage error\n",
    "def feval_rmspe(y_pred, lgb_train):\n",
    "    y_true = lgb_train.get_label()\n",
    "    return 'RMSPE', rmspe(y_true, y_pred), False"
   ]
  },
  {
   "cell_type": "code",
   "execution_count": 5,
   "id": "09c306b0",
   "metadata": {
    "_cell_guid": "7e27f391-4b1d-404c-af0f-032e3db59084",
    "_uuid": "682cbed9-f863-476c-a3d0-0d5d23213411",
    "execution": {
     "iopub.execute_input": "2021-09-18T05:56:49.495589Z",
     "iopub.status.busy": "2021-09-18T05:56:49.495007Z",
     "iopub.status.idle": "2021-09-18T05:56:52.314989Z",
     "shell.execute_reply": "2021-09-18T05:56:52.315605Z",
     "shell.execute_reply.started": "2021-09-01T09:00:07.018918Z"
    },
    "jupyter": {
     "outputs_hidden": false
    },
    "papermill": {
     "duration": 2.858143,
     "end_time": "2021-09-18T05:56:52.315807",
     "exception": false,
     "start_time": "2021-09-18T05:56:49.457664",
     "status": "completed"
    },
    "tags": []
   },
   "outputs": [
    {
     "name": "stdout",
     "output_type": "stream",
     "text": [
      "Our training set has 428932 rows\n"
     ]
    },
    {
     "name": "stderr",
     "output_type": "stream",
     "text": [
      "[Parallel(n_jobs=-1)]: Using backend LokyBackend with 20 concurrent workers.\n",
      "[Parallel(n_jobs=-1)]: Done   1 out of   1 | elapsed:    0.5s finished\n"
     ]
    }
   ],
   "source": [
    "# Read train and test\n",
    "train, test = read_train_test()\n",
    "\n",
    "# Get unique stock ids \n",
    "# train_stock_ids = train['stock_id'].unique()\n",
    "# Preprocess them using Parallel and our single stock id functions\n",
    "# train_ = preprocessor(train_stock_ids, is_train = True)\n",
    "# train = train.merge(train_, on = ['row_id'], how = 'left')\n",
    "\n",
    "# Get unique stock ids \n",
    "test_stock_ids = test['stock_id'].unique()\n",
    "# Preprocess them using Parallel and our single stock id functions\n",
    "test_ = preprocessor(test_stock_ids, is_train = False)\n",
    "test = test.merge(test_, on = ['row_id'], how = 'left')\n",
    "\n",
    "# Get group stats of time_id and stock_id \n",
    "# train = get_time_stock(train)  \n",
    "test = get_time_stock(test)    "
   ]
  },
  {
   "cell_type": "code",
   "execution_count": 6,
   "id": "4adecd62",
   "metadata": {
    "_cell_guid": "752ab3c0-d9be-40fc-8c0a-b2ec406289fa",
    "_uuid": "951a39e6-a4b0-41d4-ade9-f4d5d859d0a6",
    "execution": {
     "iopub.execute_input": "2021-09-18T05:56:52.395982Z",
     "iopub.status.busy": "2021-09-18T05:56:52.395259Z",
     "iopub.status.idle": "2021-09-18T05:56:52.398325Z",
     "shell.execute_reply": "2021-09-18T05:56:52.398713Z"
    },
    "jupyter": {
     "outputs_hidden": false
    },
    "papermill": {
     "duration": 0.046244,
     "end_time": "2021-09-18T05:56:52.398845",
     "exception": false,
     "start_time": "2021-09-18T05:56:52.352601",
     "status": "completed"
    },
    "tags": []
   },
   "outputs": [],
   "source": [
    "# replace by order sum (tau)\n",
    "# train['size_tau'] = np.sqrt( 1/ train['trade_seconds_in_bucket_count_unique'] )\n",
    "test['size_tau'] = np.sqrt( 1/ test['trade_seconds_in_bucket_count_unique'] )\n",
    "# train['size_tau_400'] = np.sqrt( 1/ train['trade_seconds_in_bucket_count_unique_400'] )\n",
    "test['size_tau_400'] = np.sqrt( 1/ test['trade_seconds_in_bucket_count_unique_400'] )\n",
    "# train['size_tau_300'] = np.sqrt( 1/ train['trade_seconds_in_bucket_count_unique_300'] )\n",
    "test['size_tau_300'] = np.sqrt( 1/ test['trade_seconds_in_bucket_count_unique_300'] )\n",
    "# train['size_tau_200'] = np.sqrt( 1/ train['trade_seconds_in_bucket_count_unique_200'] )\n",
    "test['size_tau_200'] = np.sqrt( 1/ test['trade_seconds_in_bucket_count_unique_200'] )"
   ]
  },
  {
   "cell_type": "code",
   "execution_count": 7,
   "id": "cbdffdf8",
   "metadata": {
    "_cell_guid": "f8236f0e-db9a-4222-8c68-e1196e8009da",
    "_uuid": "172424a6-3ac3-44f0-9365-75cc32fbd25f",
    "execution": {
     "iopub.execute_input": "2021-09-18T05:56:52.477811Z",
     "iopub.status.busy": "2021-09-18T05:56:52.477142Z",
     "iopub.status.idle": "2021-09-18T05:56:52.480754Z",
     "shell.execute_reply": "2021-09-18T05:56:52.480190Z",
     "shell.execute_reply.started": "2021-08-31T15:14:54.895436Z"
    },
    "jupyter": {
     "outputs_hidden": false
    },
    "papermill": {
     "duration": 0.046785,
     "end_time": "2021-09-18T05:56:52.480861",
     "exception": false,
     "start_time": "2021-09-18T05:56:52.434076",
     "status": "completed"
    },
    "tags": []
   },
   "outputs": [],
   "source": [
    "# train['size_tau2'] = np.sqrt( 1/ train['trade_order_count_sum'] )\n",
    "test['size_tau2'] = np.sqrt( 1/ test['trade_order_count_sum'] )\n",
    "# train['size_tau2_400'] = np.sqrt( 0.33/ train['trade_order_count_sum'] )\n",
    "test['size_tau2_400'] = np.sqrt( 0.33/ test['trade_order_count_sum'] )\n",
    "# train['size_tau2_300'] = np.sqrt( 0.5/ train['trade_order_count_sum'] )\n",
    "test['size_tau2_300'] = np.sqrt( 0.5/ test['trade_order_count_sum'] )\n",
    "# train['size_tau2_200'] = np.sqrt( 0.66/ train['trade_order_count_sum'] )\n",
    "test['size_tau2_200'] = np.sqrt( 0.66/ test['trade_order_count_sum'] )\n",
    "\n",
    "\n",
    "# train['size_tau2_d'] = train['size_tau2_400'] - train['size_tau2']\n",
    "test['size_tau2_d'] = test['size_tau2_400'] - test['size_tau2']"
   ]
  },
  {
   "cell_type": "code",
   "execution_count": 8,
   "id": "41267614",
   "metadata": {
    "execution": {
     "iopub.execute_input": "2021-09-18T05:56:52.552962Z",
     "iopub.status.busy": "2021-09-18T05:56:52.552425Z",
     "iopub.status.idle": "2021-09-18T05:56:57.183112Z",
     "shell.execute_reply": "2021-09-18T05:56:57.182631Z"
    },
    "papermill": {
     "duration": 4.667812,
     "end_time": "2021-09-18T05:56:57.183275",
     "exception": false,
     "start_time": "2021-09-18T05:56:52.515463",
     "status": "completed"
    },
    "tags": []
   },
   "outputs": [],
   "source": [
    "train = pd.read_pickle(f\"{data_dir}/train_lgb_hy13_090716_after_size_tau2_d.pkl\")"
   ]
  },
  {
   "cell_type": "code",
   "execution_count": 9,
   "id": "5195984e",
   "metadata": {
    "_cell_guid": "01dd32c9-a254-44b1-a22d-b5d8258ecea0",
    "_uuid": "3cb65021-a5c9-44ba-9873-f6c201382e62",
    "execution": {
     "iopub.execute_input": "2021-09-18T05:56:57.258365Z",
     "iopub.status.busy": "2021-09-18T05:56:57.257483Z",
     "iopub.status.idle": "2021-09-18T05:56:57.261605Z",
     "shell.execute_reply": "2021-09-18T05:56:57.261180Z",
     "shell.execute_reply.started": "2021-08-31T15:14:54.934394Z"
    },
    "jupyter": {
     "outputs_hidden": false
    },
    "papermill": {
     "duration": 0.044299,
     "end_time": "2021-09-18T05:56:57.261719",
     "exception": false,
     "start_time": "2021-09-18T05:56:57.217420",
     "status": "completed"
    },
    "tags": []
   },
   "outputs": [
    {
     "data": {
      "text/plain": [
       "194"
      ]
     },
     "execution_count": 9,
     "metadata": {},
     "output_type": "execute_result"
    }
   ],
   "source": [
    "colNames = [col for col in list(train.columns) if col not in {\"stock_id\", \"time_id\", \"target\", \"row_id\"}]\n",
    "len(colNames)"
   ]
  },
  {
   "cell_type": "code",
   "execution_count": 10,
   "id": "9292b21e",
   "metadata": {
    "_cell_guid": "7bb2399f-f980-4ab4-9555-9a16e8f6677d",
    "_uuid": "c58ba138-6eaa-41fd-8b96-098c8ba469ed",
    "execution": {
     "iopub.execute_input": "2021-09-18T05:56:57.339244Z",
     "iopub.status.busy": "2021-09-18T05:56:57.338600Z",
     "iopub.status.idle": "2021-09-18T05:56:59.339188Z",
     "shell.execute_reply": "2021-09-18T05:56:59.338651Z",
     "shell.execute_reply.started": "2021-08-31T15:14:54.948483Z"
    },
    "jupyter": {
     "outputs_hidden": false
    },
    "papermill": {
     "duration": 2.043338,
     "end_time": "2021-09-18T05:56:59.339321",
     "exception": false,
     "start_time": "2021-09-18T05:56:57.295983",
     "status": "completed"
    },
    "tags": []
   },
   "outputs": [
    {
     "name": "stdout",
     "output_type": "stream",
     "text": [
      "[1 0 4 2 1 1 2 4 6 2 1 0 4 4 1 1 1 2 4 4 4 0 1 1 3 1 1 4 3 4 3 4 4 1 3 3 4\n",
      " 3 4 1 4 1 4 4 1 0 4 4 1 0 0 3 3 3 2 0 2 4 1 4 4 1 4 1 0 3 3 0 3 0 6 5 3 3\n",
      " 0 1 2 0 3 3 3 4 1 1 0 2 3 3 1 0 1 4 4 4 4 4 1 3 1 0 1 4 1 0 1 4 1 0 4 0 4\n",
      " 0]\n",
      "[1, 11, 22, 50, 55, 56, 62, 73, 76, 78, 84, 87, 96, 101, 112, 116, 122, 124, 126]\n",
      "[0, 4, 5, 10, 15, 16, 17, 23, 26, 28, 29, 36, 42, 44, 48, 53, 66, 69, 72, 85, 94, 95, 100, 102, 109, 111, 113, 115, 118, 120]\n",
      "[3, 6, 9, 18, 61, 63, 86, 97]\n",
      "[27, 31, 33, 37, 38, 40, 58, 59, 60, 74, 75, 77, 82, 83, 88, 89, 90, 98, 99, 110]\n",
      "[2, 7, 13, 14, 19, 20, 21, 30, 32, 34, 35, 39, 41, 43, 46, 47, 51, 52, 64, 67, 68, 70, 93, 103, 104, 105, 107, 108, 114, 119, 123, 125]\n",
      "[81]\n",
      "[8, 80]\n"
     ]
    }
   ],
   "source": [
    "from sklearn.cluster import KMeans\n",
    "# making agg features\n",
    "\n",
    "train_p = pd.read_csv(f'{data_dir}/train.csv')\n",
    "train_p = train_p.pivot(index='time_id', columns='stock_id', values='target')\n",
    "corr = train_p.corr()\n",
    "ids = corr.index\n",
    "\n",
    "kmeans = KMeans(n_clusters=7, random_state=0).fit(corr.values)\n",
    "print(kmeans.labels_)\n",
    "\n",
    "l = []\n",
    "for n in range(7):\n",
    "    l.append ( [ (x-1) for x in ( (ids+1)*(kmeans.labels_ == n)) if x > 0] )\n",
    "    \n",
    "\n",
    "mat = []\n",
    "matTest = []\n",
    "\n",
    "n = 0\n",
    "for ind in l:\n",
    "    print(ind)\n",
    "    newDf = train.loc[train['stock_id'].isin(ind) ]\n",
    "    newDf = newDf.groupby(['time_id']).agg(np.nanmean)\n",
    "    newDf.loc[:,'stock_id'] = str(n)+'c1'\n",
    "    mat.append ( newDf )\n",
    "    \n",
    "    newDf = test.loc[test['stock_id'].isin(ind) ]    \n",
    "    newDf = newDf.groupby(['time_id']).agg(np.nanmean)\n",
    "    newDf.loc[:,'stock_id'] = str(n)+'c1'\n",
    "    matTest.append ( newDf )\n",
    "    \n",
    "    n+=1\n",
    "    \n",
    "mat1 = pd.concat(mat).reset_index()\n",
    "mat1.drop(columns=['target'],inplace=True)\n",
    "\n",
    "mat2 = pd.concat(matTest).reset_index()"
   ]
  },
  {
   "cell_type": "code",
   "execution_count": 11,
   "id": "1d13dd50",
   "metadata": {
    "_cell_guid": "27870a1d-3d87-4f27-89f1-c51599103193",
    "_uuid": "fbbe0a85-9780-4878-92d6-fa6244afc7b5",
    "execution": {
     "iopub.execute_input": "2021-09-18T05:56:59.422297Z",
     "iopub.status.busy": "2021-09-18T05:56:59.421405Z",
     "iopub.status.idle": "2021-09-18T05:56:59.600417Z",
     "shell.execute_reply": "2021-09-18T05:56:59.601154Z",
     "shell.execute_reply.started": "2021-08-31T15:14:56.736126Z"
    },
    "jupyter": {
     "outputs_hidden": false
    },
    "papermill": {
     "duration": 0.224634,
     "end_time": "2021-09-18T05:56:59.601334",
     "exception": false,
     "start_time": "2021-09-18T05:56:59.376700",
     "status": "completed"
    },
    "tags": []
   },
   "outputs": [
    {
     "name": "stderr",
     "output_type": "stream",
     "text": [
      "<ipython-input-11-59019010fc55>:3: FutureWarning: Index.ravel returning ndarray is deprecated; in a future version this will return a view on self.\n",
      "  mat1.columns = [\"_\".join(x) for x in mat1.columns.ravel()]\n",
      "<ipython-input-11-59019010fc55>:7: FutureWarning: Index.ravel returning ndarray is deprecated; in a future version this will return a view on self.\n",
      "  mat2.columns = [\"_\".join(x) for x in mat2.columns.ravel()]\n"
     ]
    }
   ],
   "source": [
    "mat2 = pd.concat([mat2,mat1.loc[mat1.time_id==5]])\n",
    "mat1 = mat1.pivot(index='time_id', columns='stock_id')\n",
    "mat1.columns = [\"_\".join(x) for x in mat1.columns.ravel()]\n",
    "mat1.reset_index(inplace=True)\n",
    "\n",
    "mat2 = mat2.pivot(index='time_id', columns='stock_id')\n",
    "mat2.columns = [\"_\".join(x) for x in mat2.columns.ravel()]\n",
    "mat2.reset_index(inplace=True)"
   ]
  },
  {
   "cell_type": "code",
   "execution_count": 12,
   "id": "8670fd72",
   "metadata": {
    "_cell_guid": "5f40f9bc-b5d6-4d47-b3b2-02d98cb6317c",
    "_uuid": "d1455822-0691-4f54-a8ee-1a224d16e047",
    "execution": {
     "iopub.execute_input": "2021-09-18T05:56:59.681093Z",
     "iopub.status.busy": "2021-09-18T05:56:59.680222Z",
     "iopub.status.idle": "2021-09-18T05:57:07.230379Z",
     "shell.execute_reply": "2021-09-18T05:57:07.229903Z",
     "shell.execute_reply.started": "2021-08-31T15:14:56.87681Z"
    },
    "jupyter": {
     "outputs_hidden": false
    },
    "papermill": {
     "duration": 7.593506,
     "end_time": "2021-09-18T05:57:07.230512",
     "exception": false,
     "start_time": "2021-09-18T05:56:59.637006",
     "status": "completed"
    },
    "tags": []
   },
   "outputs": [],
   "source": [
    "nnn = ['time_id',\n",
    "     'log_return1_realized_volatility_0c1',\n",
    "     'log_return1_realized_volatility_1c1',     \n",
    "     'log_return1_realized_volatility_3c1',\n",
    "     'log_return1_realized_volatility_4c1',     \n",
    "     'log_return1_realized_volatility_6c1',\n",
    "     'total_volume_sum_0c1',\n",
    "     'total_volume_sum_1c1', \n",
    "     'total_volume_sum_3c1',\n",
    "     'total_volume_sum_4c1', \n",
    "     'total_volume_sum_6c1',\n",
    "     'trade_size_sum_0c1',\n",
    "     'trade_size_sum_1c1', \n",
    "     'trade_size_sum_3c1',\n",
    "     'trade_size_sum_4c1', \n",
    "     'trade_size_sum_6c1',\n",
    "     'trade_order_count_sum_0c1',\n",
    "     'trade_order_count_sum_1c1',\n",
    "     'trade_order_count_sum_3c1',\n",
    "     'trade_order_count_sum_4c1',\n",
    "     'trade_order_count_sum_6c1',      \n",
    "     'price_spread_sum_0c1',\n",
    "     'price_spread_sum_1c1',\n",
    "     'price_spread_sum_3c1',\n",
    "     'price_spread_sum_4c1',\n",
    "     'price_spread_sum_6c1',   \n",
    "     'bid_spread_sum_0c1',\n",
    "     'bid_spread_sum_1c1',\n",
    "     'bid_spread_sum_3c1',\n",
    "     'bid_spread_sum_4c1',\n",
    "     'bid_spread_sum_6c1',       \n",
    "     'ask_spread_sum_0c1',\n",
    "     'ask_spread_sum_1c1',\n",
    "     'ask_spread_sum_3c1',\n",
    "     'ask_spread_sum_4c1',\n",
    "     'ask_spread_sum_6c1',   \n",
    "     'volume_imbalance_sum_0c1',\n",
    "     'volume_imbalance_sum_1c1',\n",
    "     'volume_imbalance_sum_3c1',\n",
    "     'volume_imbalance_sum_4c1',\n",
    "     'volume_imbalance_sum_6c1',       \n",
    "     'bid_ask_spread_sum_0c1',\n",
    "     'bid_ask_spread_sum_1c1',\n",
    "     'bid_ask_spread_sum_3c1',\n",
    "     'bid_ask_spread_sum_4c1',\n",
    "     'bid_ask_spread_sum_6c1',\n",
    "     'size_tau2_0c1',\n",
    "     'size_tau2_1c1',\n",
    "     'size_tau2_3c1',\n",
    "     'size_tau2_4c1',\n",
    "     'size_tau2_6c1'] \n",
    "train = pd.merge(train,mat1[nnn],how='left',on='time_id')\n",
    "test = pd.merge(test,mat2[nnn],how='left',on='time_id')"
   ]
  },
  {
   "cell_type": "code",
   "execution_count": 13,
   "id": "c9a207b9",
   "metadata": {
    "_cell_guid": "96e87fb0-46a5-4857-b111-213cfe46fa10",
    "_uuid": "ba3cf7cb-9625-4489-a005-c80e08ed1f59",
    "execution": {
     "iopub.execute_input": "2021-09-18T05:57:07.412756Z",
     "iopub.status.busy": "2021-09-18T05:57:07.411975Z",
     "iopub.status.idle": "2021-09-18T05:57:07.415240Z",
     "shell.execute_reply": "2021-09-18T05:57:07.415669Z",
     "shell.execute_reply.started": "2021-08-31T15:15:07.514163Z"
    },
    "jupyter": {
     "outputs_hidden": false
    },
    "papermill": {
     "duration": 0.14966,
     "end_time": "2021-09-18T05:57:07.415816",
     "exception": false,
     "start_time": "2021-09-18T05:57:07.266156",
     "status": "completed"
    },
    "tags": []
   },
   "outputs": [
    {
     "data": {
      "text/plain": [
       "15"
      ]
     },
     "execution_count": 13,
     "metadata": {},
     "output_type": "execute_result"
    }
   ],
   "source": [
    "import gc\n",
    "del mat1,mat2\n",
    "gc.collect()"
   ]
  },
  {
   "cell_type": "code",
   "execution_count": 14,
   "id": "9b832c79",
   "metadata": {
    "_cell_guid": "7ed80701-93fe-4f67-9e56-b81e96f87771",
    "_uuid": "00f3cc82-29bb-4ca9-8dde-e485c6fc5bf7",
    "execution": {
     "iopub.execute_input": "2021-09-18T06:48:20.531916Z",
     "iopub.status.busy": "2021-09-18T06:48:20.531418Z",
     "iopub.status.idle": "2021-09-18T06:48:20.536720Z",
     "shell.execute_reply": "2021-09-18T06:48:20.537083Z",
     "shell.execute_reply.started": "2021-08-31T15:56:49.202798Z"
    },
    "jupyter": {
     "outputs_hidden": false
    },
    "papermill": {
     "duration": 0.06328,
     "end_time": "2021-09-18T06:48:20.537204",
     "exception": false,
     "start_time": "2021-09-18T06:48:20.473924",
     "status": "completed"
    },
    "tags": []
   },
   "outputs": [
    {
     "data": {
      "text/plain": [
       "248"
      ]
     },
     "execution_count": 14,
     "metadata": {},
     "output_type": "execute_result"
    }
   ],
   "source": [
    "train.shape[1]"
   ]
  },
  {
   "cell_type": "markdown",
   "id": "0f955a88",
   "metadata": {
    "papermill": {
     "duration": 0.05371,
     "end_time": "2021-09-18T06:48:20.645046",
     "exception": false,
     "start_time": "2021-09-18T06:48:20.591336",
     "status": "completed"
    },
    "tags": []
   },
   "source": [
    "# NN"
   ]
  },
  {
   "cell_type": "code",
   "execution_count": 15,
   "id": "5676a237",
   "metadata": {
    "_cell_guid": "11a4c5fb-cb46-40c9-bd5a-e700c50dfa51",
    "_uuid": "01fc824d-2d8f-451c-873b-80e8f51c2629",
    "execution": {
     "iopub.execute_input": "2021-09-18T06:48:20.759233Z",
     "iopub.status.busy": "2021-09-18T06:48:20.758604Z",
     "iopub.status.idle": "2021-09-18T06:48:25.203146Z",
     "shell.execute_reply": "2021-09-18T06:48:25.202646Z",
     "shell.execute_reply.started": "2021-08-31T15:56:49.211961Z"
    },
    "jupyter": {
     "outputs_hidden": false
    },
    "papermill": {
     "duration": 4.504802,
     "end_time": "2021-09-18T06:48:25.203296",
     "exception": false,
     "start_time": "2021-09-18T06:48:20.698494",
     "status": "completed"
    },
    "tags": []
   },
   "outputs": [],
   "source": [
    "from numpy.random import seed\n",
    "seed(42)\n",
    "import tensorflow as tf\n",
    "tf.random.set_seed(42)\n",
    "from tensorflow import keras\n",
    "import numpy as np\n",
    "# from keras import backend as K\n",
    "from tensorflow.keras import backend as K\n",
    "\n",
    "def root_mean_squared_per_error(y_true, y_pred):\n",
    "    return K.sqrt(K.mean(K.square( (y_true - y_pred)/ y_true )))\n",
    "    \n",
    "es = tf.keras.callbacks.EarlyStopping(\n",
    "    monitor='val_loss', patience=20, verbose=0,\n",
    "    mode='min',restore_best_weights=True)\n",
    "\n",
    "plateau = tf.keras.callbacks.ReduceLROnPlateau(\n",
    "    monitor='val_loss', factor=0.2, patience=7, verbose=0,\n",
    "    mode='min')"
   ]
  },
  {
   "cell_type": "code",
   "execution_count": 16,
   "id": "fac1bfe4",
   "metadata": {
    "_cell_guid": "2fd93222-9c45-419b-816c-747b1fa8b682",
    "_uuid": "19630c75-0fc8-4aaa-86e4-e7ec9a0cb080",
    "execution": {
     "iopub.execute_input": "2021-09-18T06:48:25.328281Z",
     "iopub.status.busy": "2021-09-18T06:48:25.327727Z",
     "iopub.status.idle": "2021-09-18T06:48:34.062554Z",
     "shell.execute_reply": "2021-09-18T06:48:34.061721Z",
     "shell.execute_reply.started": "2021-08-31T15:56:56.402142Z"
    },
    "jupyter": {
     "outputs_hidden": false
    },
    "papermill": {
     "duration": 8.804336,
     "end_time": "2021-09-18T06:48:34.062787",
     "exception": false,
     "start_time": "2021-09-18T06:48:25.258451",
     "status": "completed"
    },
    "tags": []
   },
   "outputs": [],
   "source": [
    "# kfold based on the knn++ algorithm\n",
    "\n",
    "out_train = pd.read_csv(f'{data_dir}/train.csv')\n",
    "out_train = out_train.pivot(index='time_id', columns='stock_id', values='target')\n",
    "\n",
    "#out_train[out_train.isna().any(axis=1)]\n",
    "out_train = out_train.fillna(out_train.mean())\n",
    "out_train.head()\n",
    "\n",
    "# code to add the just the read data after first execution\n",
    "\n",
    "# data separation based on knn ++\n",
    "nfolds = 5 # number of folds\n",
    "index = []\n",
    "totDist = []\n",
    "values = []\n",
    "# generates a matriz with the values of \n",
    "mat = out_train.values\n",
    "\n",
    "scaler = MinMaxScaler(feature_range=(-1, 1))\n",
    "mat = scaler.fit_transform(mat)\n",
    "\n",
    "nind = int(mat.shape[0]/nfolds) # number of individuals\n",
    "\n",
    "# adds index in the last column\n",
    "mat = np.c_[mat,np.arange(mat.shape[0])]\n",
    "\n",
    "\n",
    "lineNumber = np.random.choice(np.array(mat.shape[0]), size=nfolds, replace=False)\n",
    "\n",
    "lineNumber = np.sort(lineNumber)[::-1]\n",
    "\n",
    "for n in range(nfolds):\n",
    "    totDist.append(np.zeros(mat.shape[0]-nfolds))\n",
    "\n",
    "# saves index\n",
    "for n in range(nfolds):\n",
    "    \n",
    "    values.append([lineNumber[n]])    \n",
    "\n",
    "\n",
    "s=[]\n",
    "for n in range(nfolds):\n",
    "    s.append(mat[lineNumber[n],:])\n",
    "    \n",
    "    mat = np.delete(mat, obj=lineNumber[n], axis=0)\n",
    "\n",
    "for n in range(nind-1):    \n",
    "\n",
    "    luck = np.random.uniform(0,1,nfolds)\n",
    "    \n",
    "    for cycle in range(nfolds):\n",
    "         # saves the values of index           \n",
    "\n",
    "        s[cycle] = np.matlib.repmat(s[cycle], mat.shape[0], 1)\n",
    "\n",
    "        sumDist = np.sum( (mat[:,:-1] - s[cycle][:,:-1])**2 , axis=1)   \n",
    "        totDist[cycle] += sumDist        \n",
    "                \n",
    "        # probabilities\n",
    "        f = totDist[cycle]/np.sum(totDist[cycle]) # normalizing the totdist\n",
    "        j = 0\n",
    "        kn = 0\n",
    "        for val in f:\n",
    "            j += val        \n",
    "            if (j > luck[cycle]): # the column was selected\n",
    "                break\n",
    "            kn +=1\n",
    "        lineNumber[cycle] = kn\n",
    "        \n",
    "        # delete line of the value added    \n",
    "        for n_iter in range(nfolds):\n",
    "            \n",
    "            totDist[n_iter] = np.delete(totDist[n_iter],obj=lineNumber[cycle], axis=0)\n",
    "            j= 0\n",
    "        \n",
    "        s[cycle] = mat[lineNumber[cycle],:]\n",
    "        values[cycle].append(int(mat[lineNumber[cycle],-1]))\n",
    "        mat = np.delete(mat, obj=lineNumber[cycle], axis=0)\n",
    "\n",
    "\n",
    "for n_mod in range(nfolds):\n",
    "    values[n_mod] = out_train.index[values[n_mod]]"
   ]
  },
  {
   "cell_type": "code",
   "execution_count": 17,
   "id": "3686167e",
   "metadata": {
    "_cell_guid": "1798d10c-8cb0-4101-9601-fa4c5b3741ad",
    "_uuid": "89b3bd20-b63e-49c8-9a70-f85e29c8c7f5",
    "execution": {
     "iopub.execute_input": "2021-09-18T06:48:34.189042Z",
     "iopub.status.busy": "2021-09-18T06:48:34.187324Z",
     "iopub.status.idle": "2021-09-18T06:48:58.133853Z",
     "shell.execute_reply": "2021-09-18T06:48:58.133348Z",
     "shell.execute_reply.started": "2021-08-31T15:57:09.206423Z"
    },
    "jupyter": {
     "outputs_hidden": false
    },
    "papermill": {
     "duration": 24.011541,
     "end_time": "2021-09-18T06:48:58.134007",
     "exception": false,
     "start_time": "2021-09-18T06:48:34.122466",
     "status": "completed"
    },
    "tags": []
   },
   "outputs": [],
   "source": [
    "#colNames.remove('row_id')\n",
    "train.replace([np.inf, -np.inf], np.nan,inplace=True)\n",
    "test.replace([np.inf, -np.inf], np.nan,inplace=True)\n",
    "qt_train = []\n",
    "train_nn=train[colNames].copy()\n",
    "test_nn=test[colNames].copy()\n",
    "for col in colNames:\n",
    "    #print(col)\n",
    "    qt = QuantileTransformer(random_state=21,n_quantiles=2000, output_distribution='normal')\n",
    "    train_nn[col] = qt.fit_transform(train_nn[[col]])\n",
    "    test_nn[col] = qt.transform(test_nn[[col]])    \n",
    "    qt_train.append(qt)"
   ]
  },
  {
   "cell_type": "code",
   "execution_count": 18,
   "id": "a1d448f7",
   "metadata": {
    "_cell_guid": "b6cff8d8-1456-41b5-8668-b311de3725d8",
    "_uuid": "6cf7c998-e056-410a-892a-102ad7741889",
    "execution": {
     "iopub.execute_input": "2021-09-18T06:48:58.252249Z",
     "iopub.status.busy": "2021-09-18T06:48:58.251106Z",
     "iopub.status.idle": "2021-09-18T06:48:58.259266Z",
     "shell.execute_reply": "2021-09-18T06:48:58.258802Z",
     "shell.execute_reply.started": "2021-08-31T15:57:48.14844Z"
    },
    "jupyter": {
     "outputs_hidden": false
    },
    "papermill": {
     "duration": 0.070305,
     "end_time": "2021-09-18T06:48:58.259390",
     "exception": false,
     "start_time": "2021-09-18T06:48:58.189085",
     "status": "completed"
    },
    "tags": []
   },
   "outputs": [],
   "source": [
    "train_nn[['stock_id','time_id','target']]=train[['stock_id','time_id','target']]\n",
    "test_nn[['stock_id','time_id']]=test[['stock_id','time_id']]"
   ]
  },
  {
   "cell_type": "code",
   "execution_count": 19,
   "id": "af3cde75",
   "metadata": {
    "_cell_guid": "7028bfbb-6f6a-4d02-a962-173438704b44",
    "_uuid": "0dac85b1-1a3a-4ffd-b649-46481220227f",
    "execution": {
     "iopub.execute_input": "2021-09-18T06:48:58.380734Z",
     "iopub.status.busy": "2021-09-18T06:48:58.380190Z",
     "iopub.status.idle": "2021-09-18T06:48:59.866459Z",
     "shell.execute_reply": "2021-09-18T06:48:59.867202Z",
     "shell.execute_reply.started": "2021-08-31T15:57:48.169947Z"
    },
    "jupyter": {
     "outputs_hidden": false
    },
    "papermill": {
     "duration": 1.551964,
     "end_time": "2021-09-18T06:48:59.867385",
     "exception": false,
     "start_time": "2021-09-18T06:48:58.315421",
     "status": "completed"
    },
    "tags": []
   },
   "outputs": [
    {
     "name": "stdout",
     "output_type": "stream",
     "text": [
      "[1 0 4 2 1 1 2 4 6 2 1 0 4 4 1 1 1 2 4 4 4 0 1 1 3 1 1 4 3 4 3 4 4 1 3 3 4\n",
      " 3 4 1 4 1 4 4 1 0 4 4 1 0 0 3 3 3 2 0 2 4 1 4 4 1 4 1 0 3 3 0 3 0 6 5 3 3\n",
      " 0 1 2 0 3 3 3 4 1 1 0 2 3 3 1 0 1 4 4 4 4 4 1 3 1 0 1 4 1 0 1 4 1 0 4 0 4\n",
      " 0]\n",
      "[1, 11, 22, 50, 55, 56, 62, 73, 76, 78, 84, 87, 96, 101, 112, 116, 122, 124, 126]\n",
      "[0, 4, 5, 10, 15, 16, 17, 23, 26, 28, 29, 36, 42, 44, 48, 53, 66, 69, 72, 85, 94, 95, 100, 102, 109, 111, 113, 115, 118, 120]\n",
      "[3, 6, 9, 18, 61, 63, 86, 97]\n",
      "[27, 31, 33, 37, 38, 40, 58, 59, 60, 74, 75, 77, 82, 83, 88, 89, 90, 98, 99, 110]\n",
      "[2, 7, 13, 14, 19, 20, 21, 30, 32, 34, 35, 39, 41, 43, 46, 47, 51, 52, 64, 67, 68, 70, 93, 103, 104, 105, 107, 108, 114, 119, 123, 125]\n",
      "[81]\n",
      "[8, 80]\n"
     ]
    }
   ],
   "source": [
    "# making agg features\n",
    "from sklearn.cluster import KMeans\n",
    "train_p = pd.read_csv(f'{data_dir}/train.csv')\n",
    "train_p = train_p.pivot(index='time_id', columns='stock_id', values='target')\n",
    "\n",
    "corr = train_p.corr()\n",
    "\n",
    "ids = corr.index\n",
    "\n",
    "kmeans = KMeans(n_clusters=7, random_state=0).fit(corr.values)\n",
    "print(kmeans.labels_)\n",
    "\n",
    "l = []\n",
    "for n in range(7):\n",
    "    l.append ( [ (x-1) for x in ( (ids+1)*(kmeans.labels_ == n)) if x > 0] )\n",
    "     \n",
    "\n",
    "mat = []\n",
    "matTest = []\n",
    "\n",
    "n = 0\n",
    "for ind in l:\n",
    "    print(ind)\n",
    "    newDf = train_nn.loc[train_nn['stock_id'].isin(ind) ]\n",
    "    newDf = newDf.groupby(['time_id']).agg(np.nanmean)\n",
    "    newDf.loc[:,'stock_id'] = str(n)+'c1'\n",
    "    mat.append ( newDf )\n",
    "    \n",
    "    newDf = test_nn.loc[test_nn['stock_id'].isin(ind) ]    \n",
    "    newDf = newDf.groupby(['time_id']).agg(np.nanmean)\n",
    "    newDf.loc[:,'stock_id'] = str(n)+'c1'\n",
    "    matTest.append ( newDf )\n",
    "    \n",
    "    n+=1\n",
    "    \n",
    "mat1 = pd.concat(mat).reset_index()\n",
    "mat1.drop(columns=['target'],inplace=True)\n",
    "\n",
    "mat2 = pd.concat(matTest).reset_index()\n",
    "mat2 = pd.concat([mat2,mat1.loc[mat1.time_id==5]])"
   ]
  },
  {
   "cell_type": "code",
   "execution_count": 20,
   "id": "0a27b8d1",
   "metadata": {
    "_cell_guid": "af91e146-a98a-48af-b631-1cb36257a31b",
    "_uuid": "9ab787de-2582-40dd-bb33-2a615f7f4638",
    "execution": {
     "iopub.execute_input": "2021-09-18T06:48:59.986124Z",
     "iopub.status.busy": "2021-09-18T06:48:59.984873Z",
     "iopub.status.idle": "2021-09-18T06:48:59.987243Z",
     "shell.execute_reply": "2021-09-18T06:48:59.987665Z",
     "shell.execute_reply.started": "2021-08-31T15:57:49.41425Z"
    },
    "jupyter": {
     "outputs_hidden": false
    },
    "papermill": {
     "duration": 0.063724,
     "end_time": "2021-09-18T06:48:59.987786",
     "exception": false,
     "start_time": "2021-09-18T06:48:59.924062",
     "status": "completed"
    },
    "tags": []
   },
   "outputs": [],
   "source": [
    "nnn = ['time_id',\n",
    "     'log_return1_realized_volatility_0c1',\n",
    "     'log_return1_realized_volatility_1c1',     \n",
    "     'log_return1_realized_volatility_3c1',\n",
    "     'log_return1_realized_volatility_4c1',     \n",
    "     'log_return1_realized_volatility_6c1',\n",
    "     'total_volume_sum_0c1',\n",
    "     'total_volume_sum_1c1', \n",
    "     'total_volume_sum_3c1',\n",
    "     'total_volume_sum_4c1', \n",
    "     'total_volume_sum_6c1',\n",
    "     'trade_size_sum_0c1',\n",
    "     'trade_size_sum_1c1', \n",
    "     'trade_size_sum_3c1',\n",
    "     'trade_size_sum_4c1', \n",
    "     'trade_size_sum_6c1',\n",
    "     'trade_order_count_sum_0c1',\n",
    "     'trade_order_count_sum_1c1',\n",
    "     'trade_order_count_sum_3c1',\n",
    "     'trade_order_count_sum_4c1',\n",
    "     'trade_order_count_sum_6c1',      \n",
    "     'price_spread_sum_0c1',\n",
    "     'price_spread_sum_1c1',\n",
    "     'price_spread_sum_3c1',\n",
    "     'price_spread_sum_4c1',\n",
    "     'price_spread_sum_6c1',   \n",
    "     'bid_spread_sum_0c1',\n",
    "     'bid_spread_sum_1c1',\n",
    "     'bid_spread_sum_3c1',\n",
    "     'bid_spread_sum_4c1',\n",
    "     'bid_spread_sum_6c1',       \n",
    "     'ask_spread_sum_0c1',\n",
    "     'ask_spread_sum_1c1',\n",
    "     'ask_spread_sum_3c1',\n",
    "     'ask_spread_sum_4c1',\n",
    "     'ask_spread_sum_6c1',   \n",
    "     'volume_imbalance_sum_0c1',\n",
    "     'volume_imbalance_sum_1c1',\n",
    "     'volume_imbalance_sum_3c1',\n",
    "     'volume_imbalance_sum_4c1',\n",
    "     'volume_imbalance_sum_6c1',       \n",
    "     'bid_ask_spread_sum_0c1',\n",
    "     'bid_ask_spread_sum_1c1',\n",
    "     'bid_ask_spread_sum_3c1',\n",
    "     'bid_ask_spread_sum_4c1',\n",
    "     'bid_ask_spread_sum_6c1',\n",
    "     'size_tau2_0c1',\n",
    "     'size_tau2_1c1',\n",
    "     'size_tau2_3c1',\n",
    "     'size_tau2_4c1',\n",
    "     'size_tau2_6c1']"
   ]
  },
  {
   "cell_type": "code",
   "execution_count": 21,
   "id": "ab9c0a29",
   "metadata": {
    "_cell_guid": "244e2ddf-e16d-4c90-82fb-e3a3a09a9407",
    "_uuid": "5b440e21-ab60-4320-87dc-edcd5fccb172",
    "execution": {
     "iopub.execute_input": "2021-09-18T06:49:00.151624Z",
     "iopub.status.busy": "2021-09-18T06:49:00.149998Z",
     "iopub.status.idle": "2021-09-18T06:49:00.297298Z",
     "shell.execute_reply": "2021-09-18T06:49:00.297711Z",
     "shell.execute_reply.started": "2021-08-31T15:57:49.42471Z"
    },
    "jupyter": {
     "outputs_hidden": false
    },
    "papermill": {
     "duration": 0.209044,
     "end_time": "2021-09-18T06:49:00.297861",
     "exception": false,
     "start_time": "2021-09-18T06:49:00.088817",
     "status": "completed"
    },
    "tags": []
   },
   "outputs": [
    {
     "name": "stderr",
     "output_type": "stream",
     "text": [
      "<ipython-input-21-79e19df2b5ab>:2: FutureWarning: Index.ravel returning ndarray is deprecated; in a future version this will return a view on self.\n",
      "  mat1.columns = [\"_\".join(x) for x in mat1.columns.ravel()]\n",
      "<ipython-input-21-79e19df2b5ab>:6: FutureWarning: Index.ravel returning ndarray is deprecated; in a future version this will return a view on self.\n",
      "  mat2.columns = [\"_\".join(x) for x in mat2.columns.ravel()]\n"
     ]
    }
   ],
   "source": [
    "mat1 = mat1.pivot(index='time_id', columns='stock_id')\n",
    "mat1.columns = [\"_\".join(x) for x in mat1.columns.ravel()]\n",
    "mat1.reset_index(inplace=True)\n",
    "\n",
    "mat2 = mat2.pivot(index='time_id', columns='stock_id')\n",
    "mat2.columns = [\"_\".join(x) for x in mat2.columns.ravel()]\n",
    "mat2.reset_index(inplace=True)"
   ]
  },
  {
   "cell_type": "code",
   "execution_count": 22,
   "id": "74d90b8d",
   "metadata": {
    "_cell_guid": "c5e264ce-4964-4f11-b015-92cb7140b125",
    "_uuid": "596b8974-9406-4721-aa4d-f3864f7ae418",
    "execution": {
     "iopub.execute_input": "2021-09-18T06:49:00.416872Z",
     "iopub.status.busy": "2021-09-18T06:49:00.416008Z",
     "iopub.status.idle": "2021-09-18T06:49:05.124314Z",
     "shell.execute_reply": "2021-09-18T06:49:05.124735Z",
     "shell.execute_reply.started": "2021-08-31T15:57:49.598947Z"
    },
    "jupyter": {
     "outputs_hidden": false
    },
    "papermill": {
     "duration": 4.770408,
     "end_time": "2021-09-18T06:49:05.124884",
     "exception": false,
     "start_time": "2021-09-18T06:49:00.354476",
     "status": "completed"
    },
    "tags": []
   },
   "outputs": [],
   "source": [
    "import gc\n",
    "train_nn = pd.merge(train_nn,mat1[nnn],how='left',on='time_id')\n",
    "test_nn = pd.merge(test_nn,mat2[nnn],how='left',on='time_id')\n",
    "del mat1,mat2\n",
    "del train,test\n",
    "gc.collect()\n",
    "\n",
    "#https://bignerdranch.com/blog/implementing-swish-activation-function-in-keras/\n",
    "from tensorflow.keras.backend import sigmoid\n",
    "def swish(x, beta = 1):\n",
    "    return (x * sigmoid(beta * x))\n",
    "\n",
    "# from tensorflow.keras.utils.generic_utils import get_custom_objects\n",
    "# from tensorflow.keras.layers import Activation\n",
    "# get_custom_objects().update({'swish': Activation(swish)})\n",
    "\n",
    "target_name='target'\n",
    "scores_folds = {}\n",
    "model_name = 'NN'\n",
    "pred_name = 'pred_{}'.format(model_name)"
   ]
  },
  {
   "cell_type": "code",
   "execution_count": 23,
   "id": "6276d4b6",
   "metadata": {},
   "outputs": [],
   "source": [
    "class GroupKFold(object):\n",
    "    \"\"\"\n",
    "    GroupKFold with random shuffle with a sklearn-like structure\n",
    "    \"\"\"\n",
    "\n",
    "    def __init__(self, n_splits=4, shuffle=True, random_state=42):\n",
    "        self.n_splits = n_splits\n",
    "        self.shuffle = shuffle\n",
    "        self.random_state = random_state\n",
    "\n",
    "    def get_n_splits(self, X=None, y=None, group=None):\n",
    "        return self.n_splits\n",
    "\n",
    "    def split(self, X, y, group):\n",
    "        kf = model_selection.KFold(n_splits=self.n_splits, shuffle=self.shuffle, random_state=self.random_state)\n",
    "        unique_ids = X[group].unique()\n",
    "        for fold, (tr_group_idx, va_group_idx) in enumerate(kf.split(unique_ids)):\n",
    "            # split group\n",
    "            tr_group, va_group = unique_ids[tr_group_idx], unique_ids[va_group_idx]\n",
    "            train_idx = np.where(X[group].isin(tr_group))[0]\n",
    "            val_idx = np.where(X[group].isin(va_group))[0]\n",
    "            yield train_idx, val_idx"
   ]
  },
  {
   "cell_type": "code",
   "execution_count": 24,
   "id": "7769a11d",
   "metadata": {
    "_cell_guid": "5c69adb0-b65d-4472-9ad8-2a698ad5bb82",
    "_uuid": "426c6450-1f00-487f-a73b-ab4967c07319",
    "execution": {
     "iopub.execute_input": "2021-09-18T06:49:05.386853Z",
     "iopub.status.busy": "2021-09-18T06:49:05.385237Z",
     "iopub.status.idle": "2021-09-18T06:54:22.282784Z",
     "shell.execute_reply": "2021-09-18T06:54:22.283155Z",
     "shell.execute_reply.started": "2021-08-31T15:57:58.874816Z"
    },
    "jupyter": {
     "outputs_hidden": false
    },
    "papermill": {
     "duration": 316.970259,
     "end_time": "2021-09-18T06:54:22.283343",
     "exception": false,
     "start_time": "2021-09-18T06:49:05.313084",
     "status": "completed"
    },
    "tags": []
   },
   "outputs": [],
   "source": [
    "def objective(trial):\n",
    "    start_time = time.time()\n",
    "    global suff\n",
    "    class CFG:\n",
    "        suffix = str(suff)\n",
    "    suff += 1\n",
    "    nn_params = {\n",
    "        \"hidden_units\": trial.suggest_categorical(\"hidden_units\",  [(128,64,32), (128,128,64,32), (128,64,32,16), (128,64,64,32)]),\n",
    "        \"stock_embedding_size\": trial.suggest_categorical(\"stock_embedding_size\",  [16, 24, 32, 48, 64]),\n",
    "        \"activation_func\": trial.suggest_categorical(\"activation_func\",  [\"swish\"]), \n",
    "        \"learning_rate\": trial.suggest_categorical(\"learning_rate\",  [0.001, 0.004, 0.006, 0.01, 0.02]),\n",
    "        \"batch_size\":2048,\n",
    "        \"epochs\":trial.suggest_categorical(\"epochs\", [200, 500, 1000]),\n",
    "        \"dropout1\":trial.suggest_categorical(\"dropout1\", [0, 0.05, 0.1, 0.2]),\n",
    "        \"dropout2\":trial.suggest_categorical(\"dropout2\", [0, 0.05, 0.1]),\n",
    "    }\n",
    "\n",
    "    cat_data = train_nn['stock_id']\n",
    "\n",
    "    def base_model():\n",
    "        stock_id_input = keras.Input(shape=(1,), name='stock_id')\n",
    "        num_input = keras.Input(shape=(244,), name='num_data')\n",
    "\n",
    "        stock_embedded = keras.layers.Embedding(max(cat_data)+1, nn_params[\"stock_embedding_size\"], \n",
    "                                                input_length=1, name='stock_embedding')(stock_id_input)\n",
    "        stock_flattened = keras.layers.Flatten()(stock_embedded)\n",
    "        out = keras.layers.Concatenate()([stock_flattened, num_input])\n",
    "        out = keras.layers.Dropout(nn_params[\"dropout1\"])(out)\n",
    "\n",
    "        for n_hidden in nn_params[\"hidden_units\"]:\n",
    "            out = keras.layers.Dense(n_hidden, activation=nn_params[\"activation_func\"])(out)\n",
    "            out = keras.layers.Dropout(nn_params[\"dropout2\"])(out)\n",
    "        out = keras.layers.Dense(1, activation='linear', name='prediction')(out)\n",
    "\n",
    "        model = keras.Model(\n",
    "            inputs = [stock_id_input, num_input],\n",
    "            outputs = out,\n",
    "        )\n",
    "        \n",
    "        return model\n",
    "\n",
    "\n",
    "    \n",
    "\n",
    "    n_folds = 5\n",
    "    scores_folds[model_name] = []\n",
    "    counter = 1\n",
    "\n",
    "    features_to_consider = list(train_nn)\n",
    "    features_to_consider.remove('time_id')\n",
    "    features_to_consider.remove('target')\n",
    "    try:\n",
    "        features_to_consider.remove('pred_NN')\n",
    "    except:\n",
    "        pass\n",
    "\n",
    "    train_nn[features_to_consider] = train_nn[features_to_consider].fillna(train_nn[features_to_consider].mean())\n",
    "    test_nn[features_to_consider] = test_nn[features_to_consider].fillna(train_nn[features_to_consider].mean())\n",
    "\n",
    "    train_nn[pred_name] = 0\n",
    "    test_nn[target_name] = 0\n",
    "    test_predictions_nn = np.zeros(test_nn.shape[0])\n",
    "    oof_predictions = np.zeros(train_nn.shape[0])\n",
    "    train_nn_target = train_nn[target_name]\n",
    "    for n_count in range(n_folds):\n",
    "        # print('CV {}/{}'.format(counter, n_folds))\n",
    "\n",
    "        indexes = np.arange(nfolds).astype(int)    \n",
    "        indexes = np.delete(indexes,obj=n_count, axis=0) \n",
    "\n",
    "        indexes = np.r_[values[indexes[0]],values[indexes[1]],values[indexes[2]],values[indexes[3]]]\n",
    "\n",
    "        X_train = train_nn.loc[train_nn.time_id.isin(indexes), features_to_consider]\n",
    "        y_train = train_nn.loc[train_nn.time_id.isin(indexes), target_name]\n",
    "        X_test = train_nn.loc[train_nn.time_id.isin(values[n_count]), features_to_consider]\n",
    "        y_test = train_nn.loc[train_nn.time_id.isin(values[n_count]), target_name]\n",
    "\n",
    "        model = base_model()\n",
    "\n",
    "        model.compile(\n",
    "            keras.optimizers.Adam(learning_rate=nn_params[\"learning_rate\"]),\n",
    "            loss=root_mean_squared_per_error\n",
    "        )\n",
    "\n",
    "        try:\n",
    "            features_to_consider.remove('stock_id')\n",
    "        except:\n",
    "            pass\n",
    "\n",
    "        num_data = X_train[features_to_consider]\n",
    "\n",
    "        scaler = MinMaxScaler(feature_range=(-1, 1))         \n",
    "        num_data = scaler.fit_transform(num_data.values)    \n",
    "\n",
    "        cat_data = X_train['stock_id']    \n",
    "        target =  y_train\n",
    "\n",
    "        num_data_test = X_test[features_to_consider]\n",
    "        num_data_test = scaler.transform(num_data_test.values)\n",
    "        cat_data_test = X_test['stock_id']\n",
    "\n",
    "        model.fit([cat_data, num_data], \n",
    "                  target,               \n",
    "                  batch_size=nn_params[\"batch_size\"],\n",
    "                  epochs=nn_params[\"epochs\"],\n",
    "                  validation_data=([cat_data_test, num_data_test], y_test),\n",
    "                  callbacks=[es, plateau],\n",
    "                  validation_batch_size=len(y_test),\n",
    "                  shuffle=True,\n",
    "                  verbose = 0)\n",
    "\n",
    "        preds = model.predict([cat_data_test, num_data_test]).reshape(1,-1)[0]\n",
    "        oof_predictions[X_test.index] = preds\n",
    "        score = round(rmspe(y_true = y_test, y_pred = preds),5)\n",
    "        print('Fold {} {}: {}'.format(counter, model_name, score))\n",
    "        scores_folds[model_name].append(score)\n",
    "#         tt =scaler.transform(test_nn[features_to_consider].values)\n",
    "#         test_predictions_nn += model.predict([test_nn['stock_id'], tt]).reshape(1,-1)[0].clip(0,1e10)/n_folds\n",
    "        counter += 1\n",
    "        features_to_consider.append('stock_id')\n",
    "    \n",
    "#     print(\"y_train shape:\", y_train.shape)\n",
    "#     print(\"oof_predictions shape:\", oof_predictions.shape)\n",
    "#     print(\"train_nn_target shape:\", train_nn_target.shape)\n",
    "    elapsed_time = get_timediff(start_time, time.time())\n",
    "    rmspe_score = rmspe(train_nn_target, oof_predictions)\n",
    "    print(\"rmspe_score:\",rmspe_score)\n",
    "    LOGGER.info(f' suffix  rmspe_score  hidden_units       stock_embedding_size  activation_func  learning_rate  batch_size  epochs  dropout1  dropout2  time')\n",
    "    LOGGER.info(f' {CFG.suffix}   {rmspe_score:.7f}   {str(nn_params[\"hidden_units\"])}           {nn_params[\"stock_embedding_size\"]:>2d}                {nn_params[\"activation_func\"]}          {nn_params[\"learning_rate\"]:.4f}         {nn_params[\"batch_size\"]:>4d}     {nn_params[\"epochs\"]:>4d}  {nn_params[\"dropout1\"]:.2f}  {nn_params[\"dropout2\"]:.2f}    {elapsed_time} ')\n",
    "    return rmspe_score"
   ]
  },
  {
   "cell_type": "code",
   "execution_count": null,
   "id": "1bdcd20d",
   "metadata": {
    "scrolled": false
   },
   "outputs": [
    {
     "name": "stderr",
     "output_type": "stream",
     "text": [
      "\u001b[32m[I 2021-09-20 12:00:49,216]\u001b[0m A new study created in memory with name: no-name-9530be78-300c-4aad-b67c-0b013a29907a\u001b[0m\n",
      "/home/xuming/.local/lib/python3.8/site-packages/optuna/distributions.py:427: UserWarning: Choices for a categorical distribution should be a tuple of None, bool, int, float and str for persistent storage but contains (128, 64, 32) which is of type tuple.\n",
      "  warnings.warn(message)\n",
      "/home/xuming/.local/lib/python3.8/site-packages/optuna/distributions.py:427: UserWarning: Choices for a categorical distribution should be a tuple of None, bool, int, float and str for persistent storage but contains (128, 128, 64, 32) which is of type tuple.\n",
      "  warnings.warn(message)\n",
      "/home/xuming/.local/lib/python3.8/site-packages/optuna/distributions.py:427: UserWarning: Choices for a categorical distribution should be a tuple of None, bool, int, float and str for persistent storage but contains (128, 64, 32, 16) which is of type tuple.\n",
      "  warnings.warn(message)\n",
      "/home/xuming/.local/lib/python3.8/site-packages/optuna/distributions.py:427: UserWarning: Choices for a categorical distribution should be a tuple of None, bool, int, float and str for persistent storage but contains (128, 64, 64, 32) which is of type tuple.\n",
      "  warnings.warn(message)\n"
     ]
    },
    {
     "name": "stdout",
     "output_type": "stream",
     "text": [
      "Fold 1 NN: 0.20741\n",
      "Fold 2 NN: 0.21296\n",
      "Fold 3 NN: 0.20973\n",
      "Fold 4 NN: 0.21444\n"
     ]
    },
    {
     "name": "stderr",
     "output_type": "stream",
     "text": [
      " suffix  rmspe_score  hidden_units       stock_embedding_size  activation_func  learning_rate  batch_size  epochs  dropout1  dropout2  time\n",
      " 920000   0.2114427   (128, 128, 64, 32)           48                swish          0.0060         2048      500  0.10  0.00    02:01 \n",
      "\u001b[32m[I 2021-09-20 12:02:50,937]\u001b[0m Trial 0 finished with value: 0.21144268920127604 and parameters: {'hidden_units': (128, 128, 64, 32), 'stock_embedding_size': 48, 'activation_func': 'swish', 'learning_rate': 0.006, 'epochs': 500, 'dropout1': 0.1, 'dropout2': 0}. Best is trial 0 with value: 0.21144268920127604.\u001b[0m\n"
     ]
    },
    {
     "name": "stdout",
     "output_type": "stream",
     "text": [
      "Fold 5 NN: 0.21259\n",
      "rmspe_score: 0.21144268920127604\n"
     ]
    },
    {
     "name": "stderr",
     "output_type": "stream",
     "text": [
      "/home/xuming/.local/lib/python3.8/site-packages/optuna/distributions.py:427: UserWarning: Choices for a categorical distribution should be a tuple of None, bool, int, float and str for persistent storage but contains (128, 64, 32) which is of type tuple.\n",
      "  warnings.warn(message)\n",
      "/home/xuming/.local/lib/python3.8/site-packages/optuna/distributions.py:427: UserWarning: Choices for a categorical distribution should be a tuple of None, bool, int, float and str for persistent storage but contains (128, 128, 64, 32) which is of type tuple.\n",
      "  warnings.warn(message)\n",
      "/home/xuming/.local/lib/python3.8/site-packages/optuna/distributions.py:427: UserWarning: Choices for a categorical distribution should be a tuple of None, bool, int, float and str for persistent storage but contains (128, 64, 32, 16) which is of type tuple.\n",
      "  warnings.warn(message)\n",
      "/home/xuming/.local/lib/python3.8/site-packages/optuna/distributions.py:427: UserWarning: Choices for a categorical distribution should be a tuple of None, bool, int, float and str for persistent storage but contains (128, 64, 64, 32) which is of type tuple.\n",
      "  warnings.warn(message)\n"
     ]
    },
    {
     "name": "stdout",
     "output_type": "stream",
     "text": [
      "Fold 1 NN: 0.20766\n",
      "Fold 2 NN: 0.2118\n",
      "Fold 3 NN: 0.2096\n",
      "Fold 4 NN: 0.21367\n"
     ]
    },
    {
     "name": "stderr",
     "output_type": "stream",
     "text": [
      " suffix  rmspe_score  hidden_units       stock_embedding_size  activation_func  learning_rate  batch_size  epochs  dropout1  dropout2  time\n",
      " 920001   0.2111931   (128, 128, 64, 32)           32                swish          0.0100         2048     1000  0.05  0.00    01:50 \n",
      "\u001b[32m[I 2021-09-20 12:04:41,203]\u001b[0m Trial 1 finished with value: 0.21119314027705166 and parameters: {'hidden_units': (128, 128, 64, 32), 'stock_embedding_size': 32, 'activation_func': 'swish', 'learning_rate': 0.01, 'epochs': 1000, 'dropout1': 0.05, 'dropout2': 0}. Best is trial 1 with value: 0.21119314027705166.\u001b[0m\n"
     ]
    },
    {
     "name": "stdout",
     "output_type": "stream",
     "text": [
      "Fold 5 NN: 0.21317\n",
      "rmspe_score: 0.21119314027705166\n"
     ]
    },
    {
     "name": "stderr",
     "output_type": "stream",
     "text": [
      "/home/xuming/.local/lib/python3.8/site-packages/optuna/distributions.py:427: UserWarning: Choices for a categorical distribution should be a tuple of None, bool, int, float and str for persistent storage but contains (128, 64, 32) which is of type tuple.\n",
      "  warnings.warn(message)\n",
      "/home/xuming/.local/lib/python3.8/site-packages/optuna/distributions.py:427: UserWarning: Choices for a categorical distribution should be a tuple of None, bool, int, float and str for persistent storage but contains (128, 128, 64, 32) which is of type tuple.\n",
      "  warnings.warn(message)\n",
      "/home/xuming/.local/lib/python3.8/site-packages/optuna/distributions.py:427: UserWarning: Choices for a categorical distribution should be a tuple of None, bool, int, float and str for persistent storage but contains (128, 64, 32, 16) which is of type tuple.\n",
      "  warnings.warn(message)\n",
      "/home/xuming/.local/lib/python3.8/site-packages/optuna/distributions.py:427: UserWarning: Choices for a categorical distribution should be a tuple of None, bool, int, float and str for persistent storage but contains (128, 64, 64, 32) which is of type tuple.\n",
      "  warnings.warn(message)\n"
     ]
    },
    {
     "name": "stdout",
     "output_type": "stream",
     "text": [
      "Fold 1 NN: 0.21052\n",
      "Fold 2 NN: 0.21326\n",
      "Fold 3 NN: 0.20946\n",
      "Fold 4 NN: 0.21505\n"
     ]
    },
    {
     "name": "stderr",
     "output_type": "stream",
     "text": [
      " suffix  rmspe_score  hidden_units       stock_embedding_size  activation_func  learning_rate  batch_size  epochs  dropout1  dropout2  time\n",
      " 920002   0.2127513   (128, 128, 64, 32)           16                swish          0.0040         2048     1000  0.05  0.05    02:27 \n",
      "\u001b[32m[I 2021-09-20 12:07:08,650]\u001b[0m Trial 2 finished with value: 0.2127513073476071 and parameters: {'hidden_units': (128, 128, 64, 32), 'stock_embedding_size': 16, 'activation_func': 'swish', 'learning_rate': 0.004, 'epochs': 1000, 'dropout1': 0.05, 'dropout2': 0.05}. Best is trial 1 with value: 0.21119314027705166.\u001b[0m\n"
     ]
    },
    {
     "name": "stdout",
     "output_type": "stream",
     "text": [
      "Fold 5 NN: 0.2154\n",
      "rmspe_score: 0.2127513073476071\n"
     ]
    },
    {
     "name": "stderr",
     "output_type": "stream",
     "text": [
      "/home/xuming/.local/lib/python3.8/site-packages/optuna/distributions.py:427: UserWarning: Choices for a categorical distribution should be a tuple of None, bool, int, float and str for persistent storage but contains (128, 64, 32) which is of type tuple.\n",
      "  warnings.warn(message)\n",
      "/home/xuming/.local/lib/python3.8/site-packages/optuna/distributions.py:427: UserWarning: Choices for a categorical distribution should be a tuple of None, bool, int, float and str for persistent storage but contains (128, 128, 64, 32) which is of type tuple.\n",
      "  warnings.warn(message)\n",
      "/home/xuming/.local/lib/python3.8/site-packages/optuna/distributions.py:427: UserWarning: Choices for a categorical distribution should be a tuple of None, bool, int, float and str for persistent storage but contains (128, 64, 32, 16) which is of type tuple.\n",
      "  warnings.warn(message)\n",
      "/home/xuming/.local/lib/python3.8/site-packages/optuna/distributions.py:427: UserWarning: Choices for a categorical distribution should be a tuple of None, bool, int, float and str for persistent storage but contains (128, 64, 64, 32) which is of type tuple.\n",
      "  warnings.warn(message)\n"
     ]
    },
    {
     "name": "stdout",
     "output_type": "stream",
     "text": [
      "Fold 1 NN: 0.20903\n",
      "Fold 2 NN: 0.22079\n",
      "Fold 3 NN: 0.21465\n",
      "Fold 4 NN: 0.2212\n"
     ]
    },
    {
     "name": "stderr",
     "output_type": "stream",
     "text": [
      " suffix  rmspe_score  hidden_units       stock_embedding_size  activation_func  learning_rate  batch_size  epochs  dropout1  dropout2  time\n",
      " 920003   0.2172535   (128, 64, 32)           48                swish          0.0200         2048      200  0.00  0.10    02:31 \n",
      "\u001b[32m[I 2021-09-20 12:09:39,938]\u001b[0m Trial 3 finished with value: 0.21725354032062047 and parameters: {'hidden_units': (128, 64, 32), 'stock_embedding_size': 48, 'activation_func': 'swish', 'learning_rate': 0.02, 'epochs': 200, 'dropout1': 0, 'dropout2': 0.1}. Best is trial 1 with value: 0.21119314027705166.\u001b[0m\n"
     ]
    },
    {
     "name": "stdout",
     "output_type": "stream",
     "text": [
      "Fold 5 NN: 0.22034\n",
      "rmspe_score: 0.21725354032062047\n"
     ]
    },
    {
     "name": "stderr",
     "output_type": "stream",
     "text": [
      "/home/xuming/.local/lib/python3.8/site-packages/optuna/distributions.py:427: UserWarning: Choices for a categorical distribution should be a tuple of None, bool, int, float and str for persistent storage but contains (128, 64, 32) which is of type tuple.\n",
      "  warnings.warn(message)\n",
      "/home/xuming/.local/lib/python3.8/site-packages/optuna/distributions.py:427: UserWarning: Choices for a categorical distribution should be a tuple of None, bool, int, float and str for persistent storage but contains (128, 128, 64, 32) which is of type tuple.\n",
      "  warnings.warn(message)\n",
      "/home/xuming/.local/lib/python3.8/site-packages/optuna/distributions.py:427: UserWarning: Choices for a categorical distribution should be a tuple of None, bool, int, float and str for persistent storage but contains (128, 64, 32, 16) which is of type tuple.\n",
      "  warnings.warn(message)\n",
      "/home/xuming/.local/lib/python3.8/site-packages/optuna/distributions.py:427: UserWarning: Choices for a categorical distribution should be a tuple of None, bool, int, float and str for persistent storage but contains (128, 64, 64, 32) which is of type tuple.\n",
      "  warnings.warn(message)\n"
     ]
    },
    {
     "name": "stdout",
     "output_type": "stream",
     "text": [
      "Fold 1 NN: 0.20858\n",
      "Fold 2 NN: 0.21206\n",
      "Fold 3 NN: 0.21092\n",
      "Fold 4 NN: 0.21542\n"
     ]
    },
    {
     "name": "stderr",
     "output_type": "stream",
     "text": [
      " suffix  rmspe_score  hidden_units       stock_embedding_size  activation_func  learning_rate  batch_size  epochs  dropout1  dropout2  time\n",
      " 920004   0.2122012   (128, 64, 32)           24                swish          0.0100         2048      500  0.00  0.00    02:05 \n",
      "\u001b[32m[I 2021-09-20 12:11:45,712]\u001b[0m Trial 4 finished with value: 0.2122011618251946 and parameters: {'hidden_units': (128, 64, 32), 'stock_embedding_size': 24, 'activation_func': 'swish', 'learning_rate': 0.01, 'epochs': 500, 'dropout1': 0, 'dropout2': 0}. Best is trial 1 with value: 0.21119314027705166.\u001b[0m\n"
     ]
    },
    {
     "name": "stdout",
     "output_type": "stream",
     "text": [
      "Fold 5 NN: 0.21396\n",
      "rmspe_score: 0.2122011618251946\n"
     ]
    },
    {
     "name": "stderr",
     "output_type": "stream",
     "text": [
      "/home/xuming/.local/lib/python3.8/site-packages/optuna/distributions.py:427: UserWarning: Choices for a categorical distribution should be a tuple of None, bool, int, float and str for persistent storage but contains (128, 64, 32) which is of type tuple.\n",
      "  warnings.warn(message)\n",
      "/home/xuming/.local/lib/python3.8/site-packages/optuna/distributions.py:427: UserWarning: Choices for a categorical distribution should be a tuple of None, bool, int, float and str for persistent storage but contains (128, 128, 64, 32) which is of type tuple.\n",
      "  warnings.warn(message)\n",
      "/home/xuming/.local/lib/python3.8/site-packages/optuna/distributions.py:427: UserWarning: Choices for a categorical distribution should be a tuple of None, bool, int, float and str for persistent storage but contains (128, 64, 32, 16) which is of type tuple.\n",
      "  warnings.warn(message)\n",
      "/home/xuming/.local/lib/python3.8/site-packages/optuna/distributions.py:427: UserWarning: Choices for a categorical distribution should be a tuple of None, bool, int, float and str for persistent storage but contains (128, 64, 64, 32) which is of type tuple.\n",
      "  warnings.warn(message)\n"
     ]
    },
    {
     "name": "stdout",
     "output_type": "stream",
     "text": [
      "Fold 1 NN: 0.21027\n",
      "Fold 2 NN: 0.21702\n",
      "Fold 3 NN: 0.21019\n",
      "Fold 4 NN: 0.21928\n"
     ]
    },
    {
     "name": "stderr",
     "output_type": "stream",
     "text": [
      " suffix  rmspe_score  hidden_units       stock_embedding_size  activation_func  learning_rate  batch_size  epochs  dropout1  dropout2  time\n",
      " 920005   0.2146347   (128, 64, 32)           32                swish          0.0040         2048      200  0.10  0.05    02:36 \n",
      "\u001b[32m[I 2021-09-20 12:14:22,525]\u001b[0m Trial 5 finished with value: 0.214634673633651 and parameters: {'hidden_units': (128, 64, 32), 'stock_embedding_size': 32, 'activation_func': 'swish', 'learning_rate': 0.004, 'epochs': 200, 'dropout1': 0.1, 'dropout2': 0.05}. Best is trial 1 with value: 0.21119314027705166.\u001b[0m\n"
     ]
    },
    {
     "name": "stdout",
     "output_type": "stream",
     "text": [
      "Fold 5 NN: 0.21625\n",
      "rmspe_score: 0.214634673633651\n"
     ]
    },
    {
     "name": "stderr",
     "output_type": "stream",
     "text": [
      "/home/xuming/.local/lib/python3.8/site-packages/optuna/distributions.py:427: UserWarning: Choices for a categorical distribution should be a tuple of None, bool, int, float and str for persistent storage but contains (128, 64, 32) which is of type tuple.\n",
      "  warnings.warn(message)\n",
      "/home/xuming/.local/lib/python3.8/site-packages/optuna/distributions.py:427: UserWarning: Choices for a categorical distribution should be a tuple of None, bool, int, float and str for persistent storage but contains (128, 128, 64, 32) which is of type tuple.\n",
      "  warnings.warn(message)\n",
      "/home/xuming/.local/lib/python3.8/site-packages/optuna/distributions.py:427: UserWarning: Choices for a categorical distribution should be a tuple of None, bool, int, float and str for persistent storage but contains (128, 64, 32, 16) which is of type tuple.\n",
      "  warnings.warn(message)\n",
      "/home/xuming/.local/lib/python3.8/site-packages/optuna/distributions.py:427: UserWarning: Choices for a categorical distribution should be a tuple of None, bool, int, float and str for persistent storage but contains (128, 64, 64, 32) which is of type tuple.\n",
      "  warnings.warn(message)\n"
     ]
    },
    {
     "name": "stdout",
     "output_type": "stream",
     "text": [
      "Fold 1 NN: 0.20792\n",
      "Fold 2 NN: 0.21402\n",
      "Fold 3 NN: 0.20937\n",
      "Fold 4 NN: 0.21707\n"
     ]
    },
    {
     "name": "stderr",
     "output_type": "stream",
     "text": [
      " suffix  rmspe_score  hidden_units       stock_embedding_size  activation_func  learning_rate  batch_size  epochs  dropout1  dropout2  time\n",
      " 920006   0.2126201   (128, 64, 32)           24                swish          0.0040         2048     1000  0.10  0.00    01:58 \n",
      "\u001b[32m[I 2021-09-20 12:16:21,021]\u001b[0m Trial 6 finished with value: 0.212620050590205 and parameters: {'hidden_units': (128, 64, 32), 'stock_embedding_size': 24, 'activation_func': 'swish', 'learning_rate': 0.004, 'epochs': 1000, 'dropout1': 0.1, 'dropout2': 0}. Best is trial 1 with value: 0.21119314027705166.\u001b[0m\n"
     ]
    },
    {
     "name": "stdout",
     "output_type": "stream",
     "text": [
      "Fold 5 NN: 0.21457\n",
      "rmspe_score: 0.212620050590205\n"
     ]
    },
    {
     "name": "stderr",
     "output_type": "stream",
     "text": [
      "/home/xuming/.local/lib/python3.8/site-packages/optuna/distributions.py:427: UserWarning: Choices for a categorical distribution should be a tuple of None, bool, int, float and str for persistent storage but contains (128, 64, 32) which is of type tuple.\n",
      "  warnings.warn(message)\n",
      "/home/xuming/.local/lib/python3.8/site-packages/optuna/distributions.py:427: UserWarning: Choices for a categorical distribution should be a tuple of None, bool, int, float and str for persistent storage but contains (128, 128, 64, 32) which is of type tuple.\n",
      "  warnings.warn(message)\n",
      "/home/xuming/.local/lib/python3.8/site-packages/optuna/distributions.py:427: UserWarning: Choices for a categorical distribution should be a tuple of None, bool, int, float and str for persistent storage but contains (128, 64, 32, 16) which is of type tuple.\n",
      "  warnings.warn(message)\n",
      "/home/xuming/.local/lib/python3.8/site-packages/optuna/distributions.py:427: UserWarning: Choices for a categorical distribution should be a tuple of None, bool, int, float and str for persistent storage but contains (128, 64, 64, 32) which is of type tuple.\n",
      "  warnings.warn(message)\n"
     ]
    },
    {
     "name": "stdout",
     "output_type": "stream",
     "text": [
      "Fold 1 NN: 0.21292\n",
      "Fold 2 NN: 0.21542\n",
      "Fold 3 NN: 0.21398\n",
      "Fold 4 NN: 0.21778\n"
     ]
    },
    {
     "name": "stderr",
     "output_type": "stream",
     "text": [
      " suffix  rmspe_score  hidden_units       stock_embedding_size  activation_func  learning_rate  batch_size  epochs  dropout1  dropout2  time\n",
      " 920007   0.2156832   (128, 64, 32)           24                swish          0.0060         2048      500  0.20  0.05    02:06 \n",
      "\u001b[32m[I 2021-09-20 12:18:27,862]\u001b[0m Trial 7 finished with value: 0.21568319459440788 and parameters: {'hidden_units': (128, 64, 32), 'stock_embedding_size': 24, 'activation_func': 'swish', 'learning_rate': 0.006, 'epochs': 500, 'dropout1': 0.2, 'dropout2': 0.05}. Best is trial 1 with value: 0.21119314027705166.\u001b[0m\n"
     ]
    },
    {
     "name": "stdout",
     "output_type": "stream",
     "text": [
      "Fold 5 NN: 0.21826\n",
      "rmspe_score: 0.21568319459440788\n"
     ]
    },
    {
     "name": "stderr",
     "output_type": "stream",
     "text": [
      "/home/xuming/.local/lib/python3.8/site-packages/optuna/distributions.py:427: UserWarning: Choices for a categorical distribution should be a tuple of None, bool, int, float and str for persistent storage but contains (128, 64, 32) which is of type tuple.\n",
      "  warnings.warn(message)\n",
      "/home/xuming/.local/lib/python3.8/site-packages/optuna/distributions.py:427: UserWarning: Choices for a categorical distribution should be a tuple of None, bool, int, float and str for persistent storage but contains (128, 128, 64, 32) which is of type tuple.\n",
      "  warnings.warn(message)\n",
      "/home/xuming/.local/lib/python3.8/site-packages/optuna/distributions.py:427: UserWarning: Choices for a categorical distribution should be a tuple of None, bool, int, float and str for persistent storage but contains (128, 64, 32, 16) which is of type tuple.\n",
      "  warnings.warn(message)\n",
      "/home/xuming/.local/lib/python3.8/site-packages/optuna/distributions.py:427: UserWarning: Choices for a categorical distribution should be a tuple of None, bool, int, float and str for persistent storage but contains (128, 64, 64, 32) which is of type tuple.\n",
      "  warnings.warn(message)\n"
     ]
    },
    {
     "name": "stdout",
     "output_type": "stream",
     "text": [
      "Fold 1 NN: 0.20787\n",
      "Fold 2 NN: 0.21309\n",
      "Fold 3 NN: 0.20935\n",
      "Fold 4 NN: 0.21335\n"
     ]
    },
    {
     "name": "stderr",
     "output_type": "stream",
     "text": [
      " suffix  rmspe_score  hidden_units       stock_embedding_size  activation_func  learning_rate  batch_size  epochs  dropout1  dropout2  time\n",
      " 920008   0.2114016   (128, 64, 64, 32)           48                swish          0.0100         2048      500  0.05  0.00    02:05 \n",
      "\u001b[32m[I 2021-09-20 12:20:33,747]\u001b[0m Trial 8 finished with value: 0.21140157166256782 and parameters: {'hidden_units': (128, 64, 64, 32), 'stock_embedding_size': 48, 'activation_func': 'swish', 'learning_rate': 0.01, 'epochs': 500, 'dropout1': 0.05, 'dropout2': 0}. Best is trial 1 with value: 0.21119314027705166.\u001b[0m\n"
     ]
    },
    {
     "name": "stdout",
     "output_type": "stream",
     "text": [
      "Fold 5 NN: 0.21328\n",
      "rmspe_score: 0.21140157166256782\n"
     ]
    },
    {
     "name": "stderr",
     "output_type": "stream",
     "text": [
      "/home/xuming/.local/lib/python3.8/site-packages/optuna/distributions.py:427: UserWarning: Choices for a categorical distribution should be a tuple of None, bool, int, float and str for persistent storage but contains (128, 64, 32) which is of type tuple.\n",
      "  warnings.warn(message)\n",
      "/home/xuming/.local/lib/python3.8/site-packages/optuna/distributions.py:427: UserWarning: Choices for a categorical distribution should be a tuple of None, bool, int, float and str for persistent storage but contains (128, 128, 64, 32) which is of type tuple.\n",
      "  warnings.warn(message)\n",
      "/home/xuming/.local/lib/python3.8/site-packages/optuna/distributions.py:427: UserWarning: Choices for a categorical distribution should be a tuple of None, bool, int, float and str for persistent storage but contains (128, 64, 32, 16) which is of type tuple.\n",
      "  warnings.warn(message)\n",
      "/home/xuming/.local/lib/python3.8/site-packages/optuna/distributions.py:427: UserWarning: Choices for a categorical distribution should be a tuple of None, bool, int, float and str for persistent storage but contains (128, 64, 64, 32) which is of type tuple.\n",
      "  warnings.warn(message)\n"
     ]
    },
    {
     "name": "stdout",
     "output_type": "stream",
     "text": [
      "Fold 1 NN: 0.21252\n",
      "Fold 2 NN: 0.21563\n",
      "Fold 3 NN: 0.21093\n",
      "Fold 4 NN: 0.21724\n"
     ]
    },
    {
     "name": "stderr",
     "output_type": "stream",
     "text": [
      " suffix  rmspe_score  hidden_units       stock_embedding_size  activation_func  learning_rate  batch_size  epochs  dropout1  dropout2  time\n",
      " 920009   0.2147610   (128, 64, 32, 16)           64                swish          0.0010         2048      500  0.20  0.05    02:28 \n",
      "\u001b[32m[I 2021-09-20 12:23:02,637]\u001b[0m Trial 9 finished with value: 0.21476097134033068 and parameters: {'hidden_units': (128, 64, 32, 16), 'stock_embedding_size': 64, 'activation_func': 'swish', 'learning_rate': 0.001, 'epochs': 500, 'dropout1': 0.2, 'dropout2': 0.05}. Best is trial 1 with value: 0.21119314027705166.\u001b[0m\n"
     ]
    },
    {
     "name": "stdout",
     "output_type": "stream",
     "text": [
      "Fold 5 NN: 0.21741\n",
      "rmspe_score: 0.21476097134033068\n"
     ]
    },
    {
     "name": "stderr",
     "output_type": "stream",
     "text": [
      "/home/xuming/.local/lib/python3.8/site-packages/optuna/distributions.py:427: UserWarning: Choices for a categorical distribution should be a tuple of None, bool, int, float and str for persistent storage but contains (128, 64, 32) which is of type tuple.\n",
      "  warnings.warn(message)\n",
      "/home/xuming/.local/lib/python3.8/site-packages/optuna/distributions.py:427: UserWarning: Choices for a categorical distribution should be a tuple of None, bool, int, float and str for persistent storage but contains (128, 128, 64, 32) which is of type tuple.\n",
      "  warnings.warn(message)\n",
      "/home/xuming/.local/lib/python3.8/site-packages/optuna/distributions.py:427: UserWarning: Choices for a categorical distribution should be a tuple of None, bool, int, float and str for persistent storage but contains (128, 64, 32, 16) which is of type tuple.\n",
      "  warnings.warn(message)\n",
      "/home/xuming/.local/lib/python3.8/site-packages/optuna/distributions.py:427: UserWarning: Choices for a categorical distribution should be a tuple of None, bool, int, float and str for persistent storage but contains (128, 64, 64, 32) which is of type tuple.\n",
      "  warnings.warn(message)\n"
     ]
    },
    {
     "name": "stdout",
     "output_type": "stream",
     "text": [
      "Fold 1 NN: 0.21461\n",
      "Fold 2 NN: 0.21869\n",
      "Fold 3 NN: 0.2158\n",
      "Fold 4 NN: 0.23044\n"
     ]
    },
    {
     "name": "stderr",
     "output_type": "stream",
     "text": [
      " suffix  rmspe_score  hidden_units       stock_embedding_size  activation_func  learning_rate  batch_size  epochs  dropout1  dropout2  time\n",
      " 920010   0.2203171   (128, 64, 32)           24                swish          0.0200         2048      200  0.10  0.10    03:06 \n",
      "\u001b[32m[I 2021-09-20 12:26:09,542]\u001b[0m Trial 10 finished with value: 0.22031712242950224 and parameters: {'hidden_units': (128, 64, 32), 'stock_embedding_size': 24, 'activation_func': 'swish', 'learning_rate': 0.02, 'epochs': 200, 'dropout1': 0.1, 'dropout2': 0.1}. Best is trial 1 with value: 0.21119314027705166.\u001b[0m\n"
     ]
    },
    {
     "name": "stdout",
     "output_type": "stream",
     "text": [
      "Fold 5 NN: 0.22168\n",
      "rmspe_score: 0.22031712242950224\n"
     ]
    },
    {
     "name": "stderr",
     "output_type": "stream",
     "text": [
      "/home/xuming/.local/lib/python3.8/site-packages/optuna/distributions.py:427: UserWarning: Choices for a categorical distribution should be a tuple of None, bool, int, float and str for persistent storage but contains (128, 64, 32) which is of type tuple.\n",
      "  warnings.warn(message)\n",
      "/home/xuming/.local/lib/python3.8/site-packages/optuna/distributions.py:427: UserWarning: Choices for a categorical distribution should be a tuple of None, bool, int, float and str for persistent storage but contains (128, 128, 64, 32) which is of type tuple.\n",
      "  warnings.warn(message)\n",
      "/home/xuming/.local/lib/python3.8/site-packages/optuna/distributions.py:427: UserWarning: Choices for a categorical distribution should be a tuple of None, bool, int, float and str for persistent storage but contains (128, 64, 32, 16) which is of type tuple.\n",
      "  warnings.warn(message)\n",
      "/home/xuming/.local/lib/python3.8/site-packages/optuna/distributions.py:427: UserWarning: Choices for a categorical distribution should be a tuple of None, bool, int, float and str for persistent storage but contains (128, 64, 64, 32) which is of type tuple.\n",
      "  warnings.warn(message)\n"
     ]
    },
    {
     "name": "stdout",
     "output_type": "stream",
     "text": [
      "Fold 1 NN: 0.20906\n",
      "Fold 2 NN: 0.21706\n",
      "Fold 3 NN: 0.21259\n",
      "Fold 4 NN: 0.21751\n"
     ]
    },
    {
     "name": "stderr",
     "output_type": "stream",
     "text": [
      " suffix  rmspe_score  hidden_units       stock_embedding_size  activation_func  learning_rate  batch_size  epochs  dropout1  dropout2  time\n",
      " 920011   0.2142370   (128, 128, 64, 32)           64                swish          0.0010         2048     1000  0.20  0.00    01:53 \n",
      "\u001b[32m[I 2021-09-20 12:28:03,183]\u001b[0m Trial 11 finished with value: 0.21423703869681635 and parameters: {'hidden_units': (128, 128, 64, 32), 'stock_embedding_size': 64, 'activation_func': 'swish', 'learning_rate': 0.001, 'epochs': 1000, 'dropout1': 0.2, 'dropout2': 0}. Best is trial 1 with value: 0.21119314027705166.\u001b[0m\n"
     ]
    },
    {
     "name": "stdout",
     "output_type": "stream",
     "text": [
      "Fold 5 NN: 0.21486\n",
      "rmspe_score: 0.21423703869681635\n"
     ]
    },
    {
     "name": "stderr",
     "output_type": "stream",
     "text": [
      "/home/xuming/.local/lib/python3.8/site-packages/optuna/distributions.py:427: UserWarning: Choices for a categorical distribution should be a tuple of None, bool, int, float and str for persistent storage but contains (128, 64, 32) which is of type tuple.\n",
      "  warnings.warn(message)\n",
      "/home/xuming/.local/lib/python3.8/site-packages/optuna/distributions.py:427: UserWarning: Choices for a categorical distribution should be a tuple of None, bool, int, float and str for persistent storage but contains (128, 128, 64, 32) which is of type tuple.\n",
      "  warnings.warn(message)\n",
      "/home/xuming/.local/lib/python3.8/site-packages/optuna/distributions.py:427: UserWarning: Choices for a categorical distribution should be a tuple of None, bool, int, float and str for persistent storage but contains (128, 64, 32, 16) which is of type tuple.\n",
      "  warnings.warn(message)\n",
      "/home/xuming/.local/lib/python3.8/site-packages/optuna/distributions.py:427: UserWarning: Choices for a categorical distribution should be a tuple of None, bool, int, float and str for persistent storage but contains (128, 64, 64, 32) which is of type tuple.\n",
      "  warnings.warn(message)\n"
     ]
    },
    {
     "name": "stdout",
     "output_type": "stream",
     "text": [
      "Fold 1 NN: 0.21087\n",
      "Fold 2 NN: 0.21402\n",
      "Fold 3 NN: 0.21111\n",
      "Fold 4 NN: 0.21785\n"
     ]
    },
    {
     "name": "stderr",
     "output_type": "stream",
     "text": [
      " suffix  rmspe_score  hidden_units       stock_embedding_size  activation_func  learning_rate  batch_size  epochs  dropout1  dropout2  time\n",
      " 920012   0.2136893   (128, 64, 32)           48                swish          0.0100         2048      200  0.05  0.05    02:06 \n",
      "\u001b[32m[I 2021-09-20 12:30:09,529]\u001b[0m Trial 12 finished with value: 0.2136892553350095 and parameters: {'hidden_units': (128, 64, 32), 'stock_embedding_size': 48, 'activation_func': 'swish', 'learning_rate': 0.01, 'epochs': 200, 'dropout1': 0.05, 'dropout2': 0.05}. Best is trial 1 with value: 0.21119314027705166.\u001b[0m\n"
     ]
    },
    {
     "name": "stdout",
     "output_type": "stream",
     "text": [
      "Fold 5 NN: 0.21452\n",
      "rmspe_score: 0.2136892553350095\n"
     ]
    },
    {
     "name": "stderr",
     "output_type": "stream",
     "text": [
      "/home/xuming/.local/lib/python3.8/site-packages/optuna/distributions.py:427: UserWarning: Choices for a categorical distribution should be a tuple of None, bool, int, float and str for persistent storage but contains (128, 64, 32) which is of type tuple.\n",
      "  warnings.warn(message)\n",
      "/home/xuming/.local/lib/python3.8/site-packages/optuna/distributions.py:427: UserWarning: Choices for a categorical distribution should be a tuple of None, bool, int, float and str for persistent storage but contains (128, 128, 64, 32) which is of type tuple.\n",
      "  warnings.warn(message)\n",
      "/home/xuming/.local/lib/python3.8/site-packages/optuna/distributions.py:427: UserWarning: Choices for a categorical distribution should be a tuple of None, bool, int, float and str for persistent storage but contains (128, 64, 32, 16) which is of type tuple.\n",
      "  warnings.warn(message)\n",
      "/home/xuming/.local/lib/python3.8/site-packages/optuna/distributions.py:427: UserWarning: Choices for a categorical distribution should be a tuple of None, bool, int, float and str for persistent storage but contains (128, 64, 64, 32) which is of type tuple.\n",
      "  warnings.warn(message)\n"
     ]
    },
    {
     "name": "stdout",
     "output_type": "stream",
     "text": [
      "Fold 1 NN: 0.21494\n",
      "Fold 2 NN: 0.21542\n",
      "Fold 3 NN: 0.21091\n",
      "Fold 4 NN: 0.21801\n"
     ]
    },
    {
     "name": "stderr",
     "output_type": "stream",
     "text": [
      " suffix  rmspe_score  hidden_units       stock_embedding_size  activation_func  learning_rate  batch_size  epochs  dropout1  dropout2  time\n",
      " 920013   0.2149506   (128, 64, 64, 32)           48                swish          0.0010         2048      200  0.00  0.10    02:47 \n",
      "\u001b[32m[I 2021-09-20 12:32:57,209]\u001b[0m Trial 13 finished with value: 0.21495064717834905 and parameters: {'hidden_units': (128, 64, 64, 32), 'stock_embedding_size': 48, 'activation_func': 'swish', 'learning_rate': 0.001, 'epochs': 200, 'dropout1': 0, 'dropout2': 0.1}. Best is trial 1 with value: 0.21119314027705166.\u001b[0m\n"
     ]
    },
    {
     "name": "stdout",
     "output_type": "stream",
     "text": [
      "Fold 5 NN: 0.21541\n",
      "rmspe_score: 0.21495064717834905\n"
     ]
    },
    {
     "name": "stderr",
     "output_type": "stream",
     "text": [
      "/home/xuming/.local/lib/python3.8/site-packages/optuna/distributions.py:427: UserWarning: Choices for a categorical distribution should be a tuple of None, bool, int, float and str for persistent storage but contains (128, 64, 32) which is of type tuple.\n",
      "  warnings.warn(message)\n",
      "/home/xuming/.local/lib/python3.8/site-packages/optuna/distributions.py:427: UserWarning: Choices for a categorical distribution should be a tuple of None, bool, int, float and str for persistent storage but contains (128, 128, 64, 32) which is of type tuple.\n",
      "  warnings.warn(message)\n",
      "/home/xuming/.local/lib/python3.8/site-packages/optuna/distributions.py:427: UserWarning: Choices for a categorical distribution should be a tuple of None, bool, int, float and str for persistent storage but contains (128, 64, 32, 16) which is of type tuple.\n",
      "  warnings.warn(message)\n",
      "/home/xuming/.local/lib/python3.8/site-packages/optuna/distributions.py:427: UserWarning: Choices for a categorical distribution should be a tuple of None, bool, int, float and str for persistent storage but contains (128, 64, 64, 32) which is of type tuple.\n",
      "  warnings.warn(message)\n"
     ]
    },
    {
     "name": "stdout",
     "output_type": "stream",
     "text": [
      "Fold 1 NN: 0.20947\n",
      "Fold 2 NN: 0.21371\n",
      "Fold 3 NN: 0.21097\n",
      "Fold 4 NN: 0.2184\n"
     ]
    },
    {
     "name": "stderr",
     "output_type": "stream",
     "text": [
      " suffix  rmspe_score  hidden_units       stock_embedding_size  activation_func  learning_rate  batch_size  epochs  dropout1  dropout2  time\n",
      " 920014   0.2136591   (128, 64, 32, 16)           16                swish          0.0100         2048     1000  0.10  0.05    02:16 \n",
      "\u001b[32m[I 2021-09-20 12:35:13,825]\u001b[0m Trial 14 finished with value: 0.21365911181515548 and parameters: {'hidden_units': (128, 64, 32, 16), 'stock_embedding_size': 16, 'activation_func': 'swish', 'learning_rate': 0.01, 'epochs': 1000, 'dropout1': 0.1, 'dropout2': 0.05}. Best is trial 1 with value: 0.21119314027705166.\u001b[0m\n"
     ]
    },
    {
     "name": "stdout",
     "output_type": "stream",
     "text": [
      "Fold 5 NN: 0.21563\n",
      "rmspe_score: 0.21365911181515548\n"
     ]
    },
    {
     "name": "stderr",
     "output_type": "stream",
     "text": [
      "/home/xuming/.local/lib/python3.8/site-packages/optuna/distributions.py:427: UserWarning: Choices for a categorical distribution should be a tuple of None, bool, int, float and str for persistent storage but contains (128, 64, 32) which is of type tuple.\n",
      "  warnings.warn(message)\n",
      "/home/xuming/.local/lib/python3.8/site-packages/optuna/distributions.py:427: UserWarning: Choices for a categorical distribution should be a tuple of None, bool, int, float and str for persistent storage but contains (128, 128, 64, 32) which is of type tuple.\n",
      "  warnings.warn(message)\n",
      "/home/xuming/.local/lib/python3.8/site-packages/optuna/distributions.py:427: UserWarning: Choices for a categorical distribution should be a tuple of None, bool, int, float and str for persistent storage but contains (128, 64, 32, 16) which is of type tuple.\n",
      "  warnings.warn(message)\n",
      "/home/xuming/.local/lib/python3.8/site-packages/optuna/distributions.py:427: UserWarning: Choices for a categorical distribution should be a tuple of None, bool, int, float and str for persistent storage but contains (128, 64, 64, 32) which is of type tuple.\n",
      "  warnings.warn(message)\n"
     ]
    },
    {
     "name": "stdout",
     "output_type": "stream",
     "text": [
      "Fold 1 NN: 0.20807\n",
      "Fold 2 NN: 0.21325\n",
      "Fold 3 NN: 0.20827\n",
      "Fold 4 NN: 0.21477\n"
     ]
    },
    {
     "name": "stderr",
     "output_type": "stream",
     "text": [
      " suffix  rmspe_score  hidden_units       stock_embedding_size  activation_func  learning_rate  batch_size  epochs  dropout1  dropout2  time\n",
      " 920015   0.2115285   (128, 64, 32, 16)           48                swish          0.0040         2048      500  0.00  0.00    01:34 \n",
      "\u001b[32m[I 2021-09-20 12:36:47,836]\u001b[0m Trial 15 finished with value: 0.2115285393728823 and parameters: {'hidden_units': (128, 64, 32, 16), 'stock_embedding_size': 48, 'activation_func': 'swish', 'learning_rate': 0.004, 'epochs': 500, 'dropout1': 0, 'dropout2': 0}. Best is trial 1 with value: 0.21119314027705166.\u001b[0m\n"
     ]
    },
    {
     "name": "stdout",
     "output_type": "stream",
     "text": [
      "Fold 5 NN: 0.21319\n",
      "rmspe_score: 0.2115285393728823\n"
     ]
    },
    {
     "name": "stderr",
     "output_type": "stream",
     "text": [
      "/home/xuming/.local/lib/python3.8/site-packages/optuna/distributions.py:427: UserWarning: Choices for a categorical distribution should be a tuple of None, bool, int, float and str for persistent storage but contains (128, 64, 32) which is of type tuple.\n",
      "  warnings.warn(message)\n",
      "/home/xuming/.local/lib/python3.8/site-packages/optuna/distributions.py:427: UserWarning: Choices for a categorical distribution should be a tuple of None, bool, int, float and str for persistent storage but contains (128, 128, 64, 32) which is of type tuple.\n",
      "  warnings.warn(message)\n",
      "/home/xuming/.local/lib/python3.8/site-packages/optuna/distributions.py:427: UserWarning: Choices for a categorical distribution should be a tuple of None, bool, int, float and str for persistent storage but contains (128, 64, 32, 16) which is of type tuple.\n",
      "  warnings.warn(message)\n",
      "/home/xuming/.local/lib/python3.8/site-packages/optuna/distributions.py:427: UserWarning: Choices for a categorical distribution should be a tuple of None, bool, int, float and str for persistent storage but contains (128, 64, 64, 32) which is of type tuple.\n",
      "  warnings.warn(message)\n"
     ]
    },
    {
     "name": "stdout",
     "output_type": "stream",
     "text": [
      "Fold 1 NN: 0.21299\n",
      "Fold 2 NN: 0.21519\n",
      "Fold 3 NN: 0.21151\n",
      "Fold 4 NN: 0.21705\n"
     ]
    },
    {
     "name": "stderr",
     "output_type": "stream",
     "text": [
      " suffix  rmspe_score  hidden_units       stock_embedding_size  activation_func  learning_rate  batch_size  epochs  dropout1  dropout2  time\n",
      " 920016   0.2147292   (128, 64, 32, 16)           64                swish          0.0010         2048     1000  0.10  0.10    02:44 \n",
      "\u001b[32m[I 2021-09-20 12:39:32,374]\u001b[0m Trial 16 finished with value: 0.21472916893074173 and parameters: {'hidden_units': (128, 64, 32, 16), 'stock_embedding_size': 64, 'activation_func': 'swish', 'learning_rate': 0.001, 'epochs': 1000, 'dropout1': 0.1, 'dropout2': 0.1}. Best is trial 1 with value: 0.21119314027705166.\u001b[0m\n"
     ]
    },
    {
     "name": "stdout",
     "output_type": "stream",
     "text": [
      "Fold 5 NN: 0.21685\n",
      "rmspe_score: 0.21472916893074173\n"
     ]
    },
    {
     "name": "stderr",
     "output_type": "stream",
     "text": [
      "/home/xuming/.local/lib/python3.8/site-packages/optuna/distributions.py:427: UserWarning: Choices for a categorical distribution should be a tuple of None, bool, int, float and str for persistent storage but contains (128, 64, 32) which is of type tuple.\n",
      "  warnings.warn(message)\n",
      "/home/xuming/.local/lib/python3.8/site-packages/optuna/distributions.py:427: UserWarning: Choices for a categorical distribution should be a tuple of None, bool, int, float and str for persistent storage but contains (128, 128, 64, 32) which is of type tuple.\n",
      "  warnings.warn(message)\n",
      "/home/xuming/.local/lib/python3.8/site-packages/optuna/distributions.py:427: UserWarning: Choices for a categorical distribution should be a tuple of None, bool, int, float and str for persistent storage but contains (128, 64, 32, 16) which is of type tuple.\n",
      "  warnings.warn(message)\n",
      "/home/xuming/.local/lib/python3.8/site-packages/optuna/distributions.py:427: UserWarning: Choices for a categorical distribution should be a tuple of None, bool, int, float and str for persistent storage but contains (128, 64, 64, 32) which is of type tuple.\n",
      "  warnings.warn(message)\n"
     ]
    },
    {
     "name": "stdout",
     "output_type": "stream",
     "text": [
      "Fold 1 NN: 0.21123\n",
      "Fold 2 NN: 0.21551\n",
      "Fold 3 NN: 0.21174\n",
      "Fold 4 NN: 0.21572\n"
     ]
    },
    {
     "name": "stderr",
     "output_type": "stream",
     "text": [
      " suffix  rmspe_score  hidden_units       stock_embedding_size  activation_func  learning_rate  batch_size  epochs  dropout1  dropout2  time\n",
      " 920017   0.2139249   (128, 64, 32)           64                swish          0.0100         2048      500  0.05  0.05    02:23 \n",
      "\u001b[32m[I 2021-09-20 12:41:56,100]\u001b[0m Trial 17 finished with value: 0.2139248538116974 and parameters: {'hidden_units': (128, 64, 32), 'stock_embedding_size': 64, 'activation_func': 'swish', 'learning_rate': 0.01, 'epochs': 500, 'dropout1': 0.05, 'dropout2': 0.05}. Best is trial 1 with value: 0.21119314027705166.\u001b[0m\n"
     ]
    },
    {
     "name": "stdout",
     "output_type": "stream",
     "text": [
      "Fold 5 NN: 0.21538\n",
      "rmspe_score: 0.2139248538116974\n"
     ]
    },
    {
     "name": "stderr",
     "output_type": "stream",
     "text": [
      "/home/xuming/.local/lib/python3.8/site-packages/optuna/distributions.py:427: UserWarning: Choices for a categorical distribution should be a tuple of None, bool, int, float and str for persistent storage but contains (128, 64, 32) which is of type tuple.\n",
      "  warnings.warn(message)\n",
      "/home/xuming/.local/lib/python3.8/site-packages/optuna/distributions.py:427: UserWarning: Choices for a categorical distribution should be a tuple of None, bool, int, float and str for persistent storage but contains (128, 128, 64, 32) which is of type tuple.\n",
      "  warnings.warn(message)\n",
      "/home/xuming/.local/lib/python3.8/site-packages/optuna/distributions.py:427: UserWarning: Choices for a categorical distribution should be a tuple of None, bool, int, float and str for persistent storage but contains (128, 64, 32, 16) which is of type tuple.\n",
      "  warnings.warn(message)\n",
      "/home/xuming/.local/lib/python3.8/site-packages/optuna/distributions.py:427: UserWarning: Choices for a categorical distribution should be a tuple of None, bool, int, float and str for persistent storage but contains (128, 64, 64, 32) which is of type tuple.\n",
      "  warnings.warn(message)\n"
     ]
    },
    {
     "name": "stdout",
     "output_type": "stream",
     "text": [
      "Fold 1 NN: 0.20873\n",
      "Fold 2 NN: 0.2136\n",
      "Fold 3 NN: 0.20838\n",
      "Fold 4 NN: 0.21472\n"
     ]
    },
    {
     "name": "stderr",
     "output_type": "stream",
     "text": [
      " suffix  rmspe_score  hidden_units       stock_embedding_size  activation_func  learning_rate  batch_size  epochs  dropout1  dropout2  time\n",
      " 920018   0.2117244   (128, 64, 64, 32)           24                swish          0.0100         2048      500  0.00  0.00    01:49 \n",
      "\u001b[32m[I 2021-09-20 12:43:45,124]\u001b[0m Trial 18 finished with value: 0.21172441054882815 and parameters: {'hidden_units': (128, 64, 64, 32), 'stock_embedding_size': 24, 'activation_func': 'swish', 'learning_rate': 0.01, 'epochs': 500, 'dropout1': 0, 'dropout2': 0}. Best is trial 1 with value: 0.21119314027705166.\u001b[0m\n"
     ]
    },
    {
     "name": "stdout",
     "output_type": "stream",
     "text": [
      "Fold 5 NN: 0.21311\n",
      "rmspe_score: 0.21172441054882815\n"
     ]
    },
    {
     "name": "stderr",
     "output_type": "stream",
     "text": [
      "/home/xuming/.local/lib/python3.8/site-packages/optuna/distributions.py:427: UserWarning: Choices for a categorical distribution should be a tuple of None, bool, int, float and str for persistent storage but contains (128, 64, 32) which is of type tuple.\n",
      "  warnings.warn(message)\n",
      "/home/xuming/.local/lib/python3.8/site-packages/optuna/distributions.py:427: UserWarning: Choices for a categorical distribution should be a tuple of None, bool, int, float and str for persistent storage but contains (128, 128, 64, 32) which is of type tuple.\n",
      "  warnings.warn(message)\n",
      "/home/xuming/.local/lib/python3.8/site-packages/optuna/distributions.py:427: UserWarning: Choices for a categorical distribution should be a tuple of None, bool, int, float and str for persistent storage but contains (128, 64, 32, 16) which is of type tuple.\n",
      "  warnings.warn(message)\n",
      "/home/xuming/.local/lib/python3.8/site-packages/optuna/distributions.py:427: UserWarning: Choices for a categorical distribution should be a tuple of None, bool, int, float and str for persistent storage but contains (128, 64, 64, 32) which is of type tuple.\n",
      "  warnings.warn(message)\n"
     ]
    },
    {
     "name": "stdout",
     "output_type": "stream",
     "text": [
      "Fold 1 NN: 0.20738\n",
      "Fold 2 NN: 0.21426\n",
      "Fold 3 NN: 0.20921\n",
      "Fold 4 NN: 0.21511\n"
     ]
    },
    {
     "name": "stderr",
     "output_type": "stream",
     "text": [
      " suffix  rmspe_score  hidden_units       stock_embedding_size  activation_func  learning_rate  batch_size  epochs  dropout1  dropout2  time\n",
      " 920019   0.2119066   (128, 128, 64, 32)           16                swish          0.0040         2048     1000  0.00  0.00    01:37 \n",
      "\u001b[32m[I 2021-09-20 12:45:22,996]\u001b[0m Trial 19 finished with value: 0.21190659090505154 and parameters: {'hidden_units': (128, 128, 64, 32), 'stock_embedding_size': 16, 'activation_func': 'swish', 'learning_rate': 0.004, 'epochs': 1000, 'dropout1': 0, 'dropout2': 0}. Best is trial 1 with value: 0.21119314027705166.\u001b[0m\n"
     ]
    },
    {
     "name": "stdout",
     "output_type": "stream",
     "text": [
      "Fold 5 NN: 0.21347\n",
      "rmspe_score: 0.21190659090505154\n"
     ]
    },
    {
     "name": "stderr",
     "output_type": "stream",
     "text": [
      "/home/xuming/.local/lib/python3.8/site-packages/optuna/distributions.py:427: UserWarning: Choices for a categorical distribution should be a tuple of None, bool, int, float and str for persistent storage but contains (128, 64, 32) which is of type tuple.\n",
      "  warnings.warn(message)\n",
      "/home/xuming/.local/lib/python3.8/site-packages/optuna/distributions.py:427: UserWarning: Choices for a categorical distribution should be a tuple of None, bool, int, float and str for persistent storage but contains (128, 128, 64, 32) which is of type tuple.\n",
      "  warnings.warn(message)\n",
      "/home/xuming/.local/lib/python3.8/site-packages/optuna/distributions.py:427: UserWarning: Choices for a categorical distribution should be a tuple of None, bool, int, float and str for persistent storage but contains (128, 64, 32, 16) which is of type tuple.\n",
      "  warnings.warn(message)\n",
      "/home/xuming/.local/lib/python3.8/site-packages/optuna/distributions.py:427: UserWarning: Choices for a categorical distribution should be a tuple of None, bool, int, float and str for persistent storage but contains (128, 64, 64, 32) which is of type tuple.\n",
      "  warnings.warn(message)\n"
     ]
    },
    {
     "name": "stdout",
     "output_type": "stream",
     "text": [
      "Fold 1 NN: 0.20771\n",
      "Fold 2 NN: 0.214\n",
      "Fold 3 NN: 0.2121\n",
      "Fold 4 NN: 0.21805\n"
     ]
    },
    {
     "name": "stderr",
     "output_type": "stream",
     "text": [
      " suffix  rmspe_score  hidden_units       stock_embedding_size  activation_func  learning_rate  batch_size  epochs  dropout1  dropout2  time\n",
      " 920020   0.2136592   (128, 64, 64, 32)           16                swish          0.0100         2048      200  0.05  0.10    02:28 \n",
      "\u001b[32m[I 2021-09-20 12:47:51,110]\u001b[0m Trial 20 finished with value: 0.2136592061046509 and parameters: {'hidden_units': (128, 64, 64, 32), 'stock_embedding_size': 16, 'activation_func': 'swish', 'learning_rate': 0.01, 'epochs': 200, 'dropout1': 0.05, 'dropout2': 0.1}. Best is trial 1 with value: 0.21119314027705166.\u001b[0m\n"
     ]
    },
    {
     "name": "stdout",
     "output_type": "stream",
     "text": [
      "Fold 5 NN: 0.21629\n",
      "rmspe_score: 0.2136592061046509\n"
     ]
    },
    {
     "name": "stderr",
     "output_type": "stream",
     "text": [
      "/home/xuming/.local/lib/python3.8/site-packages/optuna/distributions.py:427: UserWarning: Choices for a categorical distribution should be a tuple of None, bool, int, float and str for persistent storage but contains (128, 64, 32) which is of type tuple.\n",
      "  warnings.warn(message)\n",
      "/home/xuming/.local/lib/python3.8/site-packages/optuna/distributions.py:427: UserWarning: Choices for a categorical distribution should be a tuple of None, bool, int, float and str for persistent storage but contains (128, 128, 64, 32) which is of type tuple.\n",
      "  warnings.warn(message)\n",
      "/home/xuming/.local/lib/python3.8/site-packages/optuna/distributions.py:427: UserWarning: Choices for a categorical distribution should be a tuple of None, bool, int, float and str for persistent storage but contains (128, 64, 32, 16) which is of type tuple.\n",
      "  warnings.warn(message)\n",
      "/home/xuming/.local/lib/python3.8/site-packages/optuna/distributions.py:427: UserWarning: Choices for a categorical distribution should be a tuple of None, bool, int, float and str for persistent storage but contains (128, 64, 64, 32) which is of type tuple.\n",
      "  warnings.warn(message)\n"
     ]
    },
    {
     "name": "stdout",
     "output_type": "stream",
     "text": [
      "Fold 1 NN: 0.21183\n",
      "Fold 2 NN: 0.21794\n",
      "Fold 3 NN: 0.2163\n",
      "Fold 4 NN: 0.21743\n"
     ]
    },
    {
     "name": "stderr",
     "output_type": "stream",
     "text": [
      " suffix  rmspe_score  hidden_units       stock_embedding_size  activation_func  learning_rate  batch_size  epochs  dropout1  dropout2  time\n",
      " 920021   0.2156861   (128, 128, 64, 32)           24                swish          0.0040         2048     1000  0.00  0.10    02:15 \n",
      "\u001b[32m[I 2021-09-20 12:50:06,937]\u001b[0m Trial 21 finished with value: 0.2156861350987526 and parameters: {'hidden_units': (128, 128, 64, 32), 'stock_embedding_size': 24, 'activation_func': 'swish', 'learning_rate': 0.004, 'epochs': 1000, 'dropout1': 0, 'dropout2': 0.1}. Best is trial 1 with value: 0.21119314027705166.\u001b[0m\n"
     ]
    },
    {
     "name": "stdout",
     "output_type": "stream",
     "text": [
      "Fold 5 NN: 0.21488\n",
      "rmspe_score: 0.2156861350987526\n"
     ]
    },
    {
     "name": "stderr",
     "output_type": "stream",
     "text": [
      "/home/xuming/.local/lib/python3.8/site-packages/optuna/distributions.py:427: UserWarning: Choices for a categorical distribution should be a tuple of None, bool, int, float and str for persistent storage but contains (128, 64, 32) which is of type tuple.\n",
      "  warnings.warn(message)\n",
      "/home/xuming/.local/lib/python3.8/site-packages/optuna/distributions.py:427: UserWarning: Choices for a categorical distribution should be a tuple of None, bool, int, float and str for persistent storage but contains (128, 128, 64, 32) which is of type tuple.\n",
      "  warnings.warn(message)\n",
      "/home/xuming/.local/lib/python3.8/site-packages/optuna/distributions.py:427: UserWarning: Choices for a categorical distribution should be a tuple of None, bool, int, float and str for persistent storage but contains (128, 64, 32, 16) which is of type tuple.\n",
      "  warnings.warn(message)\n",
      "/home/xuming/.local/lib/python3.8/site-packages/optuna/distributions.py:427: UserWarning: Choices for a categorical distribution should be a tuple of None, bool, int, float and str for persistent storage but contains (128, 64, 64, 32) which is of type tuple.\n",
      "  warnings.warn(message)\n"
     ]
    },
    {
     "name": "stdout",
     "output_type": "stream",
     "text": [
      "Fold 1 NN: 0.20798\n",
      "Fold 2 NN: 0.21479\n",
      "Fold 3 NN: 0.20889\n",
      "Fold 4 NN: 0.21522\n"
     ]
    },
    {
     "name": "stderr",
     "output_type": "stream",
     "text": [
      " suffix  rmspe_score  hidden_units       stock_embedding_size  activation_func  learning_rate  batch_size  epochs  dropout1  dropout2  time\n",
      " 920022   0.2120149   (128, 64, 64, 32)           64                swish          0.0100         2048      200  0.20  0.00    02:16 \n",
      "\u001b[32m[I 2021-09-20 12:52:23,631]\u001b[0m Trial 22 finished with value: 0.21201490713993887 and parameters: {'hidden_units': (128, 64, 64, 32), 'stock_embedding_size': 64, 'activation_func': 'swish', 'learning_rate': 0.01, 'epochs': 200, 'dropout1': 0.2, 'dropout2': 0}. Best is trial 1 with value: 0.21119314027705166.\u001b[0m\n"
     ]
    },
    {
     "name": "stdout",
     "output_type": "stream",
     "text": [
      "Fold 5 NN: 0.21309\n",
      "rmspe_score: 0.21201490713993887\n"
     ]
    },
    {
     "name": "stderr",
     "output_type": "stream",
     "text": [
      "/home/xuming/.local/lib/python3.8/site-packages/optuna/distributions.py:427: UserWarning: Choices for a categorical distribution should be a tuple of None, bool, int, float and str for persistent storage but contains (128, 64, 32) which is of type tuple.\n",
      "  warnings.warn(message)\n",
      "/home/xuming/.local/lib/python3.8/site-packages/optuna/distributions.py:427: UserWarning: Choices for a categorical distribution should be a tuple of None, bool, int, float and str for persistent storage but contains (128, 128, 64, 32) which is of type tuple.\n",
      "  warnings.warn(message)\n",
      "/home/xuming/.local/lib/python3.8/site-packages/optuna/distributions.py:427: UserWarning: Choices for a categorical distribution should be a tuple of None, bool, int, float and str for persistent storage but contains (128, 64, 32, 16) which is of type tuple.\n",
      "  warnings.warn(message)\n",
      "/home/xuming/.local/lib/python3.8/site-packages/optuna/distributions.py:427: UserWarning: Choices for a categorical distribution should be a tuple of None, bool, int, float and str for persistent storage but contains (128, 64, 64, 32) which is of type tuple.\n",
      "  warnings.warn(message)\n"
     ]
    },
    {
     "name": "stdout",
     "output_type": "stream",
     "text": [
      "Fold 1 NN: 0.21118\n",
      "Fold 2 NN: 0.21375\n",
      "Fold 3 NN: 0.21129\n",
      "Fold 4 NN: 0.22667\n"
     ]
    },
    {
     "name": "stderr",
     "output_type": "stream",
     "text": [
      " suffix  rmspe_score  hidden_units       stock_embedding_size  activation_func  learning_rate  batch_size  epochs  dropout1  dropout2  time\n",
      " 920023   0.2157769   (128, 64, 32)           16                swish          0.0200         2048     1000  0.00  0.05    02:33 \n",
      "\u001b[32m[I 2021-09-20 12:54:57,191]\u001b[0m Trial 23 finished with value: 0.21577692300398554 and parameters: {'hidden_units': (128, 64, 32), 'stock_embedding_size': 16, 'activation_func': 'swish', 'learning_rate': 0.02, 'epochs': 1000, 'dropout1': 0, 'dropout2': 0.05}. Best is trial 1 with value: 0.21119314027705166.\u001b[0m\n"
     ]
    },
    {
     "name": "stdout",
     "output_type": "stream",
     "text": [
      "Fold 5 NN: 0.21562\n",
      "rmspe_score: 0.21577692300398554\n"
     ]
    },
    {
     "name": "stderr",
     "output_type": "stream",
     "text": [
      "/home/xuming/.local/lib/python3.8/site-packages/optuna/distributions.py:427: UserWarning: Choices for a categorical distribution should be a tuple of None, bool, int, float and str for persistent storage but contains (128, 64, 32) which is of type tuple.\n",
      "  warnings.warn(message)\n",
      "/home/xuming/.local/lib/python3.8/site-packages/optuna/distributions.py:427: UserWarning: Choices for a categorical distribution should be a tuple of None, bool, int, float and str for persistent storage but contains (128, 128, 64, 32) which is of type tuple.\n",
      "  warnings.warn(message)\n",
      "/home/xuming/.local/lib/python3.8/site-packages/optuna/distributions.py:427: UserWarning: Choices for a categorical distribution should be a tuple of None, bool, int, float and str for persistent storage but contains (128, 64, 32, 16) which is of type tuple.\n",
      "  warnings.warn(message)\n",
      "/home/xuming/.local/lib/python3.8/site-packages/optuna/distributions.py:427: UserWarning: Choices for a categorical distribution should be a tuple of None, bool, int, float and str for persistent storage but contains (128, 64, 64, 32) which is of type tuple.\n",
      "  warnings.warn(message)\n"
     ]
    },
    {
     "name": "stdout",
     "output_type": "stream",
     "text": [
      "Fold 1 NN: 0.20885\n",
      "Fold 2 NN: 0.21746\n",
      "Fold 3 NN: 0.21139\n",
      "Fold 4 NN: 0.2185\n"
     ]
    },
    {
     "name": "stderr",
     "output_type": "stream",
     "text": [
      " suffix  rmspe_score  hidden_units       stock_embedding_size  activation_func  learning_rate  batch_size  epochs  dropout1  dropout2  time\n",
      " 920024   0.2141959   (128, 64, 32)           48                swish          0.0100         2048      200  0.05  0.05    02:18 \n",
      "\u001b[32m[I 2021-09-20 12:57:15,808]\u001b[0m Trial 24 finished with value: 0.21419594848345347 and parameters: {'hidden_units': (128, 64, 32), 'stock_embedding_size': 48, 'activation_func': 'swish', 'learning_rate': 0.01, 'epochs': 200, 'dropout1': 0.05, 'dropout2': 0.05}. Best is trial 1 with value: 0.21119314027705166.\u001b[0m\n"
     ]
    },
    {
     "name": "stdout",
     "output_type": "stream",
     "text": [
      "Fold 5 NN: 0.21464\n",
      "rmspe_score: 0.21419594848345347\n"
     ]
    },
    {
     "name": "stderr",
     "output_type": "stream",
     "text": [
      "/home/xuming/.local/lib/python3.8/site-packages/optuna/distributions.py:427: UserWarning: Choices for a categorical distribution should be a tuple of None, bool, int, float and str for persistent storage but contains (128, 64, 32) which is of type tuple.\n",
      "  warnings.warn(message)\n",
      "/home/xuming/.local/lib/python3.8/site-packages/optuna/distributions.py:427: UserWarning: Choices for a categorical distribution should be a tuple of None, bool, int, float and str for persistent storage but contains (128, 128, 64, 32) which is of type tuple.\n",
      "  warnings.warn(message)\n",
      "/home/xuming/.local/lib/python3.8/site-packages/optuna/distributions.py:427: UserWarning: Choices for a categorical distribution should be a tuple of None, bool, int, float and str for persistent storage but contains (128, 64, 32, 16) which is of type tuple.\n",
      "  warnings.warn(message)\n",
      "/home/xuming/.local/lib/python3.8/site-packages/optuna/distributions.py:427: UserWarning: Choices for a categorical distribution should be a tuple of None, bool, int, float and str for persistent storage but contains (128, 64, 64, 32) which is of type tuple.\n",
      "  warnings.warn(message)\n"
     ]
    },
    {
     "name": "stdout",
     "output_type": "stream",
     "text": [
      "Fold 1 NN: 0.21342\n",
      "Fold 2 NN: 0.21633\n",
      "Fold 3 NN: 0.21129\n",
      "Fold 4 NN: 0.2234\n"
     ]
    },
    {
     "name": "stderr",
     "output_type": "stream",
     "text": [
      " suffix  rmspe_score  hidden_units       stock_embedding_size  activation_func  learning_rate  batch_size  epochs  dropout1  dropout2  time\n",
      " 920025   0.2165318   (128, 64, 32)           48                swish          0.0060         2048     1000  0.05  0.10    02:12 \n",
      "\u001b[32m[I 2021-09-20 12:59:28,032]\u001b[0m Trial 25 finished with value: 0.21653181836629334 and parameters: {'hidden_units': (128, 64, 32), 'stock_embedding_size': 48, 'activation_func': 'swish', 'learning_rate': 0.006, 'epochs': 1000, 'dropout1': 0.05, 'dropout2': 0.1}. Best is trial 1 with value: 0.21119314027705166.\u001b[0m\n"
     ]
    },
    {
     "name": "stdout",
     "output_type": "stream",
     "text": [
      "Fold 5 NN: 0.21803\n",
      "rmspe_score: 0.21653181836629334\n"
     ]
    },
    {
     "name": "stderr",
     "output_type": "stream",
     "text": [
      "/home/xuming/.local/lib/python3.8/site-packages/optuna/distributions.py:427: UserWarning: Choices for a categorical distribution should be a tuple of None, bool, int, float and str for persistent storage but contains (128, 64, 32) which is of type tuple.\n",
      "  warnings.warn(message)\n",
      "/home/xuming/.local/lib/python3.8/site-packages/optuna/distributions.py:427: UserWarning: Choices for a categorical distribution should be a tuple of None, bool, int, float and str for persistent storage but contains (128, 128, 64, 32) which is of type tuple.\n",
      "  warnings.warn(message)\n",
      "/home/xuming/.local/lib/python3.8/site-packages/optuna/distributions.py:427: UserWarning: Choices for a categorical distribution should be a tuple of None, bool, int, float and str for persistent storage but contains (128, 64, 32, 16) which is of type tuple.\n",
      "  warnings.warn(message)\n",
      "/home/xuming/.local/lib/python3.8/site-packages/optuna/distributions.py:427: UserWarning: Choices for a categorical distribution should be a tuple of None, bool, int, float and str for persistent storage but contains (128, 64, 64, 32) which is of type tuple.\n",
      "  warnings.warn(message)\n"
     ]
    },
    {
     "name": "stdout",
     "output_type": "stream",
     "text": [
      "Fold 1 NN: 0.21214\n",
      "Fold 2 NN: 0.21454\n",
      "Fold 3 NN: 0.21218\n",
      "Fold 4 NN: 0.21779\n"
     ]
    },
    {
     "name": "stderr",
     "output_type": "stream",
     "text": [
      " suffix  rmspe_score  hidden_units       stock_embedding_size  activation_func  learning_rate  batch_size  epochs  dropout1  dropout2  time\n",
      " 920026   0.2149534   (128, 64, 32)           24                swish          0.0040         2048      500  0.10  0.05    02:22 \n",
      "\u001b[32m[I 2021-09-20 13:01:50,866]\u001b[0m Trial 26 finished with value: 0.21495336099976775 and parameters: {'hidden_units': (128, 64, 32), 'stock_embedding_size': 24, 'activation_func': 'swish', 'learning_rate': 0.004, 'epochs': 500, 'dropout1': 0.1, 'dropout2': 0.05}. Best is trial 1 with value: 0.21119314027705166.\u001b[0m\n"
     ]
    },
    {
     "name": "stdout",
     "output_type": "stream",
     "text": [
      "Fold 5 NN: 0.21804\n",
      "rmspe_score: 0.21495336099976775\n"
     ]
    },
    {
     "name": "stderr",
     "output_type": "stream",
     "text": [
      "/home/xuming/.local/lib/python3.8/site-packages/optuna/distributions.py:427: UserWarning: Choices for a categorical distribution should be a tuple of None, bool, int, float and str for persistent storage but contains (128, 64, 32) which is of type tuple.\n",
      "  warnings.warn(message)\n",
      "/home/xuming/.local/lib/python3.8/site-packages/optuna/distributions.py:427: UserWarning: Choices for a categorical distribution should be a tuple of None, bool, int, float and str for persistent storage but contains (128, 128, 64, 32) which is of type tuple.\n",
      "  warnings.warn(message)\n",
      "/home/xuming/.local/lib/python3.8/site-packages/optuna/distributions.py:427: UserWarning: Choices for a categorical distribution should be a tuple of None, bool, int, float and str for persistent storage but contains (128, 64, 32, 16) which is of type tuple.\n",
      "  warnings.warn(message)\n",
      "/home/xuming/.local/lib/python3.8/site-packages/optuna/distributions.py:427: UserWarning: Choices for a categorical distribution should be a tuple of None, bool, int, float and str for persistent storage but contains (128, 64, 64, 32) which is of type tuple.\n",
      "  warnings.warn(message)\n"
     ]
    },
    {
     "name": "stdout",
     "output_type": "stream",
     "text": [
      "Fold 1 NN: 0.21441\n",
      "Fold 2 NN: 0.21677\n",
      "Fold 3 NN: 0.21556\n",
      "Fold 4 NN: 0.22005\n"
     ]
    },
    {
     "name": "stderr",
     "output_type": "stream",
     "text": [
      " suffix  rmspe_score  hidden_units       stock_embedding_size  activation_func  learning_rate  batch_size  epochs  dropout1  dropout2  time\n",
      " 920027   0.2165818   (128, 128, 64, 32)           48                swish          0.0010         2048      500  0.10  0.10    02:29 \n",
      "\u001b[32m[I 2021-09-20 13:04:19,973]\u001b[0m Trial 27 finished with value: 0.2165817992939228 and parameters: {'hidden_units': (128, 128, 64, 32), 'stock_embedding_size': 48, 'activation_func': 'swish', 'learning_rate': 0.001, 'epochs': 500, 'dropout1': 0.1, 'dropout2': 0.1}. Best is trial 1 with value: 0.21119314027705166.\u001b[0m\n"
     ]
    },
    {
     "name": "stdout",
     "output_type": "stream",
     "text": [
      "Fold 5 NN: 0.21609\n",
      "rmspe_score: 0.2165817992939228\n"
     ]
    },
    {
     "name": "stderr",
     "output_type": "stream",
     "text": [
      "/home/xuming/.local/lib/python3.8/site-packages/optuna/distributions.py:427: UserWarning: Choices for a categorical distribution should be a tuple of None, bool, int, float and str for persistent storage but contains (128, 64, 32) which is of type tuple.\n",
      "  warnings.warn(message)\n",
      "/home/xuming/.local/lib/python3.8/site-packages/optuna/distributions.py:427: UserWarning: Choices for a categorical distribution should be a tuple of None, bool, int, float and str for persistent storage but contains (128, 128, 64, 32) which is of type tuple.\n",
      "  warnings.warn(message)\n",
      "/home/xuming/.local/lib/python3.8/site-packages/optuna/distributions.py:427: UserWarning: Choices for a categorical distribution should be a tuple of None, bool, int, float and str for persistent storage but contains (128, 64, 32, 16) which is of type tuple.\n",
      "  warnings.warn(message)\n",
      "/home/xuming/.local/lib/python3.8/site-packages/optuna/distributions.py:427: UserWarning: Choices for a categorical distribution should be a tuple of None, bool, int, float and str for persistent storage but contains (128, 64, 64, 32) which is of type tuple.\n",
      "  warnings.warn(message)\n"
     ]
    },
    {
     "name": "stdout",
     "output_type": "stream",
     "text": [
      "Fold 1 NN: 0.2132\n",
      "Fold 2 NN: 0.21545\n",
      "Fold 3 NN: 0.21523\n",
      "Fold 4 NN: 0.21716\n"
     ]
    },
    {
     "name": "stderr",
     "output_type": "stream",
     "text": [
      " suffix  rmspe_score  hidden_units       stock_embedding_size  activation_func  learning_rate  batch_size  epochs  dropout1  dropout2  time\n",
      " 920028   0.2155338   (128, 64, 64, 32)           48                swish          0.0010         2048      500  0.10  0.10    02:27 \n",
      "\u001b[32m[I 2021-09-20 13:06:47,600]\u001b[0m Trial 28 finished with value: 0.21553375919289483 and parameters: {'hidden_units': (128, 64, 64, 32), 'stock_embedding_size': 48, 'activation_func': 'swish', 'learning_rate': 0.001, 'epochs': 500, 'dropout1': 0.1, 'dropout2': 0.1}. Best is trial 1 with value: 0.21119314027705166.\u001b[0m\n"
     ]
    },
    {
     "name": "stdout",
     "output_type": "stream",
     "text": [
      "Fold 5 NN: 0.2166\n",
      "rmspe_score: 0.21553375919289483\n"
     ]
    },
    {
     "name": "stderr",
     "output_type": "stream",
     "text": [
      "/home/xuming/.local/lib/python3.8/site-packages/optuna/distributions.py:427: UserWarning: Choices for a categorical distribution should be a tuple of None, bool, int, float and str for persistent storage but contains (128, 64, 32) which is of type tuple.\n",
      "  warnings.warn(message)\n",
      "/home/xuming/.local/lib/python3.8/site-packages/optuna/distributions.py:427: UserWarning: Choices for a categorical distribution should be a tuple of None, bool, int, float and str for persistent storage but contains (128, 128, 64, 32) which is of type tuple.\n",
      "  warnings.warn(message)\n",
      "/home/xuming/.local/lib/python3.8/site-packages/optuna/distributions.py:427: UserWarning: Choices for a categorical distribution should be a tuple of None, bool, int, float and str for persistent storage but contains (128, 64, 32, 16) which is of type tuple.\n",
      "  warnings.warn(message)\n",
      "/home/xuming/.local/lib/python3.8/site-packages/optuna/distributions.py:427: UserWarning: Choices for a categorical distribution should be a tuple of None, bool, int, float and str for persistent storage but contains (128, 64, 64, 32) which is of type tuple.\n",
      "  warnings.warn(message)\n"
     ]
    },
    {
     "name": "stdout",
     "output_type": "stream",
     "text": [
      "Fold 1 NN: 0.21364\n",
      "Fold 2 NN: 0.22481\n",
      "Fold 3 NN: 0.21599\n",
      "Fold 4 NN: 0.21996\n"
     ]
    },
    {
     "name": "stderr",
     "output_type": "stream",
     "text": [
      " suffix  rmspe_score  hidden_units       stock_embedding_size  activation_func  learning_rate  batch_size  epochs  dropout1  dropout2  time\n",
      " 920029   0.2192906   (128, 64, 32)           64                swish          0.0040         2048      200  0.10  0.10    01:50 \n",
      "\u001b[32m[I 2021-09-20 13:08:37,825]\u001b[0m Trial 29 finished with value: 0.21929062397320961 and parameters: {'hidden_units': (128, 64, 32), 'stock_embedding_size': 64, 'activation_func': 'swish', 'learning_rate': 0.004, 'epochs': 200, 'dropout1': 0.1, 'dropout2': 0.1}. Best is trial 1 with value: 0.21119314027705166.\u001b[0m\n"
     ]
    },
    {
     "name": "stdout",
     "output_type": "stream",
     "text": [
      "Fold 5 NN: 0.22187\n",
      "rmspe_score: 0.21929062397320961\n"
     ]
    },
    {
     "name": "stderr",
     "output_type": "stream",
     "text": [
      "/home/xuming/.local/lib/python3.8/site-packages/optuna/distributions.py:427: UserWarning: Choices for a categorical distribution should be a tuple of None, bool, int, float and str for persistent storage but contains (128, 64, 32) which is of type tuple.\n",
      "  warnings.warn(message)\n",
      "/home/xuming/.local/lib/python3.8/site-packages/optuna/distributions.py:427: UserWarning: Choices for a categorical distribution should be a tuple of None, bool, int, float and str for persistent storage but contains (128, 128, 64, 32) which is of type tuple.\n",
      "  warnings.warn(message)\n",
      "/home/xuming/.local/lib/python3.8/site-packages/optuna/distributions.py:427: UserWarning: Choices for a categorical distribution should be a tuple of None, bool, int, float and str for persistent storage but contains (128, 64, 32, 16) which is of type tuple.\n",
      "  warnings.warn(message)\n",
      "/home/xuming/.local/lib/python3.8/site-packages/optuna/distributions.py:427: UserWarning: Choices for a categorical distribution should be a tuple of None, bool, int, float and str for persistent storage but contains (128, 64, 64, 32) which is of type tuple.\n",
      "  warnings.warn(message)\n"
     ]
    },
    {
     "name": "stdout",
     "output_type": "stream",
     "text": [
      "Fold 1 NN: 0.21116\n",
      "Fold 2 NN: 0.21659\n",
      "Fold 3 NN: 0.21171\n",
      "Fold 4 NN: 0.21656\n"
     ]
    },
    {
     "name": "stderr",
     "output_type": "stream",
     "text": [
      " suffix  rmspe_score  hidden_units       stock_embedding_size  activation_func  learning_rate  batch_size  epochs  dropout1  dropout2  time\n",
      " 920030   0.2152424   (128, 64, 64, 32)           48                swish          0.0200         2048      500  0.10  0.05    02:23 \n",
      "\u001b[32m[I 2021-09-20 13:11:01,141]\u001b[0m Trial 30 finished with value: 0.21524243414981642 and parameters: {'hidden_units': (128, 64, 64, 32), 'stock_embedding_size': 48, 'activation_func': 'swish', 'learning_rate': 0.02, 'epochs': 500, 'dropout1': 0.1, 'dropout2': 0.05}. Best is trial 1 with value: 0.21119314027705166.\u001b[0m\n"
     ]
    },
    {
     "name": "stdout",
     "output_type": "stream",
     "text": [
      "Fold 5 NN: 0.22005\n",
      "rmspe_score: 0.21524243414981642\n"
     ]
    },
    {
     "name": "stderr",
     "output_type": "stream",
     "text": [
      "/home/xuming/.local/lib/python3.8/site-packages/optuna/distributions.py:427: UserWarning: Choices for a categorical distribution should be a tuple of None, bool, int, float and str for persistent storage but contains (128, 64, 32) which is of type tuple.\n",
      "  warnings.warn(message)\n",
      "/home/xuming/.local/lib/python3.8/site-packages/optuna/distributions.py:427: UserWarning: Choices for a categorical distribution should be a tuple of None, bool, int, float and str for persistent storage but contains (128, 128, 64, 32) which is of type tuple.\n",
      "  warnings.warn(message)\n",
      "/home/xuming/.local/lib/python3.8/site-packages/optuna/distributions.py:427: UserWarning: Choices for a categorical distribution should be a tuple of None, bool, int, float and str for persistent storage but contains (128, 64, 32, 16) which is of type tuple.\n",
      "  warnings.warn(message)\n",
      "/home/xuming/.local/lib/python3.8/site-packages/optuna/distributions.py:427: UserWarning: Choices for a categorical distribution should be a tuple of None, bool, int, float and str for persistent storage but contains (128, 64, 64, 32) which is of type tuple.\n",
      "  warnings.warn(message)\n"
     ]
    },
    {
     "name": "stdout",
     "output_type": "stream",
     "text": [
      "Fold 1 NN: 0.20968\n",
      "Fold 2 NN: 0.22384\n",
      "Fold 3 NN: 0.21263\n",
      "Fold 4 NN: 0.21715\n"
     ]
    },
    {
     "name": "stderr",
     "output_type": "stream",
     "text": [
      " suffix  rmspe_score  hidden_units       stock_embedding_size  activation_func  learning_rate  batch_size  epochs  dropout1  dropout2  time\n",
      " 920031   0.2159235   (128, 128, 64, 32)           16                swish          0.0100         2048      500  0.00  0.10    02:07 \n",
      "\u001b[32m[I 2021-09-20 13:13:08,760]\u001b[0m Trial 31 finished with value: 0.21592348598753452 and parameters: {'hidden_units': (128, 128, 64, 32), 'stock_embedding_size': 16, 'activation_func': 'swish', 'learning_rate': 0.01, 'epochs': 500, 'dropout1': 0, 'dropout2': 0.1}. Best is trial 1 with value: 0.21119314027705166.\u001b[0m\n"
     ]
    },
    {
     "name": "stdout",
     "output_type": "stream",
     "text": [
      "Fold 5 NN: 0.21606\n",
      "rmspe_score: 0.21592348598753452\n"
     ]
    },
    {
     "name": "stderr",
     "output_type": "stream",
     "text": [
      "/home/xuming/.local/lib/python3.8/site-packages/optuna/distributions.py:427: UserWarning: Choices for a categorical distribution should be a tuple of None, bool, int, float and str for persistent storage but contains (128, 64, 32) which is of type tuple.\n",
      "  warnings.warn(message)\n",
      "/home/xuming/.local/lib/python3.8/site-packages/optuna/distributions.py:427: UserWarning: Choices for a categorical distribution should be a tuple of None, bool, int, float and str for persistent storage but contains (128, 128, 64, 32) which is of type tuple.\n",
      "  warnings.warn(message)\n",
      "/home/xuming/.local/lib/python3.8/site-packages/optuna/distributions.py:427: UserWarning: Choices for a categorical distribution should be a tuple of None, bool, int, float and str for persistent storage but contains (128, 64, 32, 16) which is of type tuple.\n",
      "  warnings.warn(message)\n",
      "/home/xuming/.local/lib/python3.8/site-packages/optuna/distributions.py:427: UserWarning: Choices for a categorical distribution should be a tuple of None, bool, int, float and str for persistent storage but contains (128, 64, 64, 32) which is of type tuple.\n",
      "  warnings.warn(message)\n"
     ]
    },
    {
     "name": "stdout",
     "output_type": "stream",
     "text": [
      "Fold 1 NN: 0.21222\n",
      "Fold 2 NN: 0.21585\n",
      "Fold 3 NN: 0.21217\n",
      "Fold 4 NN: 0.2207\n"
     ]
    },
    {
     "name": "stderr",
     "output_type": "stream",
     "text": [
      " suffix  rmspe_score  hidden_units       stock_embedding_size  activation_func  learning_rate  batch_size  epochs  dropout1  dropout2  time\n",
      " 920032   0.2158912   (128, 64, 32)           24                swish          0.0060         2048      200  0.20  0.05    02:11 \n",
      "\u001b[32m[I 2021-09-20 13:15:20,048]\u001b[0m Trial 32 finished with value: 0.21589122500569302 and parameters: {'hidden_units': (128, 64, 32), 'stock_embedding_size': 24, 'activation_func': 'swish', 'learning_rate': 0.006, 'epochs': 200, 'dropout1': 0.2, 'dropout2': 0.05}. Best is trial 1 with value: 0.21119314027705166.\u001b[0m\n"
     ]
    },
    {
     "name": "stdout",
     "output_type": "stream",
     "text": [
      "Fold 5 NN: 0.21839\n",
      "rmspe_score: 0.21589122500569302\n"
     ]
    },
    {
     "name": "stderr",
     "output_type": "stream",
     "text": [
      "/home/xuming/.local/lib/python3.8/site-packages/optuna/distributions.py:427: UserWarning: Choices for a categorical distribution should be a tuple of None, bool, int, float and str for persistent storage but contains (128, 64, 32) which is of type tuple.\n",
      "  warnings.warn(message)\n",
      "/home/xuming/.local/lib/python3.8/site-packages/optuna/distributions.py:427: UserWarning: Choices for a categorical distribution should be a tuple of None, bool, int, float and str for persistent storage but contains (128, 128, 64, 32) which is of type tuple.\n",
      "  warnings.warn(message)\n",
      "/home/xuming/.local/lib/python3.8/site-packages/optuna/distributions.py:427: UserWarning: Choices for a categorical distribution should be a tuple of None, bool, int, float and str for persistent storage but contains (128, 64, 32, 16) which is of type tuple.\n",
      "  warnings.warn(message)\n",
      "/home/xuming/.local/lib/python3.8/site-packages/optuna/distributions.py:427: UserWarning: Choices for a categorical distribution should be a tuple of None, bool, int, float and str for persistent storage but contains (128, 64, 64, 32) which is of type tuple.\n",
      "  warnings.warn(message)\n"
     ]
    },
    {
     "name": "stdout",
     "output_type": "stream",
     "text": [
      "Fold 1 NN: 0.21202\n",
      "Fold 2 NN: 0.21571\n",
      "Fold 3 NN: 0.21443\n",
      "Fold 4 NN: 0.21638\n"
     ]
    },
    {
     "name": "stderr",
     "output_type": "stream",
     "text": [
      " suffix  rmspe_score  hidden_units       stock_embedding_size  activation_func  learning_rate  batch_size  epochs  dropout1  dropout2  time\n",
      " 920033   0.2150476   (128, 64, 32)           64                swish          0.0060         2048      500  0.10  0.10    02:17 \n",
      "\u001b[32m[I 2021-09-20 13:17:37,337]\u001b[0m Trial 33 finished with value: 0.2150475903326566 and parameters: {'hidden_units': (128, 64, 32), 'stock_embedding_size': 64, 'activation_func': 'swish', 'learning_rate': 0.006, 'epochs': 500, 'dropout1': 0.1, 'dropout2': 0.1}. Best is trial 1 with value: 0.21119314027705166.\u001b[0m\n"
     ]
    },
    {
     "name": "stdout",
     "output_type": "stream",
     "text": [
      "Fold 5 NN: 0.21666\n",
      "rmspe_score: 0.2150475903326566\n"
     ]
    },
    {
     "name": "stderr",
     "output_type": "stream",
     "text": [
      "/home/xuming/.local/lib/python3.8/site-packages/optuna/distributions.py:427: UserWarning: Choices for a categorical distribution should be a tuple of None, bool, int, float and str for persistent storage but contains (128, 64, 32) which is of type tuple.\n",
      "  warnings.warn(message)\n",
      "/home/xuming/.local/lib/python3.8/site-packages/optuna/distributions.py:427: UserWarning: Choices for a categorical distribution should be a tuple of None, bool, int, float and str for persistent storage but contains (128, 128, 64, 32) which is of type tuple.\n",
      "  warnings.warn(message)\n",
      "/home/xuming/.local/lib/python3.8/site-packages/optuna/distributions.py:427: UserWarning: Choices for a categorical distribution should be a tuple of None, bool, int, float and str for persistent storage but contains (128, 64, 32, 16) which is of type tuple.\n",
      "  warnings.warn(message)\n",
      "/home/xuming/.local/lib/python3.8/site-packages/optuna/distributions.py:427: UserWarning: Choices for a categorical distribution should be a tuple of None, bool, int, float and str for persistent storage but contains (128, 64, 64, 32) which is of type tuple.\n",
      "  warnings.warn(message)\n"
     ]
    },
    {
     "name": "stdout",
     "output_type": "stream",
     "text": [
      "Fold 1 NN: 0.20997\n",
      "Fold 2 NN: 0.21362\n",
      "Fold 3 NN: 0.2158\n",
      "Fold 4 NN: 0.21644\n"
     ]
    },
    {
     "name": "stderr",
     "output_type": "stream",
     "text": [
      " suffix  rmspe_score  hidden_units       stock_embedding_size  activation_func  learning_rate  batch_size  epochs  dropout1  dropout2  time\n",
      " 920034   0.2146740   (128, 64, 32)           24                swish          0.0100         2048      200  0.00  0.10    02:25 \n",
      "\u001b[32m[I 2021-09-20 13:20:02,684]\u001b[0m Trial 34 finished with value: 0.21467402626706458 and parameters: {'hidden_units': (128, 64, 32), 'stock_embedding_size': 24, 'activation_func': 'swish', 'learning_rate': 0.01, 'epochs': 200, 'dropout1': 0, 'dropout2': 0.1}. Best is trial 1 with value: 0.21119314027705166.\u001b[0m\n"
     ]
    },
    {
     "name": "stdout",
     "output_type": "stream",
     "text": [
      "Fold 5 NN: 0.21746\n",
      "rmspe_score: 0.21467402626706458\n"
     ]
    },
    {
     "name": "stderr",
     "output_type": "stream",
     "text": [
      "/home/xuming/.local/lib/python3.8/site-packages/optuna/distributions.py:427: UserWarning: Choices for a categorical distribution should be a tuple of None, bool, int, float and str for persistent storage but contains (128, 64, 32) which is of type tuple.\n",
      "  warnings.warn(message)\n",
      "/home/xuming/.local/lib/python3.8/site-packages/optuna/distributions.py:427: UserWarning: Choices for a categorical distribution should be a tuple of None, bool, int, float and str for persistent storage but contains (128, 128, 64, 32) which is of type tuple.\n",
      "  warnings.warn(message)\n",
      "/home/xuming/.local/lib/python3.8/site-packages/optuna/distributions.py:427: UserWarning: Choices for a categorical distribution should be a tuple of None, bool, int, float and str for persistent storage but contains (128, 64, 32, 16) which is of type tuple.\n",
      "  warnings.warn(message)\n",
      "/home/xuming/.local/lib/python3.8/site-packages/optuna/distributions.py:427: UserWarning: Choices for a categorical distribution should be a tuple of None, bool, int, float and str for persistent storage but contains (128, 64, 64, 32) which is of type tuple.\n",
      "  warnings.warn(message)\n"
     ]
    },
    {
     "name": "stdout",
     "output_type": "stream",
     "text": [
      "Fold 1 NN: 0.20845\n",
      "Fold 2 NN: 0.21212\n",
      "Fold 3 NN: 0.20975\n",
      "Fold 4 NN: 0.21444\n"
     ]
    },
    {
     "name": "stderr",
     "output_type": "stream",
     "text": [
      " suffix  rmspe_score  hidden_units       stock_embedding_size  activation_func  learning_rate  batch_size  epochs  dropout1  dropout2  time\n",
      " 920035   0.2115183   (128, 64, 64, 32)           16                swish          0.0100         2048      200  0.00  0.00    01:54 \n",
      "\u001b[32m[I 2021-09-20 13:21:56,941]\u001b[0m Trial 35 finished with value: 0.21151829462687666 and parameters: {'hidden_units': (128, 64, 64, 32), 'stock_embedding_size': 16, 'activation_func': 'swish', 'learning_rate': 0.01, 'epochs': 200, 'dropout1': 0, 'dropout2': 0}. Best is trial 1 with value: 0.21119314027705166.\u001b[0m\n"
     ]
    },
    {
     "name": "stdout",
     "output_type": "stream",
     "text": [
      "Fold 5 NN: 0.21277\n",
      "rmspe_score: 0.21151829462687666\n"
     ]
    },
    {
     "name": "stderr",
     "output_type": "stream",
     "text": [
      "/home/xuming/.local/lib/python3.8/site-packages/optuna/distributions.py:427: UserWarning: Choices for a categorical distribution should be a tuple of None, bool, int, float and str for persistent storage but contains (128, 64, 32) which is of type tuple.\n",
      "  warnings.warn(message)\n",
      "/home/xuming/.local/lib/python3.8/site-packages/optuna/distributions.py:427: UserWarning: Choices for a categorical distribution should be a tuple of None, bool, int, float and str for persistent storage but contains (128, 128, 64, 32) which is of type tuple.\n",
      "  warnings.warn(message)\n",
      "/home/xuming/.local/lib/python3.8/site-packages/optuna/distributions.py:427: UserWarning: Choices for a categorical distribution should be a tuple of None, bool, int, float and str for persistent storage but contains (128, 64, 32, 16) which is of type tuple.\n",
      "  warnings.warn(message)\n",
      "/home/xuming/.local/lib/python3.8/site-packages/optuna/distributions.py:427: UserWarning: Choices for a categorical distribution should be a tuple of None, bool, int, float and str for persistent storage but contains (128, 64, 64, 32) which is of type tuple.\n",
      "  warnings.warn(message)\n"
     ]
    },
    {
     "name": "stdout",
     "output_type": "stream",
     "text": [
      "Fold 1 NN: 0.20717\n",
      "Fold 2 NN: 0.21353\n",
      "Fold 3 NN: 0.20991\n",
      "Fold 4 NN: 0.21689\n"
     ]
    },
    {
     "name": "stderr",
     "output_type": "stream",
     "text": [
      " suffix  rmspe_score  hidden_units       stock_embedding_size  activation_func  learning_rate  batch_size  epochs  dropout1  dropout2  time\n",
      " 920036   0.2125538   (128, 64, 64, 32)           24                swish          0.0010         2048      500  0.10  0.00    02:00 \n",
      "\u001b[32m[I 2021-09-20 13:23:57,353]\u001b[0m Trial 36 finished with value: 0.21255377995766048 and parameters: {'hidden_units': (128, 64, 64, 32), 'stock_embedding_size': 24, 'activation_func': 'swish', 'learning_rate': 0.001, 'epochs': 500, 'dropout1': 0.1, 'dropout2': 0}. Best is trial 1 with value: 0.21119314027705166.\u001b[0m\n"
     ]
    },
    {
     "name": "stdout",
     "output_type": "stream",
     "text": [
      "Fold 5 NN: 0.21512\n",
      "rmspe_score: 0.21255377995766048\n"
     ]
    },
    {
     "name": "stderr",
     "output_type": "stream",
     "text": [
      "/home/xuming/.local/lib/python3.8/site-packages/optuna/distributions.py:427: UserWarning: Choices for a categorical distribution should be a tuple of None, bool, int, float and str for persistent storage but contains (128, 64, 32) which is of type tuple.\n",
      "  warnings.warn(message)\n",
      "/home/xuming/.local/lib/python3.8/site-packages/optuna/distributions.py:427: UserWarning: Choices for a categorical distribution should be a tuple of None, bool, int, float and str for persistent storage but contains (128, 128, 64, 32) which is of type tuple.\n",
      "  warnings.warn(message)\n",
      "/home/xuming/.local/lib/python3.8/site-packages/optuna/distributions.py:427: UserWarning: Choices for a categorical distribution should be a tuple of None, bool, int, float and str for persistent storage but contains (128, 64, 32, 16) which is of type tuple.\n",
      "  warnings.warn(message)\n",
      "/home/xuming/.local/lib/python3.8/site-packages/optuna/distributions.py:427: UserWarning: Choices for a categorical distribution should be a tuple of None, bool, int, float and str for persistent storage but contains (128, 64, 64, 32) which is of type tuple.\n",
      "  warnings.warn(message)\n"
     ]
    },
    {
     "name": "stdout",
     "output_type": "stream",
     "text": [
      "Fold 1 NN: 0.21075\n",
      "Fold 2 NN: 0.22071\n",
      "Fold 3 NN: 0.21844\n",
      "Fold 4 NN: 0.2207\n"
     ]
    },
    {
     "name": "stderr",
     "output_type": "stream",
     "text": [
      " suffix  rmspe_score  hidden_units       stock_embedding_size  activation_func  learning_rate  batch_size  epochs  dropout1  dropout2  time\n",
      " 920037   0.2179359   (128, 64, 32)           16                swish          0.0040         2048     1000  0.00  0.10    02:22 \n",
      "\u001b[32m[I 2021-09-20 13:26:20,365]\u001b[0m Trial 37 finished with value: 0.2179358700573952 and parameters: {'hidden_units': (128, 64, 32), 'stock_embedding_size': 16, 'activation_func': 'swish', 'learning_rate': 0.004, 'epochs': 1000, 'dropout1': 0, 'dropout2': 0.1}. Best is trial 1 with value: 0.21119314027705166.\u001b[0m\n"
     ]
    },
    {
     "name": "stdout",
     "output_type": "stream",
     "text": [
      "Fold 5 NN: 0.21892\n",
      "rmspe_score: 0.2179358700573952\n"
     ]
    },
    {
     "name": "stderr",
     "output_type": "stream",
     "text": [
      "/home/xuming/.local/lib/python3.8/site-packages/optuna/distributions.py:427: UserWarning: Choices for a categorical distribution should be a tuple of None, bool, int, float and str for persistent storage but contains (128, 64, 32) which is of type tuple.\n",
      "  warnings.warn(message)\n",
      "/home/xuming/.local/lib/python3.8/site-packages/optuna/distributions.py:427: UserWarning: Choices for a categorical distribution should be a tuple of None, bool, int, float and str for persistent storage but contains (128, 128, 64, 32) which is of type tuple.\n",
      "  warnings.warn(message)\n",
      "/home/xuming/.local/lib/python3.8/site-packages/optuna/distributions.py:427: UserWarning: Choices for a categorical distribution should be a tuple of None, bool, int, float and str for persistent storage but contains (128, 64, 32, 16) which is of type tuple.\n",
      "  warnings.warn(message)\n",
      "/home/xuming/.local/lib/python3.8/site-packages/optuna/distributions.py:427: UserWarning: Choices for a categorical distribution should be a tuple of None, bool, int, float and str for persistent storage but contains (128, 64, 64, 32) which is of type tuple.\n",
      "  warnings.warn(message)\n"
     ]
    },
    {
     "name": "stdout",
     "output_type": "stream",
     "text": [
      "Fold 1 NN: 0.20866\n",
      "Fold 2 NN: 0.21569\n",
      "Fold 3 NN: 0.21022\n",
      "Fold 4 NN: 0.21451\n"
     ]
    },
    {
     "name": "stderr",
     "output_type": "stream",
     "text": [
      " suffix  rmspe_score  hidden_units       stock_embedding_size  activation_func  learning_rate  batch_size  epochs  dropout1  dropout2  time\n",
      " 920038   0.2130870   (128, 64, 32)           48                swish          0.0040         2048     1000  0.05  0.05    02:31 \n",
      "\u001b[32m[I 2021-09-20 13:28:51,888]\u001b[0m Trial 38 finished with value: 0.21308696333756663 and parameters: {'hidden_units': (128, 64, 32), 'stock_embedding_size': 48, 'activation_func': 'swish', 'learning_rate': 0.004, 'epochs': 1000, 'dropout1': 0.05, 'dropout2': 0.05}. Best is trial 1 with value: 0.21119314027705166.\u001b[0m\n"
     ]
    },
    {
     "name": "stdout",
     "output_type": "stream",
     "text": [
      "Fold 5 NN: 0.21625\n",
      "rmspe_score: 0.21308696333756663\n"
     ]
    },
    {
     "name": "stderr",
     "output_type": "stream",
     "text": [
      "/home/xuming/.local/lib/python3.8/site-packages/optuna/distributions.py:427: UserWarning: Choices for a categorical distribution should be a tuple of None, bool, int, float and str for persistent storage but contains (128, 64, 32) which is of type tuple.\n",
      "  warnings.warn(message)\n",
      "/home/xuming/.local/lib/python3.8/site-packages/optuna/distributions.py:427: UserWarning: Choices for a categorical distribution should be a tuple of None, bool, int, float and str for persistent storage but contains (128, 128, 64, 32) which is of type tuple.\n",
      "  warnings.warn(message)\n",
      "/home/xuming/.local/lib/python3.8/site-packages/optuna/distributions.py:427: UserWarning: Choices for a categorical distribution should be a tuple of None, bool, int, float and str for persistent storage but contains (128, 64, 32, 16) which is of type tuple.\n",
      "  warnings.warn(message)\n",
      "/home/xuming/.local/lib/python3.8/site-packages/optuna/distributions.py:427: UserWarning: Choices for a categorical distribution should be a tuple of None, bool, int, float and str for persistent storage but contains (128, 64, 64, 32) which is of type tuple.\n",
      "  warnings.warn(message)\n"
     ]
    },
    {
     "name": "stdout",
     "output_type": "stream",
     "text": [
      "Fold 1 NN: 0.20743\n",
      "Fold 2 NN: 0.21288\n",
      "Fold 3 NN: 0.2082\n",
      "Fold 4 NN: 0.2137\n"
     ]
    },
    {
     "name": "stderr",
     "output_type": "stream",
     "text": [
      " suffix  rmspe_score  hidden_units       stock_embedding_size  activation_func  learning_rate  batch_size  epochs  dropout1  dropout2  time\n",
      " 920039   0.2111673   (128, 128, 64, 32)           64                swish          0.0040         2048      200  0.00  0.00    01:48 \n",
      "\u001b[32m[I 2021-09-20 13:30:40,662]\u001b[0m Trial 39 finished with value: 0.21116726984110495 and parameters: {'hidden_units': (128, 128, 64, 32), 'stock_embedding_size': 64, 'activation_func': 'swish', 'learning_rate': 0.004, 'epochs': 200, 'dropout1': 0, 'dropout2': 0}. Best is trial 39 with value: 0.21116726984110495.\u001b[0m\n"
     ]
    },
    {
     "name": "stdout",
     "output_type": "stream",
     "text": [
      "Fold 5 NN: 0.21355\n",
      "rmspe_score: 0.21116726984110495\n"
     ]
    },
    {
     "name": "stderr",
     "output_type": "stream",
     "text": [
      "/home/xuming/.local/lib/python3.8/site-packages/optuna/distributions.py:427: UserWarning: Choices for a categorical distribution should be a tuple of None, bool, int, float and str for persistent storage but contains (128, 64, 32) which is of type tuple.\n",
      "  warnings.warn(message)\n",
      "/home/xuming/.local/lib/python3.8/site-packages/optuna/distributions.py:427: UserWarning: Choices for a categorical distribution should be a tuple of None, bool, int, float and str for persistent storage but contains (128, 128, 64, 32) which is of type tuple.\n",
      "  warnings.warn(message)\n",
      "/home/xuming/.local/lib/python3.8/site-packages/optuna/distributions.py:427: UserWarning: Choices for a categorical distribution should be a tuple of None, bool, int, float and str for persistent storage but contains (128, 64, 32, 16) which is of type tuple.\n",
      "  warnings.warn(message)\n",
      "/home/xuming/.local/lib/python3.8/site-packages/optuna/distributions.py:427: UserWarning: Choices for a categorical distribution should be a tuple of None, bool, int, float and str for persistent storage but contains (128, 64, 64, 32) which is of type tuple.\n",
      "  warnings.warn(message)\n"
     ]
    },
    {
     "name": "stdout",
     "output_type": "stream",
     "text": [
      "Fold 1 NN: 0.20837\n",
      "Fold 2 NN: 0.21408\n",
      "Fold 3 NN: 0.21008\n",
      "Fold 4 NN: 0.21496\n"
     ]
    },
    {
     "name": "stderr",
     "output_type": "stream",
     "text": [
      " suffix  rmspe_score  hidden_units       stock_embedding_size  activation_func  learning_rate  batch_size  epochs  dropout1  dropout2  time\n",
      " 920040   0.2125445   (128, 128, 64, 32)           32                swish          0.0040         2048      200  0.20  0.00    02:03 \n",
      "\u001b[32m[I 2021-09-20 13:32:43,843]\u001b[0m Trial 40 finished with value: 0.2125445275076332 and parameters: {'hidden_units': (128, 128, 64, 32), 'stock_embedding_size': 32, 'activation_func': 'swish', 'learning_rate': 0.004, 'epochs': 200, 'dropout1': 0.2, 'dropout2': 0}. Best is trial 39 with value: 0.21116726984110495.\u001b[0m\n"
     ]
    },
    {
     "name": "stdout",
     "output_type": "stream",
     "text": [
      "Fold 5 NN: 0.21515\n",
      "rmspe_score: 0.2125445275076332\n"
     ]
    },
    {
     "name": "stderr",
     "output_type": "stream",
     "text": [
      "/home/xuming/.local/lib/python3.8/site-packages/optuna/distributions.py:427: UserWarning: Choices for a categorical distribution should be a tuple of None, bool, int, float and str for persistent storage but contains (128, 64, 32) which is of type tuple.\n",
      "  warnings.warn(message)\n",
      "/home/xuming/.local/lib/python3.8/site-packages/optuna/distributions.py:427: UserWarning: Choices for a categorical distribution should be a tuple of None, bool, int, float and str for persistent storage but contains (128, 128, 64, 32) which is of type tuple.\n",
      "  warnings.warn(message)\n",
      "/home/xuming/.local/lib/python3.8/site-packages/optuna/distributions.py:427: UserWarning: Choices for a categorical distribution should be a tuple of None, bool, int, float and str for persistent storage but contains (128, 64, 32, 16) which is of type tuple.\n",
      "  warnings.warn(message)\n",
      "/home/xuming/.local/lib/python3.8/site-packages/optuna/distributions.py:427: UserWarning: Choices for a categorical distribution should be a tuple of None, bool, int, float and str for persistent storage but contains (128, 64, 64, 32) which is of type tuple.\n",
      "  warnings.warn(message)\n"
     ]
    },
    {
     "name": "stdout",
     "output_type": "stream",
     "text": [
      "Fold 1 NN: 0.20946\n",
      "Fold 2 NN: 0.21374\n",
      "Fold 3 NN: 0.21056\n",
      "Fold 4 NN: 0.21475\n"
     ]
    },
    {
     "name": "stderr",
     "output_type": "stream",
     "text": [
      " suffix  rmspe_score  hidden_units       stock_embedding_size  activation_func  learning_rate  batch_size  epochs  dropout1  dropout2  time\n",
      " 920041   0.2128431   (128, 128, 64, 32)           24                swish          0.0200         2048      200  0.00  0.00    02:34 \n",
      "\u001b[32m[I 2021-09-20 13:35:17,944]\u001b[0m Trial 41 finished with value: 0.21284306959483346 and parameters: {'hidden_units': (128, 128, 64, 32), 'stock_embedding_size': 24, 'activation_func': 'swish', 'learning_rate': 0.02, 'epochs': 200, 'dropout1': 0, 'dropout2': 0}. Best is trial 39 with value: 0.21116726984110495.\u001b[0m\n"
     ]
    },
    {
     "name": "stdout",
     "output_type": "stream",
     "text": [
      "Fold 5 NN: 0.21564\n",
      "rmspe_score: 0.21284306959483346\n"
     ]
    },
    {
     "name": "stderr",
     "output_type": "stream",
     "text": [
      "/home/xuming/.local/lib/python3.8/site-packages/optuna/distributions.py:427: UserWarning: Choices for a categorical distribution should be a tuple of None, bool, int, float and str for persistent storage but contains (128, 64, 32) which is of type tuple.\n",
      "  warnings.warn(message)\n",
      "/home/xuming/.local/lib/python3.8/site-packages/optuna/distributions.py:427: UserWarning: Choices for a categorical distribution should be a tuple of None, bool, int, float and str for persistent storage but contains (128, 128, 64, 32) which is of type tuple.\n",
      "  warnings.warn(message)\n",
      "/home/xuming/.local/lib/python3.8/site-packages/optuna/distributions.py:427: UserWarning: Choices for a categorical distribution should be a tuple of None, bool, int, float and str for persistent storage but contains (128, 64, 32, 16) which is of type tuple.\n",
      "  warnings.warn(message)\n",
      "/home/xuming/.local/lib/python3.8/site-packages/optuna/distributions.py:427: UserWarning: Choices for a categorical distribution should be a tuple of None, bool, int, float and str for persistent storage but contains (128, 64, 64, 32) which is of type tuple.\n",
      "  warnings.warn(message)\n"
     ]
    },
    {
     "name": "stdout",
     "output_type": "stream",
     "text": [
      "Fold 1 NN: 0.20706\n",
      "Fold 2 NN: 0.21427\n",
      "Fold 3 NN: 0.20922\n",
      "Fold 4 NN: 0.21523\n"
     ]
    },
    {
     "name": "stderr",
     "output_type": "stream",
     "text": [
      " suffix  rmspe_score  hidden_units       stock_embedding_size  activation_func  learning_rate  batch_size  epochs  dropout1  dropout2  time\n",
      " 920042   0.2122319   (128, 64, 32, 16)           32                swish          0.0010         2048      500  0.05  0.00    01:57 \n",
      "\u001b[32m[I 2021-09-20 13:37:15,086]\u001b[0m Trial 42 finished with value: 0.2122319151457763 and parameters: {'hidden_units': (128, 64, 32, 16), 'stock_embedding_size': 32, 'activation_func': 'swish', 'learning_rate': 0.001, 'epochs': 500, 'dropout1': 0.05, 'dropout2': 0}. Best is trial 39 with value: 0.21116726984110495.\u001b[0m\n"
     ]
    },
    {
     "name": "stdout",
     "output_type": "stream",
     "text": [
      "Fold 5 NN: 0.21525\n",
      "rmspe_score: 0.2122319151457763\n"
     ]
    },
    {
     "name": "stderr",
     "output_type": "stream",
     "text": [
      "/home/xuming/.local/lib/python3.8/site-packages/optuna/distributions.py:427: UserWarning: Choices for a categorical distribution should be a tuple of None, bool, int, float and str for persistent storage but contains (128, 64, 32) which is of type tuple.\n",
      "  warnings.warn(message)\n",
      "/home/xuming/.local/lib/python3.8/site-packages/optuna/distributions.py:427: UserWarning: Choices for a categorical distribution should be a tuple of None, bool, int, float and str for persistent storage but contains (128, 128, 64, 32) which is of type tuple.\n",
      "  warnings.warn(message)\n",
      "/home/xuming/.local/lib/python3.8/site-packages/optuna/distributions.py:427: UserWarning: Choices for a categorical distribution should be a tuple of None, bool, int, float and str for persistent storage but contains (128, 64, 32, 16) which is of type tuple.\n",
      "  warnings.warn(message)\n",
      "/home/xuming/.local/lib/python3.8/site-packages/optuna/distributions.py:427: UserWarning: Choices for a categorical distribution should be a tuple of None, bool, int, float and str for persistent storage but contains (128, 64, 64, 32) which is of type tuple.\n",
      "  warnings.warn(message)\n"
     ]
    },
    {
     "name": "stdout",
     "output_type": "stream",
     "text": [
      "Fold 1 NN: 0.20877\n",
      "Fold 2 NN: 0.21884\n",
      "Fold 3 NN: 0.21006\n",
      "Fold 4 NN: 0.21587\n"
     ]
    },
    {
     "name": "stderr",
     "output_type": "stream",
     "text": [
      " suffix  rmspe_score  hidden_units       stock_embedding_size  activation_func  learning_rate  batch_size  epochs  dropout1  dropout2  time\n",
      " 920043   0.2142257   (128, 64, 32)           64                swish          0.0100         2048     1000  0.20  0.00    02:23 \n",
      "\u001b[32m[I 2021-09-20 13:39:38,620]\u001b[0m Trial 43 finished with value: 0.21422565688595857 and parameters: {'hidden_units': (128, 64, 32), 'stock_embedding_size': 64, 'activation_func': 'swish', 'learning_rate': 0.01, 'epochs': 1000, 'dropout1': 0.2, 'dropout2': 0}. Best is trial 39 with value: 0.21116726984110495.\u001b[0m\n"
     ]
    },
    {
     "name": "stdout",
     "output_type": "stream",
     "text": [
      "Fold 5 NN: 0.21739\n",
      "rmspe_score: 0.21422565688595857\n"
     ]
    },
    {
     "name": "stderr",
     "output_type": "stream",
     "text": [
      "/home/xuming/.local/lib/python3.8/site-packages/optuna/distributions.py:427: UserWarning: Choices for a categorical distribution should be a tuple of None, bool, int, float and str for persistent storage but contains (128, 64, 32) which is of type tuple.\n",
      "  warnings.warn(message)\n",
      "/home/xuming/.local/lib/python3.8/site-packages/optuna/distributions.py:427: UserWarning: Choices for a categorical distribution should be a tuple of None, bool, int, float and str for persistent storage but contains (128, 128, 64, 32) which is of type tuple.\n",
      "  warnings.warn(message)\n",
      "/home/xuming/.local/lib/python3.8/site-packages/optuna/distributions.py:427: UserWarning: Choices for a categorical distribution should be a tuple of None, bool, int, float and str for persistent storage but contains (128, 64, 32, 16) which is of type tuple.\n",
      "  warnings.warn(message)\n",
      "/home/xuming/.local/lib/python3.8/site-packages/optuna/distributions.py:427: UserWarning: Choices for a categorical distribution should be a tuple of None, bool, int, float and str for persistent storage but contains (128, 64, 64, 32) which is of type tuple.\n",
      "  warnings.warn(message)\n"
     ]
    },
    {
     "name": "stdout",
     "output_type": "stream",
     "text": [
      "Fold 1 NN: 0.20864\n",
      "Fold 2 NN: 0.21768\n",
      "Fold 3 NN: 0.20924\n",
      "Fold 4 NN: 0.22492\n"
     ]
    },
    {
     "name": "stderr",
     "output_type": "stream",
     "text": [
      " suffix  rmspe_score  hidden_units       stock_embedding_size  activation_func  learning_rate  batch_size  epochs  dropout1  dropout2  time\n",
      " 920044   0.2152600   (128, 64, 32)           48                swish          0.0060         2048     1000  0.20  0.00    01:57 \n",
      "\u001b[32m[I 2021-09-20 13:41:35,900]\u001b[0m Trial 44 finished with value: 0.215260011278511 and parameters: {'hidden_units': (128, 64, 32), 'stock_embedding_size': 48, 'activation_func': 'swish', 'learning_rate': 0.006, 'epochs': 1000, 'dropout1': 0.2, 'dropout2': 0}. Best is trial 39 with value: 0.21116726984110495.\u001b[0m\n"
     ]
    },
    {
     "name": "stdout",
     "output_type": "stream",
     "text": [
      "Fold 5 NN: 0.2154\n",
      "rmspe_score: 0.215260011278511\n"
     ]
    },
    {
     "name": "stderr",
     "output_type": "stream",
     "text": [
      "/home/xuming/.local/lib/python3.8/site-packages/optuna/distributions.py:427: UserWarning: Choices for a categorical distribution should be a tuple of None, bool, int, float and str for persistent storage but contains (128, 64, 32) which is of type tuple.\n",
      "  warnings.warn(message)\n",
      "/home/xuming/.local/lib/python3.8/site-packages/optuna/distributions.py:427: UserWarning: Choices for a categorical distribution should be a tuple of None, bool, int, float and str for persistent storage but contains (128, 128, 64, 32) which is of type tuple.\n",
      "  warnings.warn(message)\n",
      "/home/xuming/.local/lib/python3.8/site-packages/optuna/distributions.py:427: UserWarning: Choices for a categorical distribution should be a tuple of None, bool, int, float and str for persistent storage but contains (128, 64, 32, 16) which is of type tuple.\n",
      "  warnings.warn(message)\n",
      "/home/xuming/.local/lib/python3.8/site-packages/optuna/distributions.py:427: UserWarning: Choices for a categorical distribution should be a tuple of None, bool, int, float and str for persistent storage but contains (128, 64, 64, 32) which is of type tuple.\n",
      "  warnings.warn(message)\n"
     ]
    },
    {
     "name": "stdout",
     "output_type": "stream",
     "text": [
      "Fold 1 NN: 0.20817\n",
      "Fold 2 NN: 0.21394\n",
      "Fold 3 NN: 0.21024\n",
      "Fold 4 NN: 0.21428\n"
     ]
    },
    {
     "name": "stderr",
     "output_type": "stream",
     "text": [
      " suffix  rmspe_score  hidden_units       stock_embedding_size  activation_func  learning_rate  batch_size  epochs  dropout1  dropout2  time\n",
      " 920045   0.2122046   (128, 64, 64, 32)           64                swish          0.0010         2048      500  0.00  0.00    01:43 \n",
      "\u001b[32m[I 2021-09-20 13:43:19,673]\u001b[0m Trial 45 finished with value: 0.21220460619759385 and parameters: {'hidden_units': (128, 64, 64, 32), 'stock_embedding_size': 64, 'activation_func': 'swish', 'learning_rate': 0.001, 'epochs': 500, 'dropout1': 0, 'dropout2': 0}. Best is trial 39 with value: 0.21116726984110495.\u001b[0m\n"
     ]
    },
    {
     "name": "stdout",
     "output_type": "stream",
     "text": [
      "Fold 5 NN: 0.21433\n",
      "rmspe_score: 0.21220460619759385\n"
     ]
    },
    {
     "name": "stderr",
     "output_type": "stream",
     "text": [
      "/home/xuming/.local/lib/python3.8/site-packages/optuna/distributions.py:427: UserWarning: Choices for a categorical distribution should be a tuple of None, bool, int, float and str for persistent storage but contains (128, 64, 32) which is of type tuple.\n",
      "  warnings.warn(message)\n",
      "/home/xuming/.local/lib/python3.8/site-packages/optuna/distributions.py:427: UserWarning: Choices for a categorical distribution should be a tuple of None, bool, int, float and str for persistent storage but contains (128, 128, 64, 32) which is of type tuple.\n",
      "  warnings.warn(message)\n",
      "/home/xuming/.local/lib/python3.8/site-packages/optuna/distributions.py:427: UserWarning: Choices for a categorical distribution should be a tuple of None, bool, int, float and str for persistent storage but contains (128, 64, 32, 16) which is of type tuple.\n",
      "  warnings.warn(message)\n",
      "/home/xuming/.local/lib/python3.8/site-packages/optuna/distributions.py:427: UserWarning: Choices for a categorical distribution should be a tuple of None, bool, int, float and str for persistent storage but contains (128, 64, 64, 32) which is of type tuple.\n",
      "  warnings.warn(message)\n"
     ]
    },
    {
     "name": "stdout",
     "output_type": "stream",
     "text": [
      "Fold 1 NN: 0.21153\n",
      "Fold 2 NN: 0.21762\n",
      "Fold 3 NN: 0.21324\n",
      "Fold 4 NN: 0.21837\n"
     ]
    },
    {
     "name": "stderr",
     "output_type": "stream",
     "text": [
      " suffix  rmspe_score  hidden_units       stock_embedding_size  activation_func  learning_rate  batch_size  epochs  dropout1  dropout2  time\n",
      " 920046   0.2153158   (128, 64, 64, 32)           24                swish          0.0040         2048     1000  0.05  0.10    02:13 \n",
      "\u001b[32m[I 2021-09-20 13:45:32,758]\u001b[0m Trial 46 finished with value: 0.21531581286032647 and parameters: {'hidden_units': (128, 64, 64, 32), 'stock_embedding_size': 24, 'activation_func': 'swish', 'learning_rate': 0.004, 'epochs': 1000, 'dropout1': 0.05, 'dropout2': 0.1}. Best is trial 39 with value: 0.21116726984110495.\u001b[0m\n"
     ]
    },
    {
     "name": "stdout",
     "output_type": "stream",
     "text": [
      "Fold 5 NN: 0.21573\n",
      "rmspe_score: 0.21531581286032647\n"
     ]
    },
    {
     "name": "stderr",
     "output_type": "stream",
     "text": [
      "/home/xuming/.local/lib/python3.8/site-packages/optuna/distributions.py:427: UserWarning: Choices for a categorical distribution should be a tuple of None, bool, int, float and str for persistent storage but contains (128, 64, 32) which is of type tuple.\n",
      "  warnings.warn(message)\n",
      "/home/xuming/.local/lib/python3.8/site-packages/optuna/distributions.py:427: UserWarning: Choices for a categorical distribution should be a tuple of None, bool, int, float and str for persistent storage but contains (128, 128, 64, 32) which is of type tuple.\n",
      "  warnings.warn(message)\n",
      "/home/xuming/.local/lib/python3.8/site-packages/optuna/distributions.py:427: UserWarning: Choices for a categorical distribution should be a tuple of None, bool, int, float and str for persistent storage but contains (128, 64, 32, 16) which is of type tuple.\n",
      "  warnings.warn(message)\n",
      "/home/xuming/.local/lib/python3.8/site-packages/optuna/distributions.py:427: UserWarning: Choices for a categorical distribution should be a tuple of None, bool, int, float and str for persistent storage but contains (128, 64, 64, 32) which is of type tuple.\n",
      "  warnings.warn(message)\n"
     ]
    },
    {
     "name": "stdout",
     "output_type": "stream",
     "text": [
      "Fold 1 NN: 0.20803\n",
      "Fold 2 NN: 0.21428\n",
      "Fold 3 NN: 0.20821\n",
      "Fold 4 NN: 0.2136\n"
     ]
    },
    {
     "name": "stderr",
     "output_type": "stream",
     "text": [
      " suffix  rmspe_score  hidden_units       stock_embedding_size  activation_func  learning_rate  batch_size  epochs  dropout1  dropout2  time\n",
      " 920047   0.2116607   (128, 64, 32, 16)           24                swish          0.0200         2048      500  0.05  0.00    02:30 \n",
      "\u001b[32m[I 2021-09-20 13:48:03,379]\u001b[0m Trial 47 finished with value: 0.21166072432028762 and parameters: {'hidden_units': (128, 64, 32, 16), 'stock_embedding_size': 24, 'activation_func': 'swish', 'learning_rate': 0.02, 'epochs': 500, 'dropout1': 0.05, 'dropout2': 0}. Best is trial 39 with value: 0.21116726984110495.\u001b[0m\n"
     ]
    },
    {
     "name": "stdout",
     "output_type": "stream",
     "text": [
      "Fold 5 NN: 0.21408\n",
      "rmspe_score: 0.21166072432028762\n"
     ]
    },
    {
     "name": "stderr",
     "output_type": "stream",
     "text": [
      "/home/xuming/.local/lib/python3.8/site-packages/optuna/distributions.py:427: UserWarning: Choices for a categorical distribution should be a tuple of None, bool, int, float and str for persistent storage but contains (128, 64, 32) which is of type tuple.\n",
      "  warnings.warn(message)\n",
      "/home/xuming/.local/lib/python3.8/site-packages/optuna/distributions.py:427: UserWarning: Choices for a categorical distribution should be a tuple of None, bool, int, float and str for persistent storage but contains (128, 128, 64, 32) which is of type tuple.\n",
      "  warnings.warn(message)\n",
      "/home/xuming/.local/lib/python3.8/site-packages/optuna/distributions.py:427: UserWarning: Choices for a categorical distribution should be a tuple of None, bool, int, float and str for persistent storage but contains (128, 64, 32, 16) which is of type tuple.\n",
      "  warnings.warn(message)\n",
      "/home/xuming/.local/lib/python3.8/site-packages/optuna/distributions.py:427: UserWarning: Choices for a categorical distribution should be a tuple of None, bool, int, float and str for persistent storage but contains (128, 64, 64, 32) which is of type tuple.\n",
      "  warnings.warn(message)\n"
     ]
    },
    {
     "name": "stdout",
     "output_type": "stream",
     "text": [
      "Fold 1 NN: 0.20819\n",
      "Fold 2 NN: 0.21255\n",
      "Fold 3 NN: 0.20808\n",
      "Fold 4 NN: 0.21482\n"
     ]
    },
    {
     "name": "stderr",
     "output_type": "stream",
     "text": [
      " suffix  rmspe_score  hidden_units       stock_embedding_size  activation_func  learning_rate  batch_size  epochs  dropout1  dropout2  time\n",
      " 920048   0.2114343   (128, 128, 64, 32)           64                swish          0.0100         2048      500  0.05  0.00    02:02 \n",
      "\u001b[32m[I 2021-09-20 13:50:05,914]\u001b[0m Trial 48 finished with value: 0.21143425558734025 and parameters: {'hidden_units': (128, 128, 64, 32), 'stock_embedding_size': 64, 'activation_func': 'swish', 'learning_rate': 0.01, 'epochs': 500, 'dropout1': 0.05, 'dropout2': 0}. Best is trial 39 with value: 0.21116726984110495.\u001b[0m\n"
     ]
    },
    {
     "name": "stdout",
     "output_type": "stream",
     "text": [
      "Fold 5 NN: 0.21344\n",
      "rmspe_score: 0.21143425558734025\n"
     ]
    },
    {
     "name": "stderr",
     "output_type": "stream",
     "text": [
      "/home/xuming/.local/lib/python3.8/site-packages/optuna/distributions.py:427: UserWarning: Choices for a categorical distribution should be a tuple of None, bool, int, float and str for persistent storage but contains (128, 64, 32) which is of type tuple.\n",
      "  warnings.warn(message)\n",
      "/home/xuming/.local/lib/python3.8/site-packages/optuna/distributions.py:427: UserWarning: Choices for a categorical distribution should be a tuple of None, bool, int, float and str for persistent storage but contains (128, 128, 64, 32) which is of type tuple.\n",
      "  warnings.warn(message)\n",
      "/home/xuming/.local/lib/python3.8/site-packages/optuna/distributions.py:427: UserWarning: Choices for a categorical distribution should be a tuple of None, bool, int, float and str for persistent storage but contains (128, 64, 32, 16) which is of type tuple.\n",
      "  warnings.warn(message)\n",
      "/home/xuming/.local/lib/python3.8/site-packages/optuna/distributions.py:427: UserWarning: Choices for a categorical distribution should be a tuple of None, bool, int, float and str for persistent storage but contains (128, 64, 64, 32) which is of type tuple.\n",
      "  warnings.warn(message)\n"
     ]
    },
    {
     "name": "stdout",
     "output_type": "stream",
     "text": [
      "Fold 1 NN: 0.21024\n",
      "Fold 2 NN: 0.21182\n",
      "Fold 3 NN: 0.21033\n",
      "Fold 4 NN: 0.21816\n"
     ]
    },
    {
     "name": "stderr",
     "output_type": "stream",
     "text": [
      " suffix  rmspe_score  hidden_units       stock_embedding_size  activation_func  learning_rate  batch_size  epochs  dropout1  dropout2  time\n",
      " 920049   0.2131630   (128, 64, 64, 32)           32                swish          0.0200         2048      200  0.05  0.05    02:48 \n",
      "\u001b[32m[I 2021-09-20 13:52:54,751]\u001b[0m Trial 49 finished with value: 0.21316299324336882 and parameters: {'hidden_units': (128, 64, 64, 32), 'stock_embedding_size': 32, 'activation_func': 'swish', 'learning_rate': 0.02, 'epochs': 200, 'dropout1': 0.05, 'dropout2': 0.05}. Best is trial 39 with value: 0.21116726984110495.\u001b[0m\n"
     ]
    },
    {
     "name": "stdout",
     "output_type": "stream",
     "text": [
      "Fold 5 NN: 0.21516\n",
      "rmspe_score: 0.21316299324336882\n"
     ]
    },
    {
     "name": "stderr",
     "output_type": "stream",
     "text": [
      "/home/xuming/.local/lib/python3.8/site-packages/optuna/distributions.py:427: UserWarning: Choices for a categorical distribution should be a tuple of None, bool, int, float and str for persistent storage but contains (128, 64, 32) which is of type tuple.\n",
      "  warnings.warn(message)\n",
      "/home/xuming/.local/lib/python3.8/site-packages/optuna/distributions.py:427: UserWarning: Choices for a categorical distribution should be a tuple of None, bool, int, float and str for persistent storage but contains (128, 128, 64, 32) which is of type tuple.\n",
      "  warnings.warn(message)\n",
      "/home/xuming/.local/lib/python3.8/site-packages/optuna/distributions.py:427: UserWarning: Choices for a categorical distribution should be a tuple of None, bool, int, float and str for persistent storage but contains (128, 64, 32, 16) which is of type tuple.\n",
      "  warnings.warn(message)\n",
      "/home/xuming/.local/lib/python3.8/site-packages/optuna/distributions.py:427: UserWarning: Choices for a categorical distribution should be a tuple of None, bool, int, float and str for persistent storage but contains (128, 64, 64, 32) which is of type tuple.\n",
      "  warnings.warn(message)\n"
     ]
    },
    {
     "name": "stdout",
     "output_type": "stream",
     "text": [
      "Fold 1 NN: 0.20761\n",
      "Fold 2 NN: 0.21283\n",
      "Fold 3 NN: 0.2082\n",
      "Fold 4 NN: 0.21423\n"
     ]
    },
    {
     "name": "stderr",
     "output_type": "stream",
     "text": [
      " suffix  rmspe_score  hidden_units       stock_embedding_size  activation_func  learning_rate  batch_size  epochs  dropout1  dropout2  time\n",
      " 920050   0.2113069   (128, 64, 64, 32)           24                swish          0.0040         2048      200  0.05  0.00    01:49 \n",
      "\u001b[32m[I 2021-09-20 13:54:44,540]\u001b[0m Trial 50 finished with value: 0.21130686705249524 and parameters: {'hidden_units': (128, 64, 64, 32), 'stock_embedding_size': 24, 'activation_func': 'swish', 'learning_rate': 0.004, 'epochs': 200, 'dropout1': 0.05, 'dropout2': 0}. Best is trial 39 with value: 0.21116726984110495.\u001b[0m\n"
     ]
    },
    {
     "name": "stdout",
     "output_type": "stream",
     "text": [
      "Fold 5 NN: 0.21357\n",
      "rmspe_score: 0.21130686705249524\n"
     ]
    },
    {
     "name": "stderr",
     "output_type": "stream",
     "text": [
      "/home/xuming/.local/lib/python3.8/site-packages/optuna/distributions.py:427: UserWarning: Choices for a categorical distribution should be a tuple of None, bool, int, float and str for persistent storage but contains (128, 64, 32) which is of type tuple.\n",
      "  warnings.warn(message)\n",
      "/home/xuming/.local/lib/python3.8/site-packages/optuna/distributions.py:427: UserWarning: Choices for a categorical distribution should be a tuple of None, bool, int, float and str for persistent storage but contains (128, 128, 64, 32) which is of type tuple.\n",
      "  warnings.warn(message)\n",
      "/home/xuming/.local/lib/python3.8/site-packages/optuna/distributions.py:427: UserWarning: Choices for a categorical distribution should be a tuple of None, bool, int, float and str for persistent storage but contains (128, 64, 32, 16) which is of type tuple.\n",
      "  warnings.warn(message)\n",
      "/home/xuming/.local/lib/python3.8/site-packages/optuna/distributions.py:427: UserWarning: Choices for a categorical distribution should be a tuple of None, bool, int, float and str for persistent storage but contains (128, 64, 64, 32) which is of type tuple.\n",
      "  warnings.warn(message)\n"
     ]
    },
    {
     "name": "stdout",
     "output_type": "stream",
     "text": [
      "Fold 1 NN: 0.20861\n",
      "Fold 2 NN: 0.21443\n",
      "Fold 3 NN: 0.21004\n",
      "Fold 4 NN: 0.21636\n"
     ]
    },
    {
     "name": "stderr",
     "output_type": "stream",
     "text": [
      " suffix  rmspe_score  hidden_units       stock_embedding_size  activation_func  learning_rate  batch_size  epochs  dropout1  dropout2  time\n",
      " 920051   0.2130565   (128, 128, 64, 32)           64                swish          0.0060         2048      200  0.10  0.05    02:19 \n",
      "\u001b[32m[I 2021-09-20 13:57:03,918]\u001b[0m Trial 51 finished with value: 0.21305652073683293 and parameters: {'hidden_units': (128, 128, 64, 32), 'stock_embedding_size': 64, 'activation_func': 'swish', 'learning_rate': 0.006, 'epochs': 200, 'dropout1': 0.1, 'dropout2': 0.05}. Best is trial 39 with value: 0.21116726984110495.\u001b[0m\n"
     ]
    },
    {
     "name": "stdout",
     "output_type": "stream",
     "text": [
      "Fold 5 NN: 0.21573\n",
      "rmspe_score: 0.21305652073683293\n"
     ]
    },
    {
     "name": "stderr",
     "output_type": "stream",
     "text": [
      "/home/xuming/.local/lib/python3.8/site-packages/optuna/distributions.py:427: UserWarning: Choices for a categorical distribution should be a tuple of None, bool, int, float and str for persistent storage but contains (128, 64, 32) which is of type tuple.\n",
      "  warnings.warn(message)\n",
      "/home/xuming/.local/lib/python3.8/site-packages/optuna/distributions.py:427: UserWarning: Choices for a categorical distribution should be a tuple of None, bool, int, float and str for persistent storage but contains (128, 128, 64, 32) which is of type tuple.\n",
      "  warnings.warn(message)\n",
      "/home/xuming/.local/lib/python3.8/site-packages/optuna/distributions.py:427: UserWarning: Choices for a categorical distribution should be a tuple of None, bool, int, float and str for persistent storage but contains (128, 64, 32, 16) which is of type tuple.\n",
      "  warnings.warn(message)\n",
      "/home/xuming/.local/lib/python3.8/site-packages/optuna/distributions.py:427: UserWarning: Choices for a categorical distribution should be a tuple of None, bool, int, float and str for persistent storage but contains (128, 64, 64, 32) which is of type tuple.\n",
      "  warnings.warn(message)\n"
     ]
    },
    {
     "name": "stdout",
     "output_type": "stream",
     "text": [
      "Fold 1 NN: 0.20899\n",
      "Fold 2 NN: 0.21229\n",
      "Fold 3 NN: 0.21046\n",
      "Fold 4 NN: 0.21875\n"
     ]
    },
    {
     "name": "stderr",
     "output_type": "stream",
     "text": [
      " suffix  rmspe_score  hidden_units       stock_embedding_size  activation_func  learning_rate  batch_size  epochs  dropout1  dropout2  time\n",
      " 920052   0.2131152   (128, 64, 32, 16)           48                swish          0.0100         2048      200  0.00  0.10    02:12 \n",
      "\u001b[32m[I 2021-09-20 13:59:16,172]\u001b[0m Trial 52 finished with value: 0.21311518827590836 and parameters: {'hidden_units': (128, 64, 32, 16), 'stock_embedding_size': 48, 'activation_func': 'swish', 'learning_rate': 0.01, 'epochs': 200, 'dropout1': 0, 'dropout2': 0.1}. Best is trial 39 with value: 0.21116726984110495.\u001b[0m\n"
     ]
    },
    {
     "name": "stdout",
     "output_type": "stream",
     "text": [
      "Fold 5 NN: 0.21494\n",
      "rmspe_score: 0.21311518827590836\n"
     ]
    },
    {
     "name": "stderr",
     "output_type": "stream",
     "text": [
      "/home/xuming/.local/lib/python3.8/site-packages/optuna/distributions.py:427: UserWarning: Choices for a categorical distribution should be a tuple of None, bool, int, float and str for persistent storage but contains (128, 64, 32) which is of type tuple.\n",
      "  warnings.warn(message)\n",
      "/home/xuming/.local/lib/python3.8/site-packages/optuna/distributions.py:427: UserWarning: Choices for a categorical distribution should be a tuple of None, bool, int, float and str for persistent storage but contains (128, 128, 64, 32) which is of type tuple.\n",
      "  warnings.warn(message)\n",
      "/home/xuming/.local/lib/python3.8/site-packages/optuna/distributions.py:427: UserWarning: Choices for a categorical distribution should be a tuple of None, bool, int, float and str for persistent storage but contains (128, 64, 32, 16) which is of type tuple.\n",
      "  warnings.warn(message)\n",
      "/home/xuming/.local/lib/python3.8/site-packages/optuna/distributions.py:427: UserWarning: Choices for a categorical distribution should be a tuple of None, bool, int, float and str for persistent storage but contains (128, 64, 64, 32) which is of type tuple.\n",
      "  warnings.warn(message)\n"
     ]
    },
    {
     "name": "stdout",
     "output_type": "stream",
     "text": [
      "Fold 1 NN: 0.20784\n",
      "Fold 2 NN: 0.21344\n",
      "Fold 3 NN: 0.20967\n",
      "Fold 4 NN: 0.21619\n"
     ]
    },
    {
     "name": "stderr",
     "output_type": "stream",
     "text": [
      " suffix  rmspe_score  hidden_units       stock_embedding_size  activation_func  learning_rate  batch_size  epochs  dropout1  dropout2  time\n",
      " 920053   0.2125896   (128, 128, 64, 32)           16                swish          0.0100         2048      500  0.00  0.05    02:16 \n",
      "\u001b[32m[I 2021-09-20 14:01:33,104]\u001b[0m Trial 53 finished with value: 0.21258955002212596 and parameters: {'hidden_units': (128, 128, 64, 32), 'stock_embedding_size': 16, 'activation_func': 'swish', 'learning_rate': 0.01, 'epochs': 500, 'dropout1': 0, 'dropout2': 0.05}. Best is trial 39 with value: 0.21116726984110495.\u001b[0m\n"
     ]
    },
    {
     "name": "stdout",
     "output_type": "stream",
     "text": [
      "Fold 5 NN: 0.21568\n",
      "rmspe_score: 0.21258955002212596\n"
     ]
    },
    {
     "name": "stderr",
     "output_type": "stream",
     "text": [
      "/home/xuming/.local/lib/python3.8/site-packages/optuna/distributions.py:427: UserWarning: Choices for a categorical distribution should be a tuple of None, bool, int, float and str for persistent storage but contains (128, 64, 32) which is of type tuple.\n",
      "  warnings.warn(message)\n",
      "/home/xuming/.local/lib/python3.8/site-packages/optuna/distributions.py:427: UserWarning: Choices for a categorical distribution should be a tuple of None, bool, int, float and str for persistent storage but contains (128, 128, 64, 32) which is of type tuple.\n",
      "  warnings.warn(message)\n",
      "/home/xuming/.local/lib/python3.8/site-packages/optuna/distributions.py:427: UserWarning: Choices for a categorical distribution should be a tuple of None, bool, int, float and str for persistent storage but contains (128, 64, 32, 16) which is of type tuple.\n",
      "  warnings.warn(message)\n",
      "/home/xuming/.local/lib/python3.8/site-packages/optuna/distributions.py:427: UserWarning: Choices for a categorical distribution should be a tuple of None, bool, int, float and str for persistent storage but contains (128, 64, 64, 32) which is of type tuple.\n",
      "  warnings.warn(message)\n"
     ]
    },
    {
     "name": "stdout",
     "output_type": "stream",
     "text": [
      "Fold 1 NN: 0.21154\n",
      "Fold 2 NN: 0.2195\n",
      "Fold 3 NN: 0.21076\n",
      "Fold 4 NN: 0.21932\n"
     ]
    },
    {
     "name": "stderr",
     "output_type": "stream",
     "text": [
      " suffix  rmspe_score  hidden_units       stock_embedding_size  activation_func  learning_rate  batch_size  epochs  dropout1  dropout2  time\n",
      " 920054   0.2151599   (128, 128, 64, 32)           64                swish          0.0040         2048      200  0.05  0.10    02:24 \n",
      "\u001b[32m[I 2021-09-20 14:03:57,902]\u001b[0m Trial 54 finished with value: 0.21515994235246452 and parameters: {'hidden_units': (128, 128, 64, 32), 'stock_embedding_size': 64, 'activation_func': 'swish', 'learning_rate': 0.004, 'epochs': 200, 'dropout1': 0.05, 'dropout2': 0.1}. Best is trial 39 with value: 0.21116726984110495.\u001b[0m\n"
     ]
    },
    {
     "name": "stdout",
     "output_type": "stream",
     "text": [
      "Fold 5 NN: 0.21452\n",
      "rmspe_score: 0.21515994235246452\n"
     ]
    },
    {
     "name": "stderr",
     "output_type": "stream",
     "text": [
      "/home/xuming/.local/lib/python3.8/site-packages/optuna/distributions.py:427: UserWarning: Choices for a categorical distribution should be a tuple of None, bool, int, float and str for persistent storage but contains (128, 64, 32) which is of type tuple.\n",
      "  warnings.warn(message)\n",
      "/home/xuming/.local/lib/python3.8/site-packages/optuna/distributions.py:427: UserWarning: Choices for a categorical distribution should be a tuple of None, bool, int, float and str for persistent storage but contains (128, 128, 64, 32) which is of type tuple.\n",
      "  warnings.warn(message)\n",
      "/home/xuming/.local/lib/python3.8/site-packages/optuna/distributions.py:427: UserWarning: Choices for a categorical distribution should be a tuple of None, bool, int, float and str for persistent storage but contains (128, 64, 32, 16) which is of type tuple.\n",
      "  warnings.warn(message)\n",
      "/home/xuming/.local/lib/python3.8/site-packages/optuna/distributions.py:427: UserWarning: Choices for a categorical distribution should be a tuple of None, bool, int, float and str for persistent storage but contains (128, 64, 64, 32) which is of type tuple.\n",
      "  warnings.warn(message)\n"
     ]
    },
    {
     "name": "stdout",
     "output_type": "stream",
     "text": [
      "Fold 1 NN: 0.21289\n",
      "Fold 2 NN: 0.21499\n",
      "Fold 3 NN: 0.21171\n",
      "Fold 4 NN: 0.21577\n"
     ]
    },
    {
     "name": "stderr",
     "output_type": "stream",
     "text": [
      " suffix  rmspe_score  hidden_units       stock_embedding_size  activation_func  learning_rate  batch_size  epochs  dropout1  dropout2  time\n",
      " 920055   0.2142189   (128, 64, 32)           64                swish          0.0060         2048     1000  0.00  0.10    02:17 \n",
      "\u001b[32m[I 2021-09-20 14:06:15,370]\u001b[0m Trial 55 finished with value: 0.21421894025454605 and parameters: {'hidden_units': (128, 64, 32), 'stock_embedding_size': 64, 'activation_func': 'swish', 'learning_rate': 0.006, 'epochs': 1000, 'dropout1': 0, 'dropout2': 0.1}. Best is trial 39 with value: 0.21116726984110495.\u001b[0m\n"
     ]
    },
    {
     "name": "stdout",
     "output_type": "stream",
     "text": [
      "Fold 5 NN: 0.21571\n",
      "rmspe_score: 0.21421894025454605\n"
     ]
    },
    {
     "name": "stderr",
     "output_type": "stream",
     "text": [
      "/home/xuming/.local/lib/python3.8/site-packages/optuna/distributions.py:427: UserWarning: Choices for a categorical distribution should be a tuple of None, bool, int, float and str for persistent storage but contains (128, 64, 32) which is of type tuple.\n",
      "  warnings.warn(message)\n",
      "/home/xuming/.local/lib/python3.8/site-packages/optuna/distributions.py:427: UserWarning: Choices for a categorical distribution should be a tuple of None, bool, int, float and str for persistent storage but contains (128, 128, 64, 32) which is of type tuple.\n",
      "  warnings.warn(message)\n",
      "/home/xuming/.local/lib/python3.8/site-packages/optuna/distributions.py:427: UserWarning: Choices for a categorical distribution should be a tuple of None, bool, int, float and str for persistent storage but contains (128, 64, 32, 16) which is of type tuple.\n",
      "  warnings.warn(message)\n",
      "/home/xuming/.local/lib/python3.8/site-packages/optuna/distributions.py:427: UserWarning: Choices for a categorical distribution should be a tuple of None, bool, int, float and str for persistent storage but contains (128, 64, 64, 32) which is of type tuple.\n",
      "  warnings.warn(message)\n"
     ]
    },
    {
     "name": "stdout",
     "output_type": "stream",
     "text": [
      "Fold 1 NN: 0.20731\n",
      "Fold 2 NN: 0.2167\n",
      "Fold 3 NN: 0.21051\n",
      "Fold 4 NN: 0.2168\n"
     ]
    },
    {
     "name": "stderr",
     "output_type": "stream",
     "text": [
      " suffix  rmspe_score  hidden_units       stock_embedding_size  activation_func  learning_rate  batch_size  epochs  dropout1  dropout2  time\n",
      " 920056   0.2134354   (128, 64, 32)           64                swish          0.0060         2048     1000  0.20  0.00    02:07 \n",
      "\u001b[32m[I 2021-09-20 14:08:22,393]\u001b[0m Trial 56 finished with value: 0.21343538922190575 and parameters: {'hidden_units': (128, 64, 32), 'stock_embedding_size': 64, 'activation_func': 'swish', 'learning_rate': 0.006, 'epochs': 1000, 'dropout1': 0.2, 'dropout2': 0}. Best is trial 39 with value: 0.21116726984110495.\u001b[0m\n"
     ]
    },
    {
     "name": "stdout",
     "output_type": "stream",
     "text": [
      "Fold 5 NN: 0.21568\n",
      "rmspe_score: 0.21343538922190575\n"
     ]
    },
    {
     "name": "stderr",
     "output_type": "stream",
     "text": [
      "/home/xuming/.local/lib/python3.8/site-packages/optuna/distributions.py:427: UserWarning: Choices for a categorical distribution should be a tuple of None, bool, int, float and str for persistent storage but contains (128, 64, 32) which is of type tuple.\n",
      "  warnings.warn(message)\n",
      "/home/xuming/.local/lib/python3.8/site-packages/optuna/distributions.py:427: UserWarning: Choices for a categorical distribution should be a tuple of None, bool, int, float and str for persistent storage but contains (128, 128, 64, 32) which is of type tuple.\n",
      "  warnings.warn(message)\n",
      "/home/xuming/.local/lib/python3.8/site-packages/optuna/distributions.py:427: UserWarning: Choices for a categorical distribution should be a tuple of None, bool, int, float and str for persistent storage but contains (128, 64, 32, 16) which is of type tuple.\n",
      "  warnings.warn(message)\n",
      "/home/xuming/.local/lib/python3.8/site-packages/optuna/distributions.py:427: UserWarning: Choices for a categorical distribution should be a tuple of None, bool, int, float and str for persistent storage but contains (128, 64, 64, 32) which is of type tuple.\n",
      "  warnings.warn(message)\n"
     ]
    },
    {
     "name": "stdout",
     "output_type": "stream",
     "text": [
      "Fold 1 NN: 0.21155\n",
      "Fold 2 NN: 0.2161\n",
      "Fold 3 NN: 0.20942\n",
      "Fold 4 NN: 0.21486\n"
     ]
    },
    {
     "name": "stderr",
     "output_type": "stream",
     "text": [
      " suffix  rmspe_score  hidden_units       stock_embedding_size  activation_func  learning_rate  batch_size  epochs  dropout1  dropout2  time\n",
      " 920057   0.2134829   (128, 64, 64, 32)           64                swish          0.0010         2048      500  0.05  0.05    02:36 \n",
      "\u001b[32m[I 2021-09-20 14:10:59,295]\u001b[0m Trial 57 finished with value: 0.21348293667662 and parameters: {'hidden_units': (128, 64, 64, 32), 'stock_embedding_size': 64, 'activation_func': 'swish', 'learning_rate': 0.001, 'epochs': 500, 'dropout1': 0.05, 'dropout2': 0.05}. Best is trial 39 with value: 0.21116726984110495.\u001b[0m\n"
     ]
    },
    {
     "name": "stdout",
     "output_type": "stream",
     "text": [
      "Fold 5 NN: 0.21541\n",
      "rmspe_score: 0.21348293667662\n"
     ]
    },
    {
     "name": "stderr",
     "output_type": "stream",
     "text": [
      "/home/xuming/.local/lib/python3.8/site-packages/optuna/distributions.py:427: UserWarning: Choices for a categorical distribution should be a tuple of None, bool, int, float and str for persistent storage but contains (128, 64, 32) which is of type tuple.\n",
      "  warnings.warn(message)\n",
      "/home/xuming/.local/lib/python3.8/site-packages/optuna/distributions.py:427: UserWarning: Choices for a categorical distribution should be a tuple of None, bool, int, float and str for persistent storage but contains (128, 128, 64, 32) which is of type tuple.\n",
      "  warnings.warn(message)\n",
      "/home/xuming/.local/lib/python3.8/site-packages/optuna/distributions.py:427: UserWarning: Choices for a categorical distribution should be a tuple of None, bool, int, float and str for persistent storage but contains (128, 64, 32, 16) which is of type tuple.\n",
      "  warnings.warn(message)\n",
      "/home/xuming/.local/lib/python3.8/site-packages/optuna/distributions.py:427: UserWarning: Choices for a categorical distribution should be a tuple of None, bool, int, float and str for persistent storage but contains (128, 64, 64, 32) which is of type tuple.\n",
      "  warnings.warn(message)\n"
     ]
    },
    {
     "name": "stdout",
     "output_type": "stream",
     "text": [
      "Fold 1 NN: 0.207\n",
      "Fold 2 NN: 0.21204\n",
      "Fold 3 NN: 0.20903\n",
      "Fold 4 NN: 0.21468\n"
     ]
    },
    {
     "name": "stderr",
     "output_type": "stream",
     "text": [
      " suffix  rmspe_score  hidden_units       stock_embedding_size  activation_func  learning_rate  batch_size  epochs  dropout1  dropout2  time\n",
      " 920058   0.2113672   (128, 64, 64, 32)           32                swish          0.0060         2048      200  0.00  0.05    02:13 \n",
      "\u001b[32m[I 2021-09-20 14:13:12,439]\u001b[0m Trial 58 finished with value: 0.21136724642555646 and parameters: {'hidden_units': (128, 64, 64, 32), 'stock_embedding_size': 32, 'activation_func': 'swish', 'learning_rate': 0.006, 'epochs': 200, 'dropout1': 0, 'dropout2': 0.05}. Best is trial 39 with value: 0.21116726984110495.\u001b[0m\n"
     ]
    },
    {
     "name": "stdout",
     "output_type": "stream",
     "text": [
      "Fold 5 NN: 0.21398\n",
      "rmspe_score: 0.21136724642555646\n"
     ]
    },
    {
     "name": "stderr",
     "output_type": "stream",
     "text": [
      "/home/xuming/.local/lib/python3.8/site-packages/optuna/distributions.py:427: UserWarning: Choices for a categorical distribution should be a tuple of None, bool, int, float and str for persistent storage but contains (128, 64, 32) which is of type tuple.\n",
      "  warnings.warn(message)\n",
      "/home/xuming/.local/lib/python3.8/site-packages/optuna/distributions.py:427: UserWarning: Choices for a categorical distribution should be a tuple of None, bool, int, float and str for persistent storage but contains (128, 128, 64, 32) which is of type tuple.\n",
      "  warnings.warn(message)\n",
      "/home/xuming/.local/lib/python3.8/site-packages/optuna/distributions.py:427: UserWarning: Choices for a categorical distribution should be a tuple of None, bool, int, float and str for persistent storage but contains (128, 64, 32, 16) which is of type tuple.\n",
      "  warnings.warn(message)\n",
      "/home/xuming/.local/lib/python3.8/site-packages/optuna/distributions.py:427: UserWarning: Choices for a categorical distribution should be a tuple of None, bool, int, float and str for persistent storage but contains (128, 64, 64, 32) which is of type tuple.\n",
      "  warnings.warn(message)\n"
     ]
    },
    {
     "name": "stdout",
     "output_type": "stream",
     "text": [
      "Fold 1 NN: 0.21115\n",
      "Fold 2 NN: 0.21462\n",
      "Fold 3 NN: 0.21157\n",
      "Fold 4 NN: 0.21645\n"
     ]
    },
    {
     "name": "stderr",
     "output_type": "stream",
     "text": [
      " suffix  rmspe_score  hidden_units       stock_embedding_size  activation_func  learning_rate  batch_size  epochs  dropout1  dropout2  time\n",
      " 920059   0.2139391   (128, 64, 32, 16)           16                swish          0.0010         2048      200  0.10  0.05    02:37 \n",
      "\u001b[32m[I 2021-09-20 14:15:50,317]\u001b[0m Trial 59 finished with value: 0.21393910354503956 and parameters: {'hidden_units': (128, 64, 32, 16), 'stock_embedding_size': 16, 'activation_func': 'swish', 'learning_rate': 0.001, 'epochs': 200, 'dropout1': 0.1, 'dropout2': 0.05}. Best is trial 39 with value: 0.21116726984110495.\u001b[0m\n"
     ]
    },
    {
     "name": "stdout",
     "output_type": "stream",
     "text": [
      "Fold 5 NN: 0.21585\n",
      "rmspe_score: 0.21393910354503956\n"
     ]
    },
    {
     "name": "stderr",
     "output_type": "stream",
     "text": [
      "/home/xuming/.local/lib/python3.8/site-packages/optuna/distributions.py:427: UserWarning: Choices for a categorical distribution should be a tuple of None, bool, int, float and str for persistent storage but contains (128, 64, 32) which is of type tuple.\n",
      "  warnings.warn(message)\n",
      "/home/xuming/.local/lib/python3.8/site-packages/optuna/distributions.py:427: UserWarning: Choices for a categorical distribution should be a tuple of None, bool, int, float and str for persistent storage but contains (128, 128, 64, 32) which is of type tuple.\n",
      "  warnings.warn(message)\n",
      "/home/xuming/.local/lib/python3.8/site-packages/optuna/distributions.py:427: UserWarning: Choices for a categorical distribution should be a tuple of None, bool, int, float and str for persistent storage but contains (128, 64, 32, 16) which is of type tuple.\n",
      "  warnings.warn(message)\n",
      "/home/xuming/.local/lib/python3.8/site-packages/optuna/distributions.py:427: UserWarning: Choices for a categorical distribution should be a tuple of None, bool, int, float and str for persistent storage but contains (128, 64, 64, 32) which is of type tuple.\n",
      "  warnings.warn(message)\n"
     ]
    },
    {
     "name": "stdout",
     "output_type": "stream",
     "text": [
      "Fold 1 NN: 0.21185\n",
      "Fold 2 NN: 0.21763\n",
      "Fold 3 NN: 0.2152\n",
      "Fold 4 NN: 0.22172\n"
     ]
    },
    {
     "name": "stderr",
     "output_type": "stream",
     "text": [
      " suffix  rmspe_score  hidden_units       stock_embedding_size  activation_func  learning_rate  batch_size  epochs  dropout1  dropout2  time\n",
      " 920060   0.2166444   (128, 64, 32)           48                swish          0.0100         2048      200  0.20  0.10    02:22 \n",
      "\u001b[32m[I 2021-09-20 14:18:13,069]\u001b[0m Trial 60 finished with value: 0.2166443791058368 and parameters: {'hidden_units': (128, 64, 32), 'stock_embedding_size': 48, 'activation_func': 'swish', 'learning_rate': 0.01, 'epochs': 200, 'dropout1': 0.2, 'dropout2': 0.1}. Best is trial 39 with value: 0.21116726984110495.\u001b[0m\n"
     ]
    },
    {
     "name": "stdout",
     "output_type": "stream",
     "text": [
      "Fold 5 NN: 0.2167\n",
      "rmspe_score: 0.2166443791058368\n"
     ]
    },
    {
     "name": "stderr",
     "output_type": "stream",
     "text": [
      "/home/xuming/.local/lib/python3.8/site-packages/optuna/distributions.py:427: UserWarning: Choices for a categorical distribution should be a tuple of None, bool, int, float and str for persistent storage but contains (128, 64, 32) which is of type tuple.\n",
      "  warnings.warn(message)\n",
      "/home/xuming/.local/lib/python3.8/site-packages/optuna/distributions.py:427: UserWarning: Choices for a categorical distribution should be a tuple of None, bool, int, float and str for persistent storage but contains (128, 128, 64, 32) which is of type tuple.\n",
      "  warnings.warn(message)\n",
      "/home/xuming/.local/lib/python3.8/site-packages/optuna/distributions.py:427: UserWarning: Choices for a categorical distribution should be a tuple of None, bool, int, float and str for persistent storage but contains (128, 64, 32, 16) which is of type tuple.\n",
      "  warnings.warn(message)\n",
      "/home/xuming/.local/lib/python3.8/site-packages/optuna/distributions.py:427: UserWarning: Choices for a categorical distribution should be a tuple of None, bool, int, float and str for persistent storage but contains (128, 64, 64, 32) which is of type tuple.\n",
      "  warnings.warn(message)\n"
     ]
    },
    {
     "name": "stdout",
     "output_type": "stream",
     "text": [
      "Fold 1 NN: 0.2114\n",
      "Fold 2 NN: 0.21422\n",
      "Fold 3 NN: 0.2099\n",
      "Fold 4 NN: 0.21698\n"
     ]
    },
    {
     "name": "stderr",
     "output_type": "stream",
     "text": [
      " suffix  rmspe_score  hidden_units       stock_embedding_size  activation_func  learning_rate  batch_size  epochs  dropout1  dropout2  time\n",
      " 920061   0.2133837   (128, 128, 64, 32)           24                swish          0.0200         2048      500  0.05  0.00    02:37 \n",
      "\u001b[32m[I 2021-09-20 14:20:50,681]\u001b[0m Trial 61 finished with value: 0.2133837020000201 and parameters: {'hidden_units': (128, 128, 64, 32), 'stock_embedding_size': 24, 'activation_func': 'swish', 'learning_rate': 0.02, 'epochs': 500, 'dropout1': 0.05, 'dropout2': 0}. Best is trial 39 with value: 0.21116726984110495.\u001b[0m\n"
     ]
    },
    {
     "name": "stdout",
     "output_type": "stream",
     "text": [
      "Fold 5 NN: 0.21434\n",
      "rmspe_score: 0.2133837020000201\n"
     ]
    },
    {
     "name": "stderr",
     "output_type": "stream",
     "text": [
      "/home/xuming/.local/lib/python3.8/site-packages/optuna/distributions.py:427: UserWarning: Choices for a categorical distribution should be a tuple of None, bool, int, float and str for persistent storage but contains (128, 64, 32) which is of type tuple.\n",
      "  warnings.warn(message)\n",
      "/home/xuming/.local/lib/python3.8/site-packages/optuna/distributions.py:427: UserWarning: Choices for a categorical distribution should be a tuple of None, bool, int, float and str for persistent storage but contains (128, 128, 64, 32) which is of type tuple.\n",
      "  warnings.warn(message)\n",
      "/home/xuming/.local/lib/python3.8/site-packages/optuna/distributions.py:427: UserWarning: Choices for a categorical distribution should be a tuple of None, bool, int, float and str for persistent storage but contains (128, 64, 32, 16) which is of type tuple.\n",
      "  warnings.warn(message)\n",
      "/home/xuming/.local/lib/python3.8/site-packages/optuna/distributions.py:427: UserWarning: Choices for a categorical distribution should be a tuple of None, bool, int, float and str for persistent storage but contains (128, 64, 64, 32) which is of type tuple.\n",
      "  warnings.warn(message)\n"
     ]
    },
    {
     "name": "stdout",
     "output_type": "stream",
     "text": [
      "Fold 1 NN: 0.20728\n",
      "Fold 2 NN: 0.21363\n",
      "Fold 3 NN: 0.20974\n",
      "Fold 4 NN: 0.21603\n"
     ]
    },
    {
     "name": "stderr",
     "output_type": "stream",
     "text": [
      " suffix  rmspe_score  hidden_units       stock_embedding_size  activation_func  learning_rate  batch_size  epochs  dropout1  dropout2  time\n",
      " 920062   0.2123395   (128, 128, 64, 32)           64                swish          0.0010         2048      500  0.00  0.05    02:59 \n",
      "\u001b[32m[I 2021-09-20 14:23:50,522]\u001b[0m Trial 62 finished with value: 0.21233951129751386 and parameters: {'hidden_units': (128, 128, 64, 32), 'stock_embedding_size': 64, 'activation_func': 'swish', 'learning_rate': 0.001, 'epochs': 500, 'dropout1': 0, 'dropout2': 0.05}. Best is trial 39 with value: 0.21116726984110495.\u001b[0m\n"
     ]
    },
    {
     "name": "stdout",
     "output_type": "stream",
     "text": [
      "Fold 5 NN: 0.21489\n",
      "rmspe_score: 0.21233951129751386\n"
     ]
    },
    {
     "name": "stderr",
     "output_type": "stream",
     "text": [
      "/home/xuming/.local/lib/python3.8/site-packages/optuna/distributions.py:427: UserWarning: Choices for a categorical distribution should be a tuple of None, bool, int, float and str for persistent storage but contains (128, 64, 32) which is of type tuple.\n",
      "  warnings.warn(message)\n",
      "/home/xuming/.local/lib/python3.8/site-packages/optuna/distributions.py:427: UserWarning: Choices for a categorical distribution should be a tuple of None, bool, int, float and str for persistent storage but contains (128, 128, 64, 32) which is of type tuple.\n",
      "  warnings.warn(message)\n",
      "/home/xuming/.local/lib/python3.8/site-packages/optuna/distributions.py:427: UserWarning: Choices for a categorical distribution should be a tuple of None, bool, int, float and str for persistent storage but contains (128, 64, 32, 16) which is of type tuple.\n",
      "  warnings.warn(message)\n",
      "/home/xuming/.local/lib/python3.8/site-packages/optuna/distributions.py:427: UserWarning: Choices for a categorical distribution should be a tuple of None, bool, int, float and str for persistent storage but contains (128, 64, 64, 32) which is of type tuple.\n",
      "  warnings.warn(message)\n"
     ]
    },
    {
     "name": "stdout",
     "output_type": "stream",
     "text": [
      "Fold 1 NN: 0.21023\n",
      "Fold 2 NN: 0.21648\n",
      "Fold 3 NN: 0.2124\n",
      "Fold 4 NN: 0.21761\n"
     ]
    },
    {
     "name": "stderr",
     "output_type": "stream",
     "text": [
      " suffix  rmspe_score  hidden_units       stock_embedding_size  activation_func  learning_rate  batch_size  epochs  dropout1  dropout2  time\n",
      " 920063   0.2146165   (128, 64, 32, 16)           24                swish          0.0100         2048      200  0.20  0.10    02:11 \n",
      "\u001b[32m[I 2021-09-20 14:26:01,690]\u001b[0m Trial 63 finished with value: 0.21461654455741216 and parameters: {'hidden_units': (128, 64, 32, 16), 'stock_embedding_size': 24, 'activation_func': 'swish', 'learning_rate': 0.01, 'epochs': 200, 'dropout1': 0.2, 'dropout2': 0.1}. Best is trial 39 with value: 0.21116726984110495.\u001b[0m\n"
     ]
    },
    {
     "name": "stdout",
     "output_type": "stream",
     "text": [
      "Fold 5 NN: 0.21627\n",
      "rmspe_score: 0.21461654455741216\n"
     ]
    },
    {
     "name": "stderr",
     "output_type": "stream",
     "text": [
      "/home/xuming/.local/lib/python3.8/site-packages/optuna/distributions.py:427: UserWarning: Choices for a categorical distribution should be a tuple of None, bool, int, float and str for persistent storage but contains (128, 64, 32) which is of type tuple.\n",
      "  warnings.warn(message)\n",
      "/home/xuming/.local/lib/python3.8/site-packages/optuna/distributions.py:427: UserWarning: Choices for a categorical distribution should be a tuple of None, bool, int, float and str for persistent storage but contains (128, 128, 64, 32) which is of type tuple.\n",
      "  warnings.warn(message)\n",
      "/home/xuming/.local/lib/python3.8/site-packages/optuna/distributions.py:427: UserWarning: Choices for a categorical distribution should be a tuple of None, bool, int, float and str for persistent storage but contains (128, 64, 32, 16) which is of type tuple.\n",
      "  warnings.warn(message)\n",
      "/home/xuming/.local/lib/python3.8/site-packages/optuna/distributions.py:427: UserWarning: Choices for a categorical distribution should be a tuple of None, bool, int, float and str for persistent storage but contains (128, 64, 64, 32) which is of type tuple.\n",
      "  warnings.warn(message)\n"
     ]
    },
    {
     "name": "stdout",
     "output_type": "stream",
     "text": [
      "Fold 1 NN: 0.21299\n",
      "Fold 2 NN: 0.21585\n",
      "Fold 3 NN: 0.21362\n",
      "Fold 4 NN: 0.22176\n"
     ]
    },
    {
     "name": "stderr",
     "output_type": "stream",
     "text": [
      " suffix  rmspe_score  hidden_units       stock_embedding_size  activation_func  learning_rate  batch_size  epochs  dropout1  dropout2  time\n",
      " 920064   0.2167793   (128, 64, 32)           48                swish          0.0060         2048     1000  0.10  0.10    02:22 \n",
      "\u001b[32m[I 2021-09-20 14:28:23,893]\u001b[0m Trial 64 finished with value: 0.21677925458931177 and parameters: {'hidden_units': (128, 64, 32), 'stock_embedding_size': 48, 'activation_func': 'swish', 'learning_rate': 0.006, 'epochs': 1000, 'dropout1': 0.1, 'dropout2': 0.1}. Best is trial 39 with value: 0.21116726984110495.\u001b[0m\n"
     ]
    },
    {
     "name": "stdout",
     "output_type": "stream",
     "text": [
      "Fold 5 NN: 0.21954\n",
      "rmspe_score: 0.21677925458931177\n"
     ]
    },
    {
     "name": "stderr",
     "output_type": "stream",
     "text": [
      "/home/xuming/.local/lib/python3.8/site-packages/optuna/distributions.py:427: UserWarning: Choices for a categorical distribution should be a tuple of None, bool, int, float and str for persistent storage but contains (128, 64, 32) which is of type tuple.\n",
      "  warnings.warn(message)\n",
      "/home/xuming/.local/lib/python3.8/site-packages/optuna/distributions.py:427: UserWarning: Choices for a categorical distribution should be a tuple of None, bool, int, float and str for persistent storage but contains (128, 128, 64, 32) which is of type tuple.\n",
      "  warnings.warn(message)\n",
      "/home/xuming/.local/lib/python3.8/site-packages/optuna/distributions.py:427: UserWarning: Choices for a categorical distribution should be a tuple of None, bool, int, float and str for persistent storage but contains (128, 64, 32, 16) which is of type tuple.\n",
      "  warnings.warn(message)\n",
      "/home/xuming/.local/lib/python3.8/site-packages/optuna/distributions.py:427: UserWarning: Choices for a categorical distribution should be a tuple of None, bool, int, float and str for persistent storage but contains (128, 64, 64, 32) which is of type tuple.\n",
      "  warnings.warn(message)\n"
     ]
    },
    {
     "name": "stdout",
     "output_type": "stream",
     "text": [
      "Fold 1 NN: 0.20841\n",
      "Fold 2 NN: 0.21171\n",
      "Fold 3 NN: 0.20885\n",
      "Fold 4 NN: 0.2153\n"
     ]
    },
    {
     "name": "stderr",
     "output_type": "stream",
     "text": [
      " suffix  rmspe_score  hidden_units       stock_embedding_size  activation_func  learning_rate  batch_size  epochs  dropout1  dropout2  time\n",
      " 920065   0.2116417   (128, 128, 64, 32)           48                swish          0.0040         2048      200  0.00  0.00    01:51 \n",
      "\u001b[32m[I 2021-09-20 14:30:15,640]\u001b[0m Trial 65 finished with value: 0.21164167113588142 and parameters: {'hidden_units': (128, 128, 64, 32), 'stock_embedding_size': 48, 'activation_func': 'swish', 'learning_rate': 0.004, 'epochs': 200, 'dropout1': 0, 'dropout2': 0}. Best is trial 39 with value: 0.21116726984110495.\u001b[0m\n"
     ]
    },
    {
     "name": "stdout",
     "output_type": "stream",
     "text": [
      "Fold 5 NN: 0.21385\n",
      "rmspe_score: 0.21164167113588142\n"
     ]
    },
    {
     "name": "stderr",
     "output_type": "stream",
     "text": [
      "/home/xuming/.local/lib/python3.8/site-packages/optuna/distributions.py:427: UserWarning: Choices for a categorical distribution should be a tuple of None, bool, int, float and str for persistent storage but contains (128, 64, 32) which is of type tuple.\n",
      "  warnings.warn(message)\n",
      "/home/xuming/.local/lib/python3.8/site-packages/optuna/distributions.py:427: UserWarning: Choices for a categorical distribution should be a tuple of None, bool, int, float and str for persistent storage but contains (128, 128, 64, 32) which is of type tuple.\n",
      "  warnings.warn(message)\n",
      "/home/xuming/.local/lib/python3.8/site-packages/optuna/distributions.py:427: UserWarning: Choices for a categorical distribution should be a tuple of None, bool, int, float and str for persistent storage but contains (128, 64, 32, 16) which is of type tuple.\n",
      "  warnings.warn(message)\n",
      "/home/xuming/.local/lib/python3.8/site-packages/optuna/distributions.py:427: UserWarning: Choices for a categorical distribution should be a tuple of None, bool, int, float and str for persistent storage but contains (128, 64, 64, 32) which is of type tuple.\n",
      "  warnings.warn(message)\n"
     ]
    },
    {
     "name": "stdout",
     "output_type": "stream",
     "text": [
      "Fold 1 NN: 0.20814\n",
      "Fold 2 NN: 0.2125\n",
      "Fold 3 NN: 0.21027\n",
      "Fold 4 NN: 0.21672\n"
     ]
    },
    {
     "name": "stderr",
     "output_type": "stream",
     "text": [
      " suffix  rmspe_score  hidden_units       stock_embedding_size  activation_func  learning_rate  batch_size  epochs  dropout1  dropout2  time\n",
      " 920066   0.2126963   (128, 64, 32)           16                swish          0.0040         2048     1000  0.10  0.00    01:55 \n",
      "\u001b[32m[I 2021-09-20 14:32:11,018]\u001b[0m Trial 66 finished with value: 0.2126962898258354 and parameters: {'hidden_units': (128, 64, 32), 'stock_embedding_size': 16, 'activation_func': 'swish', 'learning_rate': 0.004, 'epochs': 1000, 'dropout1': 0.1, 'dropout2': 0}. Best is trial 39 with value: 0.21116726984110495.\u001b[0m\n"
     ]
    },
    {
     "name": "stdout",
     "output_type": "stream",
     "text": [
      "Fold 5 NN: 0.21573\n",
      "rmspe_score: 0.2126962898258354\n"
     ]
    },
    {
     "name": "stderr",
     "output_type": "stream",
     "text": [
      "/home/xuming/.local/lib/python3.8/site-packages/optuna/distributions.py:427: UserWarning: Choices for a categorical distribution should be a tuple of None, bool, int, float and str for persistent storage but contains (128, 64, 32) which is of type tuple.\n",
      "  warnings.warn(message)\n",
      "/home/xuming/.local/lib/python3.8/site-packages/optuna/distributions.py:427: UserWarning: Choices for a categorical distribution should be a tuple of None, bool, int, float and str for persistent storage but contains (128, 128, 64, 32) which is of type tuple.\n",
      "  warnings.warn(message)\n",
      "/home/xuming/.local/lib/python3.8/site-packages/optuna/distributions.py:427: UserWarning: Choices for a categorical distribution should be a tuple of None, bool, int, float and str for persistent storage but contains (128, 64, 32, 16) which is of type tuple.\n",
      "  warnings.warn(message)\n",
      "/home/xuming/.local/lib/python3.8/site-packages/optuna/distributions.py:427: UserWarning: Choices for a categorical distribution should be a tuple of None, bool, int, float and str for persistent storage but contains (128, 64, 64, 32) which is of type tuple.\n",
      "  warnings.warn(message)\n"
     ]
    },
    {
     "name": "stdout",
     "output_type": "stream",
     "text": [
      "Fold 1 NN: 0.21505\n",
      "Fold 2 NN: 0.22093\n",
      "Fold 3 NN: 0.21752\n",
      "Fold 4 NN: 0.22011\n"
     ]
    },
    {
     "name": "stderr",
     "output_type": "stream",
     "text": [
      " suffix  rmspe_score  hidden_units       stock_embedding_size  activation_func  learning_rate  batch_size  epochs  dropout1  dropout2  time\n",
      " 920067   0.2184940   (128, 64, 32)           48                swish          0.0060         2048     1000  0.20  0.10    02:03 \n",
      "\u001b[32m[I 2021-09-20 14:34:14,231]\u001b[0m Trial 67 finished with value: 0.21849402156976172 and parameters: {'hidden_units': (128, 64, 32), 'stock_embedding_size': 48, 'activation_func': 'swish', 'learning_rate': 0.006, 'epochs': 1000, 'dropout1': 0.2, 'dropout2': 0.1}. Best is trial 39 with value: 0.21116726984110495.\u001b[0m\n"
     ]
    },
    {
     "name": "stdout",
     "output_type": "stream",
     "text": [
      "Fold 5 NN: 0.2188\n",
      "rmspe_score: 0.21849402156976172\n"
     ]
    },
    {
     "name": "stderr",
     "output_type": "stream",
     "text": [
      "/home/xuming/.local/lib/python3.8/site-packages/optuna/distributions.py:427: UserWarning: Choices for a categorical distribution should be a tuple of None, bool, int, float and str for persistent storage but contains (128, 64, 32) which is of type tuple.\n",
      "  warnings.warn(message)\n",
      "/home/xuming/.local/lib/python3.8/site-packages/optuna/distributions.py:427: UserWarning: Choices for a categorical distribution should be a tuple of None, bool, int, float and str for persistent storage but contains (128, 128, 64, 32) which is of type tuple.\n",
      "  warnings.warn(message)\n",
      "/home/xuming/.local/lib/python3.8/site-packages/optuna/distributions.py:427: UserWarning: Choices for a categorical distribution should be a tuple of None, bool, int, float and str for persistent storage but contains (128, 64, 32, 16) which is of type tuple.\n",
      "  warnings.warn(message)\n",
      "/home/xuming/.local/lib/python3.8/site-packages/optuna/distributions.py:427: UserWarning: Choices for a categorical distribution should be a tuple of None, bool, int, float and str for persistent storage but contains (128, 64, 64, 32) which is of type tuple.\n",
      "  warnings.warn(message)\n"
     ]
    },
    {
     "name": "stdout",
     "output_type": "stream",
     "text": [
      "Fold 1 NN: 0.20689\n",
      "Fold 2 NN: 0.21237\n",
      "Fold 3 NN: 0.20984\n",
      "Fold 4 NN: 0.21379\n"
     ]
    },
    {
     "name": "stderr",
     "output_type": "stream",
     "text": [
      " suffix  rmspe_score  hidden_units       stock_embedding_size  activation_func  learning_rate  batch_size  epochs  dropout1  dropout2  time\n",
      " 920068   0.2116361   (128, 64, 32, 16)           48                swish          0.0010         2048      500  0.00  0.05    02:39 \n",
      "\u001b[32m[I 2021-09-20 14:36:53,947]\u001b[0m Trial 68 finished with value: 0.2116360930087973 and parameters: {'hidden_units': (128, 64, 32, 16), 'stock_embedding_size': 48, 'activation_func': 'swish', 'learning_rate': 0.001, 'epochs': 500, 'dropout1': 0, 'dropout2': 0.05}. Best is trial 39 with value: 0.21116726984110495.\u001b[0m\n"
     ]
    },
    {
     "name": "stdout",
     "output_type": "stream",
     "text": [
      "Fold 5 NN: 0.21519\n",
      "rmspe_score: 0.2116360930087973\n"
     ]
    },
    {
     "name": "stderr",
     "output_type": "stream",
     "text": [
      "/home/xuming/.local/lib/python3.8/site-packages/optuna/distributions.py:427: UserWarning: Choices for a categorical distribution should be a tuple of None, bool, int, float and str for persistent storage but contains (128, 64, 32) which is of type tuple.\n",
      "  warnings.warn(message)\n",
      "/home/xuming/.local/lib/python3.8/site-packages/optuna/distributions.py:427: UserWarning: Choices for a categorical distribution should be a tuple of None, bool, int, float and str for persistent storage but contains (128, 128, 64, 32) which is of type tuple.\n",
      "  warnings.warn(message)\n",
      "/home/xuming/.local/lib/python3.8/site-packages/optuna/distributions.py:427: UserWarning: Choices for a categorical distribution should be a tuple of None, bool, int, float and str for persistent storage but contains (128, 64, 32, 16) which is of type tuple.\n",
      "  warnings.warn(message)\n",
      "/home/xuming/.local/lib/python3.8/site-packages/optuna/distributions.py:427: UserWarning: Choices for a categorical distribution should be a tuple of None, bool, int, float and str for persistent storage but contains (128, 64, 64, 32) which is of type tuple.\n",
      "  warnings.warn(message)\n"
     ]
    },
    {
     "name": "stdout",
     "output_type": "stream",
     "text": [
      "Fold 1 NN: 0.20714\n",
      "Fold 2 NN: 0.21484\n",
      "Fold 3 NN: 0.21006\n",
      "Fold 4 NN: 0.21506\n"
     ]
    },
    {
     "name": "stderr",
     "output_type": "stream",
     "text": [
      " suffix  rmspe_score  hidden_units       stock_embedding_size  activation_func  learning_rate  batch_size  epochs  dropout1  dropout2  time\n",
      " 920069   0.2125735   (128, 64, 32)           16                swish          0.0060         2048      500  0.10  0.00    02:07 \n",
      "\u001b[32m[I 2021-09-20 14:39:00,983]\u001b[0m Trial 69 finished with value: 0.21257354066273115 and parameters: {'hidden_units': (128, 64, 32), 'stock_embedding_size': 16, 'activation_func': 'swish', 'learning_rate': 0.006, 'epochs': 500, 'dropout1': 0.1, 'dropout2': 0}. Best is trial 39 with value: 0.21116726984110495.\u001b[0m\n"
     ]
    },
    {
     "name": "stdout",
     "output_type": "stream",
     "text": [
      "Fold 5 NN: 0.21563\n",
      "rmspe_score: 0.21257354066273115\n"
     ]
    },
    {
     "name": "stderr",
     "output_type": "stream",
     "text": [
      "/home/xuming/.local/lib/python3.8/site-packages/optuna/distributions.py:427: UserWarning: Choices for a categorical distribution should be a tuple of None, bool, int, float and str for persistent storage but contains (128, 64, 32) which is of type tuple.\n",
      "  warnings.warn(message)\n",
      "/home/xuming/.local/lib/python3.8/site-packages/optuna/distributions.py:427: UserWarning: Choices for a categorical distribution should be a tuple of None, bool, int, float and str for persistent storage but contains (128, 128, 64, 32) which is of type tuple.\n",
      "  warnings.warn(message)\n",
      "/home/xuming/.local/lib/python3.8/site-packages/optuna/distributions.py:427: UserWarning: Choices for a categorical distribution should be a tuple of None, bool, int, float and str for persistent storage but contains (128, 64, 32, 16) which is of type tuple.\n",
      "  warnings.warn(message)\n",
      "/home/xuming/.local/lib/python3.8/site-packages/optuna/distributions.py:427: UserWarning: Choices for a categorical distribution should be a tuple of None, bool, int, float and str for persistent storage but contains (128, 64, 64, 32) which is of type tuple.\n",
      "  warnings.warn(message)\n"
     ]
    },
    {
     "name": "stdout",
     "output_type": "stream",
     "text": [
      "Fold 1 NN: 0.21398\n",
      "Fold 2 NN: 0.21506\n",
      "Fold 3 NN: 0.21009\n",
      "Fold 4 NN: 0.21891\n"
     ]
    },
    {
     "name": "stderr",
     "output_type": "stream",
     "text": [
      " suffix  rmspe_score  hidden_units       stock_embedding_size  activation_func  learning_rate  batch_size  epochs  dropout1  dropout2  time\n",
      " 920070   0.2148793   (128, 64, 32, 16)           32                swish          0.0010         2048      500  0.05  0.10    02:35 \n",
      "\u001b[32m[I 2021-09-20 14:41:36,814]\u001b[0m Trial 70 finished with value: 0.2148792933314011 and parameters: {'hidden_units': (128, 64, 32, 16), 'stock_embedding_size': 32, 'activation_func': 'swish', 'learning_rate': 0.001, 'epochs': 500, 'dropout1': 0.05, 'dropout2': 0.1}. Best is trial 39 with value: 0.21116726984110495.\u001b[0m\n"
     ]
    },
    {
     "name": "stdout",
     "output_type": "stream",
     "text": [
      "Fold 5 NN: 0.21626\n",
      "rmspe_score: 0.2148792933314011\n"
     ]
    },
    {
     "name": "stderr",
     "output_type": "stream",
     "text": [
      "/home/xuming/.local/lib/python3.8/site-packages/optuna/distributions.py:427: UserWarning: Choices for a categorical distribution should be a tuple of None, bool, int, float and str for persistent storage but contains (128, 64, 32) which is of type tuple.\n",
      "  warnings.warn(message)\n",
      "/home/xuming/.local/lib/python3.8/site-packages/optuna/distributions.py:427: UserWarning: Choices for a categorical distribution should be a tuple of None, bool, int, float and str for persistent storage but contains (128, 128, 64, 32) which is of type tuple.\n",
      "  warnings.warn(message)\n",
      "/home/xuming/.local/lib/python3.8/site-packages/optuna/distributions.py:427: UserWarning: Choices for a categorical distribution should be a tuple of None, bool, int, float and str for persistent storage but contains (128, 64, 32, 16) which is of type tuple.\n",
      "  warnings.warn(message)\n",
      "/home/xuming/.local/lib/python3.8/site-packages/optuna/distributions.py:427: UserWarning: Choices for a categorical distribution should be a tuple of None, bool, int, float and str for persistent storage but contains (128, 64, 64, 32) which is of type tuple.\n",
      "  warnings.warn(message)\n"
     ]
    },
    {
     "name": "stdout",
     "output_type": "stream",
     "text": [
      "Fold 1 NN: 0.20988\n",
      "Fold 2 NN: 0.21509\n",
      "Fold 3 NN: 0.21316\n",
      "Fold 4 NN: 0.22033\n"
     ]
    },
    {
     "name": "stderr",
     "output_type": "stream",
     "text": [
      " suffix  rmspe_score  hidden_units       stock_embedding_size  activation_func  learning_rate  batch_size  epochs  dropout1  dropout2  time\n",
      " 920071   0.2152526   (128, 128, 64, 32)           32                swish          0.0040         2048      200  0.10  0.10    02:36 \n",
      "\u001b[32m[I 2021-09-20 14:44:13,075]\u001b[0m Trial 71 finished with value: 0.2152525833832873 and parameters: {'hidden_units': (128, 128, 64, 32), 'stock_embedding_size': 32, 'activation_func': 'swish', 'learning_rate': 0.004, 'epochs': 200, 'dropout1': 0.1, 'dropout2': 0.1}. Best is trial 39 with value: 0.21116726984110495.\u001b[0m\n"
     ]
    },
    {
     "name": "stdout",
     "output_type": "stream",
     "text": [
      "Fold 5 NN: 0.21766\n",
      "rmspe_score: 0.2152525833832873\n"
     ]
    },
    {
     "name": "stderr",
     "output_type": "stream",
     "text": [
      "/home/xuming/.local/lib/python3.8/site-packages/optuna/distributions.py:427: UserWarning: Choices for a categorical distribution should be a tuple of None, bool, int, float and str for persistent storage but contains (128, 64, 32) which is of type tuple.\n",
      "  warnings.warn(message)\n",
      "/home/xuming/.local/lib/python3.8/site-packages/optuna/distributions.py:427: UserWarning: Choices for a categorical distribution should be a tuple of None, bool, int, float and str for persistent storage but contains (128, 128, 64, 32) which is of type tuple.\n",
      "  warnings.warn(message)\n",
      "/home/xuming/.local/lib/python3.8/site-packages/optuna/distributions.py:427: UserWarning: Choices for a categorical distribution should be a tuple of None, bool, int, float and str for persistent storage but contains (128, 64, 32, 16) which is of type tuple.\n",
      "  warnings.warn(message)\n",
      "/home/xuming/.local/lib/python3.8/site-packages/optuna/distributions.py:427: UserWarning: Choices for a categorical distribution should be a tuple of None, bool, int, float and str for persistent storage but contains (128, 64, 64, 32) which is of type tuple.\n",
      "  warnings.warn(message)\n"
     ]
    },
    {
     "name": "stdout",
     "output_type": "stream",
     "text": [
      "Fold 1 NN: 0.20822\n",
      "Fold 2 NN: 0.21347\n",
      "Fold 3 NN: 0.20852\n",
      "Fold 4 NN: 0.21483\n"
     ]
    },
    {
     "name": "stderr",
     "output_type": "stream",
     "text": [
      " suffix  rmspe_score  hidden_units       stock_embedding_size  activation_func  learning_rate  batch_size  epochs  dropout1  dropout2  time\n",
      " 920072   0.2116525   (128, 64, 32, 16)           64                swish          0.0060         2048      500  0.00  0.00    01:41 \n",
      "\u001b[32m[I 2021-09-20 14:45:54,523]\u001b[0m Trial 72 finished with value: 0.21165245937799046 and parameters: {'hidden_units': (128, 64, 32, 16), 'stock_embedding_size': 64, 'activation_func': 'swish', 'learning_rate': 0.006, 'epochs': 500, 'dropout1': 0, 'dropout2': 0}. Best is trial 39 with value: 0.21116726984110495.\u001b[0m\n"
     ]
    },
    {
     "name": "stdout",
     "output_type": "stream",
     "text": [
      "Fold 5 NN: 0.21313\n",
      "rmspe_score: 0.21165245937799046\n"
     ]
    },
    {
     "name": "stderr",
     "output_type": "stream",
     "text": [
      "/home/xuming/.local/lib/python3.8/site-packages/optuna/distributions.py:427: UserWarning: Choices for a categorical distribution should be a tuple of None, bool, int, float and str for persistent storage but contains (128, 64, 32) which is of type tuple.\n",
      "  warnings.warn(message)\n",
      "/home/xuming/.local/lib/python3.8/site-packages/optuna/distributions.py:427: UserWarning: Choices for a categorical distribution should be a tuple of None, bool, int, float and str for persistent storage but contains (128, 128, 64, 32) which is of type tuple.\n",
      "  warnings.warn(message)\n",
      "/home/xuming/.local/lib/python3.8/site-packages/optuna/distributions.py:427: UserWarning: Choices for a categorical distribution should be a tuple of None, bool, int, float and str for persistent storage but contains (128, 64, 32, 16) which is of type tuple.\n",
      "  warnings.warn(message)\n",
      "/home/xuming/.local/lib/python3.8/site-packages/optuna/distributions.py:427: UserWarning: Choices for a categorical distribution should be a tuple of None, bool, int, float and str for persistent storage but contains (128, 64, 64, 32) which is of type tuple.\n",
      "  warnings.warn(message)\n"
     ]
    },
    {
     "name": "stdout",
     "output_type": "stream",
     "text": [
      "Fold 1 NN: 0.21192\n",
      "Fold 2 NN: 0.22174\n",
      "Fold 3 NN: 0.22416\n",
      "Fold 4 NN: 0.22361\n"
     ]
    },
    {
     "name": "stderr",
     "output_type": "stream",
     "text": [
      " suffix  rmspe_score  hidden_units       stock_embedding_size  activation_func  learning_rate  batch_size  epochs  dropout1  dropout2  time\n",
      " 920073   0.2200554   (128, 64, 32)           64                swish          0.0200         2048     1000  0.05  0.10    02:24 \n",
      "\u001b[32m[I 2021-09-20 14:48:19,400]\u001b[0m Trial 73 finished with value: 0.22005540512650343 and parameters: {'hidden_units': (128, 64, 32), 'stock_embedding_size': 64, 'activation_func': 'swish', 'learning_rate': 0.02, 'epochs': 1000, 'dropout1': 0.05, 'dropout2': 0.1}. Best is trial 39 with value: 0.21116726984110495.\u001b[0m\n"
     ]
    },
    {
     "name": "stdout",
     "output_type": "stream",
     "text": [
      "Fold 5 NN: 0.21861\n",
      "rmspe_score: 0.22005540512650343\n"
     ]
    },
    {
     "name": "stderr",
     "output_type": "stream",
     "text": [
      "/home/xuming/.local/lib/python3.8/site-packages/optuna/distributions.py:427: UserWarning: Choices for a categorical distribution should be a tuple of None, bool, int, float and str for persistent storage but contains (128, 64, 32) which is of type tuple.\n",
      "  warnings.warn(message)\n",
      "/home/xuming/.local/lib/python3.8/site-packages/optuna/distributions.py:427: UserWarning: Choices for a categorical distribution should be a tuple of None, bool, int, float and str for persistent storage but contains (128, 128, 64, 32) which is of type tuple.\n",
      "  warnings.warn(message)\n",
      "/home/xuming/.local/lib/python3.8/site-packages/optuna/distributions.py:427: UserWarning: Choices for a categorical distribution should be a tuple of None, bool, int, float and str for persistent storage but contains (128, 64, 32, 16) which is of type tuple.\n",
      "  warnings.warn(message)\n",
      "/home/xuming/.local/lib/python3.8/site-packages/optuna/distributions.py:427: UserWarning: Choices for a categorical distribution should be a tuple of None, bool, int, float and str for persistent storage but contains (128, 64, 64, 32) which is of type tuple.\n",
      "  warnings.warn(message)\n"
     ]
    },
    {
     "name": "stdout",
     "output_type": "stream",
     "text": [
      "Fold 1 NN: 0.21006\n",
      "Fold 2 NN: 0.21615\n",
      "Fold 3 NN: 0.21319\n",
      "Fold 4 NN: 0.22126\n"
     ]
    },
    {
     "name": "stderr",
     "output_type": "stream",
     "text": [
      " suffix  rmspe_score  hidden_units       stock_embedding_size  activation_func  learning_rate  batch_size  epochs  dropout1  dropout2  time\n",
      " 920074   0.2152696   (128, 64, 64, 32)           16                swish          0.0100         2048     1000  0.10  0.10    02:16 \n",
      "\u001b[32m[I 2021-09-20 14:50:35,900]\u001b[0m Trial 74 finished with value: 0.21526964404839993 and parameters: {'hidden_units': (128, 64, 64, 32), 'stock_embedding_size': 16, 'activation_func': 'swish', 'learning_rate': 0.01, 'epochs': 1000, 'dropout1': 0.1, 'dropout2': 0.1}. Best is trial 39 with value: 0.21116726984110495.\u001b[0m\n"
     ]
    },
    {
     "name": "stdout",
     "output_type": "stream",
     "text": [
      "Fold 5 NN: 0.21554\n",
      "rmspe_score: 0.21526964404839993\n"
     ]
    },
    {
     "name": "stderr",
     "output_type": "stream",
     "text": [
      "/home/xuming/.local/lib/python3.8/site-packages/optuna/distributions.py:427: UserWarning: Choices for a categorical distribution should be a tuple of None, bool, int, float and str for persistent storage but contains (128, 64, 32) which is of type tuple.\n",
      "  warnings.warn(message)\n",
      "/home/xuming/.local/lib/python3.8/site-packages/optuna/distributions.py:427: UserWarning: Choices for a categorical distribution should be a tuple of None, bool, int, float and str for persistent storage but contains (128, 128, 64, 32) which is of type tuple.\n",
      "  warnings.warn(message)\n",
      "/home/xuming/.local/lib/python3.8/site-packages/optuna/distributions.py:427: UserWarning: Choices for a categorical distribution should be a tuple of None, bool, int, float and str for persistent storage but contains (128, 64, 32, 16) which is of type tuple.\n",
      "  warnings.warn(message)\n",
      "/home/xuming/.local/lib/python3.8/site-packages/optuna/distributions.py:427: UserWarning: Choices for a categorical distribution should be a tuple of None, bool, int, float and str for persistent storage but contains (128, 64, 64, 32) which is of type tuple.\n",
      "  warnings.warn(message)\n"
     ]
    },
    {
     "name": "stdout",
     "output_type": "stream",
     "text": [
      "Fold 1 NN: 0.21121\n",
      "Fold 2 NN: 0.21619\n",
      "Fold 3 NN: 0.21372\n",
      "Fold 4 NN: 0.21817\n"
     ]
    },
    {
     "name": "stderr",
     "output_type": "stream",
     "text": [
      " suffix  rmspe_score  hidden_units       stock_embedding_size  activation_func  learning_rate  batch_size  epochs  dropout1  dropout2  time\n",
      " 920075   0.2155948   (128, 64, 64, 32)           16                swish          0.0010         2048     1000  0.00  0.10    02:31 \n",
      "\u001b[32m[I 2021-09-20 14:53:07,086]\u001b[0m Trial 75 finished with value: 0.2155947937149384 and parameters: {'hidden_units': (128, 64, 64, 32), 'stock_embedding_size': 16, 'activation_func': 'swish', 'learning_rate': 0.001, 'epochs': 1000, 'dropout1': 0, 'dropout2': 0.1}. Best is trial 39 with value: 0.21116726984110495.\u001b[0m\n"
     ]
    },
    {
     "name": "stdout",
     "output_type": "stream",
     "text": [
      "Fold 5 NN: 0.21859\n",
      "rmspe_score: 0.2155947937149384\n"
     ]
    },
    {
     "name": "stderr",
     "output_type": "stream",
     "text": [
      "/home/xuming/.local/lib/python3.8/site-packages/optuna/distributions.py:427: UserWarning: Choices for a categorical distribution should be a tuple of None, bool, int, float and str for persistent storage but contains (128, 64, 32) which is of type tuple.\n",
      "  warnings.warn(message)\n",
      "/home/xuming/.local/lib/python3.8/site-packages/optuna/distributions.py:427: UserWarning: Choices for a categorical distribution should be a tuple of None, bool, int, float and str for persistent storage but contains (128, 128, 64, 32) which is of type tuple.\n",
      "  warnings.warn(message)\n",
      "/home/xuming/.local/lib/python3.8/site-packages/optuna/distributions.py:427: UserWarning: Choices for a categorical distribution should be a tuple of None, bool, int, float and str for persistent storage but contains (128, 64, 32, 16) which is of type tuple.\n",
      "  warnings.warn(message)\n",
      "/home/xuming/.local/lib/python3.8/site-packages/optuna/distributions.py:427: UserWarning: Choices for a categorical distribution should be a tuple of None, bool, int, float and str for persistent storage but contains (128, 64, 64, 32) which is of type tuple.\n",
      "  warnings.warn(message)\n"
     ]
    },
    {
     "name": "stdout",
     "output_type": "stream",
     "text": [
      "Fold 1 NN: 0.20962\n",
      "Fold 2 NN: 0.2163\n",
      "Fold 3 NN: 0.20907\n",
      "Fold 4 NN: 0.21607\n"
     ]
    },
    {
     "name": "stderr",
     "output_type": "stream",
     "text": [
      " suffix  rmspe_score  hidden_units       stock_embedding_size  activation_func  learning_rate  batch_size  epochs  dropout1  dropout2  time\n",
      " 920076   0.2130376   (128, 128, 64, 32)           64                swish          0.0040         2048      500  0.20  0.00    02:07 \n",
      "\u001b[32m[I 2021-09-20 14:55:14,418]\u001b[0m Trial 76 finished with value: 0.21303763825176736 and parameters: {'hidden_units': (128, 128, 64, 32), 'stock_embedding_size': 64, 'activation_func': 'swish', 'learning_rate': 0.004, 'epochs': 500, 'dropout1': 0.2, 'dropout2': 0}. Best is trial 39 with value: 0.21116726984110495.\u001b[0m\n"
     ]
    },
    {
     "name": "stdout",
     "output_type": "stream",
     "text": [
      "Fold 5 NN: 0.21402\n",
      "rmspe_score: 0.21303763825176736\n"
     ]
    },
    {
     "name": "stderr",
     "output_type": "stream",
     "text": [
      "/home/xuming/.local/lib/python3.8/site-packages/optuna/distributions.py:427: UserWarning: Choices for a categorical distribution should be a tuple of None, bool, int, float and str for persistent storage but contains (128, 64, 32) which is of type tuple.\n",
      "  warnings.warn(message)\n",
      "/home/xuming/.local/lib/python3.8/site-packages/optuna/distributions.py:427: UserWarning: Choices for a categorical distribution should be a tuple of None, bool, int, float and str for persistent storage but contains (128, 128, 64, 32) which is of type tuple.\n",
      "  warnings.warn(message)\n",
      "/home/xuming/.local/lib/python3.8/site-packages/optuna/distributions.py:427: UserWarning: Choices for a categorical distribution should be a tuple of None, bool, int, float and str for persistent storage but contains (128, 64, 32, 16) which is of type tuple.\n",
      "  warnings.warn(message)\n",
      "/home/xuming/.local/lib/python3.8/site-packages/optuna/distributions.py:427: UserWarning: Choices for a categorical distribution should be a tuple of None, bool, int, float and str for persistent storage but contains (128, 64, 64, 32) which is of type tuple.\n",
      "  warnings.warn(message)\n"
     ]
    },
    {
     "name": "stdout",
     "output_type": "stream",
     "text": [
      "Fold 1 NN: 0.20864\n",
      "Fold 2 NN: 0.2148\n",
      "Fold 3 NN: 0.21229\n",
      "Fold 4 NN: 0.21493\n"
     ]
    },
    {
     "name": "stderr",
     "output_type": "stream",
     "text": [
      " suffix  rmspe_score  hidden_units       stock_embedding_size  activation_func  learning_rate  batch_size  epochs  dropout1  dropout2  time\n",
      " 920077   0.2131155   (128, 64, 64, 32)           48                swish          0.0060         2048      500  0.05  0.05    02:07 \n",
      "\u001b[32m[I 2021-09-20 14:57:21,898]\u001b[0m Trial 77 finished with value: 0.21311547839935224 and parameters: {'hidden_units': (128, 64, 64, 32), 'stock_embedding_size': 48, 'activation_func': 'swish', 'learning_rate': 0.006, 'epochs': 500, 'dropout1': 0.05, 'dropout2': 0.05}. Best is trial 39 with value: 0.21116726984110495.\u001b[0m\n"
     ]
    },
    {
     "name": "stdout",
     "output_type": "stream",
     "text": [
      "Fold 5 NN: 0.21485\n",
      "rmspe_score: 0.21311547839935224\n"
     ]
    },
    {
     "name": "stderr",
     "output_type": "stream",
     "text": [
      "/home/xuming/.local/lib/python3.8/site-packages/optuna/distributions.py:427: UserWarning: Choices for a categorical distribution should be a tuple of None, bool, int, float and str for persistent storage but contains (128, 64, 32) which is of type tuple.\n",
      "  warnings.warn(message)\n",
      "/home/xuming/.local/lib/python3.8/site-packages/optuna/distributions.py:427: UserWarning: Choices for a categorical distribution should be a tuple of None, bool, int, float and str for persistent storage but contains (128, 128, 64, 32) which is of type tuple.\n",
      "  warnings.warn(message)\n",
      "/home/xuming/.local/lib/python3.8/site-packages/optuna/distributions.py:427: UserWarning: Choices for a categorical distribution should be a tuple of None, bool, int, float and str for persistent storage but contains (128, 64, 32, 16) which is of type tuple.\n",
      "  warnings.warn(message)\n",
      "/home/xuming/.local/lib/python3.8/site-packages/optuna/distributions.py:427: UserWarning: Choices for a categorical distribution should be a tuple of None, bool, int, float and str for persistent storage but contains (128, 64, 64, 32) which is of type tuple.\n",
      "  warnings.warn(message)\n"
     ]
    },
    {
     "name": "stdout",
     "output_type": "stream",
     "text": [
      "Fold 1 NN: 0.21037\n",
      "Fold 2 NN: 0.21354\n",
      "Fold 3 NN: 0.20885\n",
      "Fold 4 NN: 0.2165\n"
     ]
    },
    {
     "name": "stderr",
     "output_type": "stream",
     "text": [
      " suffix  rmspe_score  hidden_units       stock_embedding_size  activation_func  learning_rate  batch_size  epochs  dropout1  dropout2  time\n",
      " 920078   0.2128492   (128, 64, 32, 16)           48                swish          0.0060         2048      500  0.05  0.10    02:14 \n",
      "\u001b[32m[I 2021-09-20 14:59:36,110]\u001b[0m Trial 78 finished with value: 0.21284922623928168 and parameters: {'hidden_units': (128, 64, 32, 16), 'stock_embedding_size': 48, 'activation_func': 'swish', 'learning_rate': 0.006, 'epochs': 500, 'dropout1': 0.05, 'dropout2': 0.1}. Best is trial 39 with value: 0.21116726984110495.\u001b[0m\n"
     ]
    },
    {
     "name": "stdout",
     "output_type": "stream",
     "text": [
      "Fold 5 NN: 0.21489\n",
      "rmspe_score: 0.21284922623928168\n"
     ]
    },
    {
     "name": "stderr",
     "output_type": "stream",
     "text": [
      "/home/xuming/.local/lib/python3.8/site-packages/optuna/distributions.py:427: UserWarning: Choices for a categorical distribution should be a tuple of None, bool, int, float and str for persistent storage but contains (128, 64, 32) which is of type tuple.\n",
      "  warnings.warn(message)\n",
      "/home/xuming/.local/lib/python3.8/site-packages/optuna/distributions.py:427: UserWarning: Choices for a categorical distribution should be a tuple of None, bool, int, float and str for persistent storage but contains (128, 128, 64, 32) which is of type tuple.\n",
      "  warnings.warn(message)\n",
      "/home/xuming/.local/lib/python3.8/site-packages/optuna/distributions.py:427: UserWarning: Choices for a categorical distribution should be a tuple of None, bool, int, float and str for persistent storage but contains (128, 64, 32, 16) which is of type tuple.\n",
      "  warnings.warn(message)\n",
      "/home/xuming/.local/lib/python3.8/site-packages/optuna/distributions.py:427: UserWarning: Choices for a categorical distribution should be a tuple of None, bool, int, float and str for persistent storage but contains (128, 64, 64, 32) which is of type tuple.\n",
      "  warnings.warn(message)\n"
     ]
    },
    {
     "name": "stdout",
     "output_type": "stream",
     "text": [
      "Fold 1 NN: 0.21133\n",
      "Fold 2 NN: 0.21512\n",
      "Fold 3 NN: 0.21513\n",
      "Fold 4 NN: 0.22437\n"
     ]
    },
    {
     "name": "stderr",
     "output_type": "stream",
     "text": [
      " suffix  rmspe_score  hidden_units       stock_embedding_size  activation_func  learning_rate  batch_size  epochs  dropout1  dropout2  time\n",
      " 920079   0.2165279   (128, 64, 32, 16)           16                swish          0.0010         2048      500  0.05  0.10    02:32 \n",
      "\u001b[32m[I 2021-09-20 15:02:08,959]\u001b[0m Trial 79 finished with value: 0.21652793234166112 and parameters: {'hidden_units': (128, 64, 32, 16), 'stock_embedding_size': 16, 'activation_func': 'swish', 'learning_rate': 0.001, 'epochs': 500, 'dropout1': 0.05, 'dropout2': 0.1}. Best is trial 39 with value: 0.21116726984110495.\u001b[0m\n"
     ]
    },
    {
     "name": "stdout",
     "output_type": "stream",
     "text": [
      "Fold 5 NN: 0.21648\n",
      "rmspe_score: 0.21652793234166112\n"
     ]
    },
    {
     "name": "stderr",
     "output_type": "stream",
     "text": [
      "/home/xuming/.local/lib/python3.8/site-packages/optuna/distributions.py:427: UserWarning: Choices for a categorical distribution should be a tuple of None, bool, int, float and str for persistent storage but contains (128, 64, 32) which is of type tuple.\n",
      "  warnings.warn(message)\n",
      "/home/xuming/.local/lib/python3.8/site-packages/optuna/distributions.py:427: UserWarning: Choices for a categorical distribution should be a tuple of None, bool, int, float and str for persistent storage but contains (128, 128, 64, 32) which is of type tuple.\n",
      "  warnings.warn(message)\n",
      "/home/xuming/.local/lib/python3.8/site-packages/optuna/distributions.py:427: UserWarning: Choices for a categorical distribution should be a tuple of None, bool, int, float and str for persistent storage but contains (128, 64, 32, 16) which is of type tuple.\n",
      "  warnings.warn(message)\n",
      "/home/xuming/.local/lib/python3.8/site-packages/optuna/distributions.py:427: UserWarning: Choices for a categorical distribution should be a tuple of None, bool, int, float and str for persistent storage but contains (128, 64, 64, 32) which is of type tuple.\n",
      "  warnings.warn(message)\n"
     ]
    },
    {
     "name": "stdout",
     "output_type": "stream",
     "text": [
      "Fold 1 NN: 0.20873\n",
      "Fold 2 NN: 0.215\n",
      "Fold 3 NN: 0.21088\n",
      "Fold 4 NN: 0.2162\n"
     ]
    },
    {
     "name": "stderr",
     "output_type": "stream",
     "text": [
      " suffix  rmspe_score  hidden_units       stock_embedding_size  activation_func  learning_rate  batch_size  epochs  dropout1  dropout2  time\n",
      " 920080   0.2136877   (128, 64, 32, 16)           16                swish          0.0100         2048      500  0.10  0.05    02:19 \n",
      "\u001b[32m[I 2021-09-20 15:04:28,621]\u001b[0m Trial 80 finished with value: 0.21368765349555327 and parameters: {'hidden_units': (128, 64, 32, 16), 'stock_embedding_size': 16, 'activation_func': 'swish', 'learning_rate': 0.01, 'epochs': 500, 'dropout1': 0.1, 'dropout2': 0.05}. Best is trial 39 with value: 0.21116726984110495.\u001b[0m\n"
     ]
    },
    {
     "name": "stdout",
     "output_type": "stream",
     "text": [
      "Fold 5 NN: 0.2175\n",
      "rmspe_score: 0.21368765349555327\n"
     ]
    },
    {
     "name": "stderr",
     "output_type": "stream",
     "text": [
      "/home/xuming/.local/lib/python3.8/site-packages/optuna/distributions.py:427: UserWarning: Choices for a categorical distribution should be a tuple of None, bool, int, float and str for persistent storage but contains (128, 64, 32) which is of type tuple.\n",
      "  warnings.warn(message)\n",
      "/home/xuming/.local/lib/python3.8/site-packages/optuna/distributions.py:427: UserWarning: Choices for a categorical distribution should be a tuple of None, bool, int, float and str for persistent storage but contains (128, 128, 64, 32) which is of type tuple.\n",
      "  warnings.warn(message)\n",
      "/home/xuming/.local/lib/python3.8/site-packages/optuna/distributions.py:427: UserWarning: Choices for a categorical distribution should be a tuple of None, bool, int, float and str for persistent storage but contains (128, 64, 32, 16) which is of type tuple.\n",
      "  warnings.warn(message)\n",
      "/home/xuming/.local/lib/python3.8/site-packages/optuna/distributions.py:427: UserWarning: Choices for a categorical distribution should be a tuple of None, bool, int, float and str for persistent storage but contains (128, 64, 64, 32) which is of type tuple.\n",
      "  warnings.warn(message)\n"
     ]
    },
    {
     "name": "stdout",
     "output_type": "stream",
     "text": [
      "Fold 1 NN: 0.20983\n",
      "Fold 2 NN: 0.21555\n",
      "Fold 3 NN: 0.21099\n",
      "Fold 4 NN: 0.21578\n"
     ]
    },
    {
     "name": "stderr",
     "output_type": "stream",
     "text": [
      " suffix  rmspe_score  hidden_units       stock_embedding_size  activation_func  learning_rate  batch_size  epochs  dropout1  dropout2  time\n",
      " 920081   0.2134659   (128, 64, 64, 32)           16                swish          0.0100         2048      200  0.10  0.05    02:23 \n",
      "\u001b[32m[I 2021-09-20 15:06:51,846]\u001b[0m Trial 81 finished with value: 0.21346587445225385 and parameters: {'hidden_units': (128, 64, 64, 32), 'stock_embedding_size': 16, 'activation_func': 'swish', 'learning_rate': 0.01, 'epochs': 200, 'dropout1': 0.1, 'dropout2': 0.05}. Best is trial 39 with value: 0.21116726984110495.\u001b[0m\n"
     ]
    },
    {
     "name": "stdout",
     "output_type": "stream",
     "text": [
      "Fold 5 NN: 0.21511\n",
      "rmspe_score: 0.21346587445225385\n"
     ]
    },
    {
     "name": "stderr",
     "output_type": "stream",
     "text": [
      "/home/xuming/.local/lib/python3.8/site-packages/optuna/distributions.py:427: UserWarning: Choices for a categorical distribution should be a tuple of None, bool, int, float and str for persistent storage but contains (128, 64, 32) which is of type tuple.\n",
      "  warnings.warn(message)\n",
      "/home/xuming/.local/lib/python3.8/site-packages/optuna/distributions.py:427: UserWarning: Choices for a categorical distribution should be a tuple of None, bool, int, float and str for persistent storage but contains (128, 128, 64, 32) which is of type tuple.\n",
      "  warnings.warn(message)\n",
      "/home/xuming/.local/lib/python3.8/site-packages/optuna/distributions.py:427: UserWarning: Choices for a categorical distribution should be a tuple of None, bool, int, float and str for persistent storage but contains (128, 64, 32, 16) which is of type tuple.\n",
      "  warnings.warn(message)\n",
      "/home/xuming/.local/lib/python3.8/site-packages/optuna/distributions.py:427: UserWarning: Choices for a categorical distribution should be a tuple of None, bool, int, float and str for persistent storage but contains (128, 64, 64, 32) which is of type tuple.\n",
      "  warnings.warn(message)\n"
     ]
    },
    {
     "name": "stdout",
     "output_type": "stream",
     "text": [
      "Fold 1 NN: 0.20866\n",
      "Fold 2 NN: 0.21374\n",
      "Fold 3 NN: 0.20907\n",
      "Fold 4 NN: 0.21574\n"
     ]
    },
    {
     "name": "stderr",
     "output_type": "stream",
     "text": [
      " suffix  rmspe_score  hidden_units       stock_embedding_size  activation_func  learning_rate  batch_size  epochs  dropout1  dropout2  time\n",
      " 920082   0.2122230   (128, 64, 64, 32)           16                swish          0.0060         2048      500  0.00  0.05    02:14 \n",
      "\u001b[32m[I 2021-09-20 15:09:06,142]\u001b[0m Trial 82 finished with value: 0.21222298476493265 and parameters: {'hidden_units': (128, 64, 64, 32), 'stock_embedding_size': 16, 'activation_func': 'swish', 'learning_rate': 0.006, 'epochs': 500, 'dropout1': 0, 'dropout2': 0.05}. Best is trial 39 with value: 0.21116726984110495.\u001b[0m\n"
     ]
    },
    {
     "name": "stdout",
     "output_type": "stream",
     "text": [
      "Fold 5 NN: 0.21381\n",
      "rmspe_score: 0.21222298476493265\n"
     ]
    },
    {
     "name": "stderr",
     "output_type": "stream",
     "text": [
      "/home/xuming/.local/lib/python3.8/site-packages/optuna/distributions.py:427: UserWarning: Choices for a categorical distribution should be a tuple of None, bool, int, float and str for persistent storage but contains (128, 64, 32) which is of type tuple.\n",
      "  warnings.warn(message)\n",
      "/home/xuming/.local/lib/python3.8/site-packages/optuna/distributions.py:427: UserWarning: Choices for a categorical distribution should be a tuple of None, bool, int, float and str for persistent storage but contains (128, 128, 64, 32) which is of type tuple.\n",
      "  warnings.warn(message)\n",
      "/home/xuming/.local/lib/python3.8/site-packages/optuna/distributions.py:427: UserWarning: Choices for a categorical distribution should be a tuple of None, bool, int, float and str for persistent storage but contains (128, 64, 32, 16) which is of type tuple.\n",
      "  warnings.warn(message)\n",
      "/home/xuming/.local/lib/python3.8/site-packages/optuna/distributions.py:427: UserWarning: Choices for a categorical distribution should be a tuple of None, bool, int, float and str for persistent storage but contains (128, 64, 64, 32) which is of type tuple.\n",
      "  warnings.warn(message)\n"
     ]
    },
    {
     "name": "stdout",
     "output_type": "stream",
     "text": [
      "Fold 1 NN: 0.20754\n",
      "Fold 2 NN: 0.21228\n",
      "Fold 3 NN: 0.20883\n",
      "Fold 4 NN: 0.21525\n"
     ]
    },
    {
     "name": "stderr",
     "output_type": "stream",
     "text": [
      " suffix  rmspe_score  hidden_units       stock_embedding_size  activation_func  learning_rate  batch_size  epochs  dropout1  dropout2  time\n",
      " 920083   0.2115456   (128, 64, 64, 32)           48                swish          0.0040         2048      200  0.05  0.00    01:53 \n",
      "\u001b[32m[I 2021-09-20 15:10:59,872]\u001b[0m Trial 83 finished with value: 0.21154563371502502 and parameters: {'hidden_units': (128, 64, 64, 32), 'stock_embedding_size': 48, 'activation_func': 'swish', 'learning_rate': 0.004, 'epochs': 200, 'dropout1': 0.05, 'dropout2': 0}. Best is trial 39 with value: 0.21116726984110495.\u001b[0m\n"
     ]
    },
    {
     "name": "stdout",
     "output_type": "stream",
     "text": [
      "Fold 5 NN: 0.21373\n",
      "rmspe_score: 0.21154563371502502\n"
     ]
    },
    {
     "name": "stderr",
     "output_type": "stream",
     "text": [
      "/home/xuming/.local/lib/python3.8/site-packages/optuna/distributions.py:427: UserWarning: Choices for a categorical distribution should be a tuple of None, bool, int, float and str for persistent storage but contains (128, 64, 32) which is of type tuple.\n",
      "  warnings.warn(message)\n",
      "/home/xuming/.local/lib/python3.8/site-packages/optuna/distributions.py:427: UserWarning: Choices for a categorical distribution should be a tuple of None, bool, int, float and str for persistent storage but contains (128, 128, 64, 32) which is of type tuple.\n",
      "  warnings.warn(message)\n",
      "/home/xuming/.local/lib/python3.8/site-packages/optuna/distributions.py:427: UserWarning: Choices for a categorical distribution should be a tuple of None, bool, int, float and str for persistent storage but contains (128, 64, 32, 16) which is of type tuple.\n",
      "  warnings.warn(message)\n",
      "/home/xuming/.local/lib/python3.8/site-packages/optuna/distributions.py:427: UserWarning: Choices for a categorical distribution should be a tuple of None, bool, int, float and str for persistent storage but contains (128, 64, 64, 32) which is of type tuple.\n",
      "  warnings.warn(message)\n"
     ]
    },
    {
     "name": "stdout",
     "output_type": "stream",
     "text": [
      "Fold 1 NN: 0.20813\n",
      "Fold 2 NN: 0.21573\n",
      "Fold 3 NN: 0.2119\n",
      "Fold 4 NN: 0.2177\n"
     ]
    },
    {
     "name": "stderr",
     "output_type": "stream",
     "text": [
      " suffix  rmspe_score  hidden_units       stock_embedding_size  activation_func  learning_rate  batch_size  epochs  dropout1  dropout2  time\n",
      " 920084   0.2141357   (128, 64, 32, 16)           32                swish          0.0040         2048      200  0.00  0.10    02:28 \n",
      "\u001b[32m[I 2021-09-20 15:13:28,708]\u001b[0m Trial 84 finished with value: 0.2141356800379373 and parameters: {'hidden_units': (128, 64, 32, 16), 'stock_embedding_size': 32, 'activation_func': 'swish', 'learning_rate': 0.004, 'epochs': 200, 'dropout1': 0, 'dropout2': 0.1}. Best is trial 39 with value: 0.21116726984110495.\u001b[0m\n"
     ]
    },
    {
     "name": "stdout",
     "output_type": "stream",
     "text": [
      "Fold 5 NN: 0.21707\n",
      "rmspe_score: 0.2141356800379373\n"
     ]
    },
    {
     "name": "stderr",
     "output_type": "stream",
     "text": [
      "/home/xuming/.local/lib/python3.8/site-packages/optuna/distributions.py:427: UserWarning: Choices for a categorical distribution should be a tuple of None, bool, int, float and str for persistent storage but contains (128, 64, 32) which is of type tuple.\n",
      "  warnings.warn(message)\n",
      "/home/xuming/.local/lib/python3.8/site-packages/optuna/distributions.py:427: UserWarning: Choices for a categorical distribution should be a tuple of None, bool, int, float and str for persistent storage but contains (128, 128, 64, 32) which is of type tuple.\n",
      "  warnings.warn(message)\n",
      "/home/xuming/.local/lib/python3.8/site-packages/optuna/distributions.py:427: UserWarning: Choices for a categorical distribution should be a tuple of None, bool, int, float and str for persistent storage but contains (128, 64, 32, 16) which is of type tuple.\n",
      "  warnings.warn(message)\n",
      "/home/xuming/.local/lib/python3.8/site-packages/optuna/distributions.py:427: UserWarning: Choices for a categorical distribution should be a tuple of None, bool, int, float and str for persistent storage but contains (128, 64, 64, 32) which is of type tuple.\n",
      "  warnings.warn(message)\n"
     ]
    },
    {
     "name": "stdout",
     "output_type": "stream",
     "text": [
      "Fold 1 NN: 0.20878\n",
      "Fold 2 NN: 0.21627\n",
      "Fold 3 NN: 0.20972\n",
      "Fold 4 NN: 0.21345\n"
     ]
    },
    {
     "name": "stderr",
     "output_type": "stream",
     "text": [
      " suffix  rmspe_score  hidden_units       stock_embedding_size  activation_func  learning_rate  batch_size  epochs  dropout1  dropout2  time\n",
      " 920085   0.2128912   (128, 64, 32)           24                swish          0.0200         2048     1000  0.05  0.00    02:37 \n",
      "\u001b[32m[I 2021-09-20 15:16:06,102]\u001b[0m Trial 85 finished with value: 0.21289119432752274 and parameters: {'hidden_units': (128, 64, 32), 'stock_embedding_size': 24, 'activation_func': 'swish', 'learning_rate': 0.02, 'epochs': 1000, 'dropout1': 0.05, 'dropout2': 0}. Best is trial 39 with value: 0.21116726984110495.\u001b[0m\n"
     ]
    },
    {
     "name": "stdout",
     "output_type": "stream",
     "text": [
      "Fold 5 NN: 0.21611\n",
      "rmspe_score: 0.21289119432752274\n"
     ]
    },
    {
     "name": "stderr",
     "output_type": "stream",
     "text": [
      "/home/xuming/.local/lib/python3.8/site-packages/optuna/distributions.py:427: UserWarning: Choices for a categorical distribution should be a tuple of None, bool, int, float and str for persistent storage but contains (128, 64, 32) which is of type tuple.\n",
      "  warnings.warn(message)\n",
      "/home/xuming/.local/lib/python3.8/site-packages/optuna/distributions.py:427: UserWarning: Choices for a categorical distribution should be a tuple of None, bool, int, float and str for persistent storage but contains (128, 128, 64, 32) which is of type tuple.\n",
      "  warnings.warn(message)\n",
      "/home/xuming/.local/lib/python3.8/site-packages/optuna/distributions.py:427: UserWarning: Choices for a categorical distribution should be a tuple of None, bool, int, float and str for persistent storage but contains (128, 64, 32, 16) which is of type tuple.\n",
      "  warnings.warn(message)\n",
      "/home/xuming/.local/lib/python3.8/site-packages/optuna/distributions.py:427: UserWarning: Choices for a categorical distribution should be a tuple of None, bool, int, float and str for persistent storage but contains (128, 64, 64, 32) which is of type tuple.\n",
      "  warnings.warn(message)\n"
     ]
    },
    {
     "name": "stdout",
     "output_type": "stream",
     "text": [
      "Fold 1 NN: 0.20872\n",
      "Fold 2 NN: 0.2129\n",
      "Fold 3 NN: 0.20872\n",
      "Fold 4 NN: 0.21558\n"
     ]
    },
    {
     "name": "stderr",
     "output_type": "stream",
     "text": [
      " suffix  rmspe_score  hidden_units       stock_embedding_size  activation_func  learning_rate  batch_size  epochs  dropout1  dropout2  time\n",
      " 920086   0.2119399   (128, 64, 64, 32)           16                swish          0.0100         2048      200  0.10  0.00    01:58 \n",
      "\u001b[32m[I 2021-09-20 15:18:04,406]\u001b[0m Trial 86 finished with value: 0.21193987910291082 and parameters: {'hidden_units': (128, 64, 64, 32), 'stock_embedding_size': 16, 'activation_func': 'swish', 'learning_rate': 0.01, 'epochs': 200, 'dropout1': 0.1, 'dropout2': 0}. Best is trial 39 with value: 0.21116726984110495.\u001b[0m\n"
     ]
    },
    {
     "name": "stdout",
     "output_type": "stream",
     "text": [
      "Fold 5 NN: 0.21369\n",
      "rmspe_score: 0.21193987910291082\n"
     ]
    },
    {
     "name": "stderr",
     "output_type": "stream",
     "text": [
      "/home/xuming/.local/lib/python3.8/site-packages/optuna/distributions.py:427: UserWarning: Choices for a categorical distribution should be a tuple of None, bool, int, float and str for persistent storage but contains (128, 64, 32) which is of type tuple.\n",
      "  warnings.warn(message)\n",
      "/home/xuming/.local/lib/python3.8/site-packages/optuna/distributions.py:427: UserWarning: Choices for a categorical distribution should be a tuple of None, bool, int, float and str for persistent storage but contains (128, 128, 64, 32) which is of type tuple.\n",
      "  warnings.warn(message)\n",
      "/home/xuming/.local/lib/python3.8/site-packages/optuna/distributions.py:427: UserWarning: Choices for a categorical distribution should be a tuple of None, bool, int, float and str for persistent storage but contains (128, 64, 32, 16) which is of type tuple.\n",
      "  warnings.warn(message)\n",
      "/home/xuming/.local/lib/python3.8/site-packages/optuna/distributions.py:427: UserWarning: Choices for a categorical distribution should be a tuple of None, bool, int, float and str for persistent storage but contains (128, 64, 64, 32) which is of type tuple.\n",
      "  warnings.warn(message)\n"
     ]
    },
    {
     "name": "stdout",
     "output_type": "stream",
     "text": [
      "Fold 1 NN: 0.21451\n",
      "Fold 2 NN: 0.2141\n",
      "Fold 3 NN: 0.21044\n",
      "Fold 4 NN: 0.2177\n"
     ]
    },
    {
     "name": "stderr",
     "output_type": "stream",
     "text": [
      " suffix  rmspe_score  hidden_units       stock_embedding_size  activation_func  learning_rate  batch_size  epochs  dropout1  dropout2  time\n",
      " 920087   0.2146906   (128, 64, 32, 16)           32                swish          0.0010         2048     1000  0.00  0.10    02:39 \n",
      "\u001b[32m[I 2021-09-20 15:20:44,130]\u001b[0m Trial 87 finished with value: 0.21469058134119495 and parameters: {'hidden_units': (128, 64, 32, 16), 'stock_embedding_size': 32, 'activation_func': 'swish', 'learning_rate': 0.001, 'epochs': 1000, 'dropout1': 0, 'dropout2': 0.1}. Best is trial 39 with value: 0.21116726984110495.\u001b[0m\n"
     ]
    },
    {
     "name": "stdout",
     "output_type": "stream",
     "text": [
      "Fold 5 NN: 0.21664\n",
      "rmspe_score: 0.21469058134119495\n"
     ]
    },
    {
     "name": "stderr",
     "output_type": "stream",
     "text": [
      "/home/xuming/.local/lib/python3.8/site-packages/optuna/distributions.py:427: UserWarning: Choices for a categorical distribution should be a tuple of None, bool, int, float and str for persistent storage but contains (128, 64, 32) which is of type tuple.\n",
      "  warnings.warn(message)\n",
      "/home/xuming/.local/lib/python3.8/site-packages/optuna/distributions.py:427: UserWarning: Choices for a categorical distribution should be a tuple of None, bool, int, float and str for persistent storage but contains (128, 128, 64, 32) which is of type tuple.\n",
      "  warnings.warn(message)\n",
      "/home/xuming/.local/lib/python3.8/site-packages/optuna/distributions.py:427: UserWarning: Choices for a categorical distribution should be a tuple of None, bool, int, float and str for persistent storage but contains (128, 64, 32, 16) which is of type tuple.\n",
      "  warnings.warn(message)\n",
      "/home/xuming/.local/lib/python3.8/site-packages/optuna/distributions.py:427: UserWarning: Choices for a categorical distribution should be a tuple of None, bool, int, float and str for persistent storage but contains (128, 64, 64, 32) which is of type tuple.\n",
      "  warnings.warn(message)\n"
     ]
    },
    {
     "name": "stdout",
     "output_type": "stream",
     "text": [
      "Fold 1 NN: 0.21096\n",
      "Fold 2 NN: 0.21662\n",
      "Fold 3 NN: 0.21329\n",
      "Fold 4 NN: 0.21684\n"
     ]
    },
    {
     "name": "stderr",
     "output_type": "stream",
     "text": [
      " suffix  rmspe_score  hidden_units       stock_embedding_size  activation_func  learning_rate  batch_size  epochs  dropout1  dropout2  time\n",
      " 920088   0.2144640   (128, 64, 64, 32)           24                swish          0.0010         2048     1000  0.05  0.05    02:38 \n",
      "\u001b[32m[I 2021-09-20 15:23:22,169]\u001b[0m Trial 88 finished with value: 0.21446398568969796 and parameters: {'hidden_units': (128, 64, 64, 32), 'stock_embedding_size': 24, 'activation_func': 'swish', 'learning_rate': 0.001, 'epochs': 1000, 'dropout1': 0.05, 'dropout2': 0.05}. Best is trial 39 with value: 0.21116726984110495.\u001b[0m\n"
     ]
    },
    {
     "name": "stdout",
     "output_type": "stream",
     "text": [
      "Fold 5 NN: 0.21456\n",
      "rmspe_score: 0.21446398568969796\n"
     ]
    },
    {
     "name": "stderr",
     "output_type": "stream",
     "text": [
      "/home/xuming/.local/lib/python3.8/site-packages/optuna/distributions.py:427: UserWarning: Choices for a categorical distribution should be a tuple of None, bool, int, float and str for persistent storage but contains (128, 64, 32) which is of type tuple.\n",
      "  warnings.warn(message)\n",
      "/home/xuming/.local/lib/python3.8/site-packages/optuna/distributions.py:427: UserWarning: Choices for a categorical distribution should be a tuple of None, bool, int, float and str for persistent storage but contains (128, 128, 64, 32) which is of type tuple.\n",
      "  warnings.warn(message)\n",
      "/home/xuming/.local/lib/python3.8/site-packages/optuna/distributions.py:427: UserWarning: Choices for a categorical distribution should be a tuple of None, bool, int, float and str for persistent storage but contains (128, 64, 32, 16) which is of type tuple.\n",
      "  warnings.warn(message)\n",
      "/home/xuming/.local/lib/python3.8/site-packages/optuna/distributions.py:427: UserWarning: Choices for a categorical distribution should be a tuple of None, bool, int, float and str for persistent storage but contains (128, 64, 64, 32) which is of type tuple.\n",
      "  warnings.warn(message)\n"
     ]
    },
    {
     "name": "stdout",
     "output_type": "stream",
     "text": [
      "Fold 1 NN: 0.21346\n",
      "Fold 2 NN: 0.21811\n",
      "Fold 3 NN: 0.2117\n",
      "Fold 4 NN: 0.21752\n"
     ]
    },
    {
     "name": "stderr",
     "output_type": "stream",
     "text": [
      " suffix  rmspe_score  hidden_units       stock_embedding_size  activation_func  learning_rate  batch_size  epochs  dropout1  dropout2  time\n",
      " 920089   0.2149618   (128, 64, 32)           24                swish          0.0040         2048     1000  0.00  0.05    02:34 \n",
      "\u001b[32m[I 2021-09-20 15:25:56,730]\u001b[0m Trial 89 finished with value: 0.2149618271107111 and parameters: {'hidden_units': (128, 64, 32), 'stock_embedding_size': 24, 'activation_func': 'swish', 'learning_rate': 0.004, 'epochs': 1000, 'dropout1': 0, 'dropout2': 0.05}. Best is trial 39 with value: 0.21116726984110495.\u001b[0m\n"
     ]
    },
    {
     "name": "stdout",
     "output_type": "stream",
     "text": [
      "Fold 5 NN: 0.21395\n",
      "rmspe_score: 0.2149618271107111\n"
     ]
    },
    {
     "name": "stderr",
     "output_type": "stream",
     "text": [
      "/home/xuming/.local/lib/python3.8/site-packages/optuna/distributions.py:427: UserWarning: Choices for a categorical distribution should be a tuple of None, bool, int, float and str for persistent storage but contains (128, 64, 32) which is of type tuple.\n",
      "  warnings.warn(message)\n",
      "/home/xuming/.local/lib/python3.8/site-packages/optuna/distributions.py:427: UserWarning: Choices for a categorical distribution should be a tuple of None, bool, int, float and str for persistent storage but contains (128, 128, 64, 32) which is of type tuple.\n",
      "  warnings.warn(message)\n",
      "/home/xuming/.local/lib/python3.8/site-packages/optuna/distributions.py:427: UserWarning: Choices for a categorical distribution should be a tuple of None, bool, int, float and str for persistent storage but contains (128, 64, 32, 16) which is of type tuple.\n",
      "  warnings.warn(message)\n",
      "/home/xuming/.local/lib/python3.8/site-packages/optuna/distributions.py:427: UserWarning: Choices for a categorical distribution should be a tuple of None, bool, int, float and str for persistent storage but contains (128, 64, 64, 32) which is of type tuple.\n",
      "  warnings.warn(message)\n"
     ]
    },
    {
     "name": "stdout",
     "output_type": "stream",
     "text": [
      "Fold 1 NN: 0.2096\n",
      "Fold 2 NN: 0.21327\n",
      "Fold 3 NN: 0.2093\n",
      "Fold 4 NN: 0.21462\n"
     ]
    },
    {
     "name": "stderr",
     "output_type": "stream",
     "text": [
      " suffix  rmspe_score  hidden_units       stock_embedding_size  activation_func  learning_rate  batch_size  epochs  dropout1  dropout2  time\n",
      " 920090   0.2119072   (128, 128, 64, 32)           32                swish          0.0100         2048      200  0.05  0.00    02:17 \n",
      "\u001b[32m[I 2021-09-20 15:28:14,660]\u001b[0m Trial 90 finished with value: 0.21190715246017114 and parameters: {'hidden_units': (128, 128, 64, 32), 'stock_embedding_size': 32, 'activation_func': 'swish', 'learning_rate': 0.01, 'epochs': 200, 'dropout1': 0.05, 'dropout2': 0}. Best is trial 39 with value: 0.21116726984110495.\u001b[0m\n"
     ]
    },
    {
     "name": "stdout",
     "output_type": "stream",
     "text": [
      "Fold 5 NN: 0.21269\n",
      "rmspe_score: 0.21190715246017114\n"
     ]
    },
    {
     "name": "stderr",
     "output_type": "stream",
     "text": [
      "/home/xuming/.local/lib/python3.8/site-packages/optuna/distributions.py:427: UserWarning: Choices for a categorical distribution should be a tuple of None, bool, int, float and str for persistent storage but contains (128, 64, 32) which is of type tuple.\n",
      "  warnings.warn(message)\n",
      "/home/xuming/.local/lib/python3.8/site-packages/optuna/distributions.py:427: UserWarning: Choices for a categorical distribution should be a tuple of None, bool, int, float and str for persistent storage but contains (128, 128, 64, 32) which is of type tuple.\n",
      "  warnings.warn(message)\n",
      "/home/xuming/.local/lib/python3.8/site-packages/optuna/distributions.py:427: UserWarning: Choices for a categorical distribution should be a tuple of None, bool, int, float and str for persistent storage but contains (128, 64, 32, 16) which is of type tuple.\n",
      "  warnings.warn(message)\n",
      "/home/xuming/.local/lib/python3.8/site-packages/optuna/distributions.py:427: UserWarning: Choices for a categorical distribution should be a tuple of None, bool, int, float and str for persistent storage but contains (128, 64, 64, 32) which is of type tuple.\n",
      "  warnings.warn(message)\n"
     ]
    },
    {
     "name": "stdout",
     "output_type": "stream",
     "text": [
      "Fold 1 NN: 0.20686\n",
      "Fold 2 NN: 0.21241\n",
      "Fold 3 NN: 0.20772\n",
      "Fold 4 NN: 0.21395\n"
     ]
    },
    {
     "name": "stderr",
     "output_type": "stream",
     "text": [
      " suffix  rmspe_score  hidden_units       stock_embedding_size  activation_func  learning_rate  batch_size  epochs  dropout1  dropout2  time\n",
      " 920091   0.2108509   (128, 64, 64, 32)           48                swish          0.0040         2048      200  0.05  0.00    01:59 \n",
      "\u001b[32m[I 2021-09-20 15:30:14,163]\u001b[0m Trial 91 finished with value: 0.21085085509443227 and parameters: {'hidden_units': (128, 64, 64, 32), 'stock_embedding_size': 48, 'activation_func': 'swish', 'learning_rate': 0.004, 'epochs': 200, 'dropout1': 0.05, 'dropout2': 0}. Best is trial 91 with value: 0.21085085509443227.\u001b[0m\n"
     ]
    },
    {
     "name": "stdout",
     "output_type": "stream",
     "text": [
      "Fold 5 NN: 0.21321\n",
      "rmspe_score: 0.21085085509443227\n"
     ]
    },
    {
     "name": "stderr",
     "output_type": "stream",
     "text": [
      "/home/xuming/.local/lib/python3.8/site-packages/optuna/distributions.py:427: UserWarning: Choices for a categorical distribution should be a tuple of None, bool, int, float and str for persistent storage but contains (128, 64, 32) which is of type tuple.\n",
      "  warnings.warn(message)\n",
      "/home/xuming/.local/lib/python3.8/site-packages/optuna/distributions.py:427: UserWarning: Choices for a categorical distribution should be a tuple of None, bool, int, float and str for persistent storage but contains (128, 128, 64, 32) which is of type tuple.\n",
      "  warnings.warn(message)\n",
      "/home/xuming/.local/lib/python3.8/site-packages/optuna/distributions.py:427: UserWarning: Choices for a categorical distribution should be a tuple of None, bool, int, float and str for persistent storage but contains (128, 64, 32, 16) which is of type tuple.\n",
      "  warnings.warn(message)\n",
      "/home/xuming/.local/lib/python3.8/site-packages/optuna/distributions.py:427: UserWarning: Choices for a categorical distribution should be a tuple of None, bool, int, float and str for persistent storage but contains (128, 64, 64, 32) which is of type tuple.\n",
      "  warnings.warn(message)\n"
     ]
    },
    {
     "name": "stdout",
     "output_type": "stream",
     "text": [
      "Fold 1 NN: 0.20686\n",
      "Fold 2 NN: 0.2127\n",
      "Fold 3 NN: 0.20807\n",
      "Fold 4 NN: 0.21383\n"
     ]
    },
    {
     "name": "stderr",
     "output_type": "stream",
     "text": [
      " suffix  rmspe_score  hidden_units       stock_embedding_size  activation_func  learning_rate  batch_size  epochs  dropout1  dropout2  time\n",
      " 920092   0.2109817   (128, 128, 64, 32)           32                swish          0.0040         2048      200  0.05  0.00    02:01 \n",
      "\u001b[32m[I 2021-09-20 15:32:15,699]\u001b[0m Trial 92 finished with value: 0.21098166908900623 and parameters: {'hidden_units': (128, 128, 64, 32), 'stock_embedding_size': 32, 'activation_func': 'swish', 'learning_rate': 0.004, 'epochs': 200, 'dropout1': 0.05, 'dropout2': 0}. Best is trial 91 with value: 0.21085085509443227.\u001b[0m\n"
     ]
    },
    {
     "name": "stdout",
     "output_type": "stream",
     "text": [
      "Fold 5 NN: 0.21335\n",
      "rmspe_score: 0.21098166908900623\n"
     ]
    },
    {
     "name": "stderr",
     "output_type": "stream",
     "text": [
      "/home/xuming/.local/lib/python3.8/site-packages/optuna/distributions.py:427: UserWarning: Choices for a categorical distribution should be a tuple of None, bool, int, float and str for persistent storage but contains (128, 64, 32) which is of type tuple.\n",
      "  warnings.warn(message)\n",
      "/home/xuming/.local/lib/python3.8/site-packages/optuna/distributions.py:427: UserWarning: Choices for a categorical distribution should be a tuple of None, bool, int, float and str for persistent storage but contains (128, 128, 64, 32) which is of type tuple.\n",
      "  warnings.warn(message)\n",
      "/home/xuming/.local/lib/python3.8/site-packages/optuna/distributions.py:427: UserWarning: Choices for a categorical distribution should be a tuple of None, bool, int, float and str for persistent storage but contains (128, 64, 32, 16) which is of type tuple.\n",
      "  warnings.warn(message)\n",
      "/home/xuming/.local/lib/python3.8/site-packages/optuna/distributions.py:427: UserWarning: Choices for a categorical distribution should be a tuple of None, bool, int, float and str for persistent storage but contains (128, 64, 64, 32) which is of type tuple.\n",
      "  warnings.warn(message)\n"
     ]
    },
    {
     "name": "stdout",
     "output_type": "stream",
     "text": [
      "Fold 1 NN: 0.20765\n",
      "Fold 2 NN: 0.21308\n",
      "Fold 3 NN: 0.20797\n",
      "Fold 4 NN: 0.21372\n"
     ]
    },
    {
     "name": "stderr",
     "output_type": "stream",
     "text": [
      " suffix  rmspe_score  hidden_units       stock_embedding_size  activation_func  learning_rate  batch_size  epochs  dropout1  dropout2  time\n",
      " 920093   0.2112804   (128, 128, 64, 32)           32                swish          0.0100         2048      200  0.05  0.00    02:00 \n",
      "\u001b[32m[I 2021-09-20 15:34:15,994]\u001b[0m Trial 93 finished with value: 0.21128043117669137 and parameters: {'hidden_units': (128, 128, 64, 32), 'stock_embedding_size': 32, 'activation_func': 'swish', 'learning_rate': 0.01, 'epochs': 200, 'dropout1': 0.05, 'dropout2': 0}. Best is trial 91 with value: 0.21085085509443227.\u001b[0m\n"
     ]
    },
    {
     "name": "stdout",
     "output_type": "stream",
     "text": [
      "Fold 5 NN: 0.21389\n",
      "rmspe_score: 0.21128043117669137\n"
     ]
    },
    {
     "name": "stderr",
     "output_type": "stream",
     "text": [
      "/home/xuming/.local/lib/python3.8/site-packages/optuna/distributions.py:427: UserWarning: Choices for a categorical distribution should be a tuple of None, bool, int, float and str for persistent storage but contains (128, 64, 32) which is of type tuple.\n",
      "  warnings.warn(message)\n",
      "/home/xuming/.local/lib/python3.8/site-packages/optuna/distributions.py:427: UserWarning: Choices for a categorical distribution should be a tuple of None, bool, int, float and str for persistent storage but contains (128, 128, 64, 32) which is of type tuple.\n",
      "  warnings.warn(message)\n",
      "/home/xuming/.local/lib/python3.8/site-packages/optuna/distributions.py:427: UserWarning: Choices for a categorical distribution should be a tuple of None, bool, int, float and str for persistent storage but contains (128, 64, 32, 16) which is of type tuple.\n",
      "  warnings.warn(message)\n",
      "/home/xuming/.local/lib/python3.8/site-packages/optuna/distributions.py:427: UserWarning: Choices for a categorical distribution should be a tuple of None, bool, int, float and str for persistent storage but contains (128, 64, 64, 32) which is of type tuple.\n",
      "  warnings.warn(message)\n"
     ]
    },
    {
     "name": "stdout",
     "output_type": "stream",
     "text": [
      "Fold 1 NN: 0.2075\n",
      "Fold 2 NN: 0.21204\n",
      "Fold 3 NN: 0.20908\n",
      "Fold 4 NN: 0.21429\n"
     ]
    },
    {
     "name": "stderr",
     "output_type": "stream",
     "text": [
      " suffix  rmspe_score  hidden_units       stock_embedding_size  activation_func  learning_rate  batch_size  epochs  dropout1  dropout2  time\n",
      " 920094   0.2111969   (128, 128, 64, 32)           32                swish          0.0040         2048      200  0.05  0.00    01:58 \n",
      "\u001b[32m[I 2021-09-20 15:36:14,530]\u001b[0m Trial 94 finished with value: 0.21119691197459559 and parameters: {'hidden_units': (128, 128, 64, 32), 'stock_embedding_size': 32, 'activation_func': 'swish', 'learning_rate': 0.004, 'epochs': 200, 'dropout1': 0.05, 'dropout2': 0}. Best is trial 91 with value: 0.21085085509443227.\u001b[0m\n"
     ]
    },
    {
     "name": "stdout",
     "output_type": "stream",
     "text": [
      "Fold 5 NN: 0.213\n",
      "rmspe_score: 0.21119691197459559\n"
     ]
    },
    {
     "name": "stderr",
     "output_type": "stream",
     "text": [
      "/home/xuming/.local/lib/python3.8/site-packages/optuna/distributions.py:427: UserWarning: Choices for a categorical distribution should be a tuple of None, bool, int, float and str for persistent storage but contains (128, 64, 32) which is of type tuple.\n",
      "  warnings.warn(message)\n",
      "/home/xuming/.local/lib/python3.8/site-packages/optuna/distributions.py:427: UserWarning: Choices for a categorical distribution should be a tuple of None, bool, int, float and str for persistent storage but contains (128, 128, 64, 32) which is of type tuple.\n",
      "  warnings.warn(message)\n",
      "/home/xuming/.local/lib/python3.8/site-packages/optuna/distributions.py:427: UserWarning: Choices for a categorical distribution should be a tuple of None, bool, int, float and str for persistent storage but contains (128, 64, 32, 16) which is of type tuple.\n",
      "  warnings.warn(message)\n",
      "/home/xuming/.local/lib/python3.8/site-packages/optuna/distributions.py:427: UserWarning: Choices for a categorical distribution should be a tuple of None, bool, int, float and str for persistent storage but contains (128, 64, 64, 32) which is of type tuple.\n",
      "  warnings.warn(message)\n"
     ]
    },
    {
     "name": "stdout",
     "output_type": "stream",
     "text": [
      "Fold 1 NN: 0.20708\n",
      "Fold 2 NN: 0.213\n",
      "Fold 3 NN: 0.20779\n",
      "Fold 4 NN: 0.21384\n"
     ]
    },
    {
     "name": "stderr",
     "output_type": "stream",
     "text": [
      " suffix  rmspe_score  hidden_units       stock_embedding_size  activation_func  learning_rate  batch_size  epochs  dropout1  dropout2  time\n",
      " 920095   0.2111172   (128, 128, 64, 32)           32                swish          0.0040         2048      200  0.05  0.00    01:49 \n",
      "\u001b[32m[I 2021-09-20 15:38:04,428]\u001b[0m Trial 95 finished with value: 0.21111720990314944 and parameters: {'hidden_units': (128, 128, 64, 32), 'stock_embedding_size': 32, 'activation_func': 'swish', 'learning_rate': 0.004, 'epochs': 200, 'dropout1': 0.05, 'dropout2': 0}. Best is trial 91 with value: 0.21085085509443227.\u001b[0m\n"
     ]
    },
    {
     "name": "stdout",
     "output_type": "stream",
     "text": [
      "Fold 5 NN: 0.21376\n",
      "rmspe_score: 0.21111720990314944\n"
     ]
    },
    {
     "name": "stderr",
     "output_type": "stream",
     "text": [
      "/home/xuming/.local/lib/python3.8/site-packages/optuna/distributions.py:427: UserWarning: Choices for a categorical distribution should be a tuple of None, bool, int, float and str for persistent storage but contains (128, 64, 32) which is of type tuple.\n",
      "  warnings.warn(message)\n",
      "/home/xuming/.local/lib/python3.8/site-packages/optuna/distributions.py:427: UserWarning: Choices for a categorical distribution should be a tuple of None, bool, int, float and str for persistent storage but contains (128, 128, 64, 32) which is of type tuple.\n",
      "  warnings.warn(message)\n",
      "/home/xuming/.local/lib/python3.8/site-packages/optuna/distributions.py:427: UserWarning: Choices for a categorical distribution should be a tuple of None, bool, int, float and str for persistent storage but contains (128, 64, 32, 16) which is of type tuple.\n",
      "  warnings.warn(message)\n",
      "/home/xuming/.local/lib/python3.8/site-packages/optuna/distributions.py:427: UserWarning: Choices for a categorical distribution should be a tuple of None, bool, int, float and str for persistent storage but contains (128, 64, 64, 32) which is of type tuple.\n",
      "  warnings.warn(message)\n"
     ]
    },
    {
     "name": "stdout",
     "output_type": "stream",
     "text": [
      "Fold 1 NN: 0.2074\n",
      "Fold 2 NN: 0.21273\n",
      "Fold 3 NN: 0.20784\n",
      "Fold 4 NN: 0.21433\n"
     ]
    },
    {
     "name": "stderr",
     "output_type": "stream",
     "text": [
      " suffix  rmspe_score  hidden_units       stock_embedding_size  activation_func  learning_rate  batch_size  epochs  dropout1  dropout2  time\n",
      " 920096   0.2113556   (128, 128, 64, 32)           32                swish          0.0040         2048      200  0.05  0.00    02:03 \n",
      "\u001b[32m[I 2021-09-20 15:40:08,091]\u001b[0m Trial 96 finished with value: 0.21135558103587104 and parameters: {'hidden_units': (128, 128, 64, 32), 'stock_embedding_size': 32, 'activation_func': 'swish', 'learning_rate': 0.004, 'epochs': 200, 'dropout1': 0.05, 'dropout2': 0}. Best is trial 91 with value: 0.21085085509443227.\u001b[0m\n"
     ]
    },
    {
     "name": "stdout",
     "output_type": "stream",
     "text": [
      "Fold 5 NN: 0.21436\n",
      "rmspe_score: 0.21135558103587104\n"
     ]
    },
    {
     "name": "stderr",
     "output_type": "stream",
     "text": [
      "/home/xuming/.local/lib/python3.8/site-packages/optuna/distributions.py:427: UserWarning: Choices for a categorical distribution should be a tuple of None, bool, int, float and str for persistent storage but contains (128, 64, 32) which is of type tuple.\n",
      "  warnings.warn(message)\n",
      "/home/xuming/.local/lib/python3.8/site-packages/optuna/distributions.py:427: UserWarning: Choices for a categorical distribution should be a tuple of None, bool, int, float and str for persistent storage but contains (128, 128, 64, 32) which is of type tuple.\n",
      "  warnings.warn(message)\n",
      "/home/xuming/.local/lib/python3.8/site-packages/optuna/distributions.py:427: UserWarning: Choices for a categorical distribution should be a tuple of None, bool, int, float and str for persistent storage but contains (128, 64, 32, 16) which is of type tuple.\n",
      "  warnings.warn(message)\n",
      "/home/xuming/.local/lib/python3.8/site-packages/optuna/distributions.py:427: UserWarning: Choices for a categorical distribution should be a tuple of None, bool, int, float and str for persistent storage but contains (128, 64, 64, 32) which is of type tuple.\n",
      "  warnings.warn(message)\n"
     ]
    },
    {
     "name": "stdout",
     "output_type": "stream",
     "text": [
      "Fold 1 NN: 0.20748\n",
      "Fold 2 NN: 0.21184\n",
      "Fold 3 NN: 0.20745\n",
      "Fold 4 NN: 0.21303\n"
     ]
    },
    {
     "name": "stderr",
     "output_type": "stream",
     "text": [
      " suffix  rmspe_score  hidden_units       stock_embedding_size  activation_func  learning_rate  batch_size  epochs  dropout1  dropout2  time\n",
      " 920097   0.2106832   (128, 128, 64, 32)           32                swish          0.0040         2048      200  0.05  0.00    01:56 \n",
      "\u001b[32m[I 2021-09-20 15:42:04,348]\u001b[0m Trial 97 finished with value: 0.21068324993361098 and parameters: {'hidden_units': (128, 128, 64, 32), 'stock_embedding_size': 32, 'activation_func': 'swish', 'learning_rate': 0.004, 'epochs': 200, 'dropout1': 0.05, 'dropout2': 0}. Best is trial 97 with value: 0.21068324993361098.\u001b[0m\n"
     ]
    },
    {
     "name": "stdout",
     "output_type": "stream",
     "text": [
      "Fold 5 NN: 0.21354\n",
      "rmspe_score: 0.21068324993361098\n"
     ]
    },
    {
     "name": "stderr",
     "output_type": "stream",
     "text": [
      "/home/xuming/.local/lib/python3.8/site-packages/optuna/distributions.py:427: UserWarning: Choices for a categorical distribution should be a tuple of None, bool, int, float and str for persistent storage but contains (128, 64, 32) which is of type tuple.\n",
      "  warnings.warn(message)\n",
      "/home/xuming/.local/lib/python3.8/site-packages/optuna/distributions.py:427: UserWarning: Choices for a categorical distribution should be a tuple of None, bool, int, float and str for persistent storage but contains (128, 128, 64, 32) which is of type tuple.\n",
      "  warnings.warn(message)\n",
      "/home/xuming/.local/lib/python3.8/site-packages/optuna/distributions.py:427: UserWarning: Choices for a categorical distribution should be a tuple of None, bool, int, float and str for persistent storage but contains (128, 64, 32, 16) which is of type tuple.\n",
      "  warnings.warn(message)\n",
      "/home/xuming/.local/lib/python3.8/site-packages/optuna/distributions.py:427: UserWarning: Choices for a categorical distribution should be a tuple of None, bool, int, float and str for persistent storage but contains (128, 64, 64, 32) which is of type tuple.\n",
      "  warnings.warn(message)\n"
     ]
    },
    {
     "name": "stdout",
     "output_type": "stream",
     "text": [
      "Fold 1 NN: 0.2071\n",
      "Fold 2 NN: 0.21191\n",
      "Fold 3 NN: 0.20875\n",
      "Fold 4 NN: 0.21322\n"
     ]
    },
    {
     "name": "stderr",
     "output_type": "stream",
     "text": [
      " suffix  rmspe_score  hidden_units       stock_embedding_size  activation_func  learning_rate  batch_size  epochs  dropout1  dropout2  time\n",
      " 920098   0.2108230   (128, 128, 64, 32)           32                swish          0.0040         2048      200  0.05  0.00    02:06 \n",
      "\u001b[32m[I 2021-09-20 15:44:11,283]\u001b[0m Trial 98 finished with value: 0.21082297499005923 and parameters: {'hidden_units': (128, 128, 64, 32), 'stock_embedding_size': 32, 'activation_func': 'swish', 'learning_rate': 0.004, 'epochs': 200, 'dropout1': 0.05, 'dropout2': 0}. Best is trial 97 with value: 0.21068324993361098.\u001b[0m\n"
     ]
    },
    {
     "name": "stdout",
     "output_type": "stream",
     "text": [
      "Fold 5 NN: 0.21306\n",
      "rmspe_score: 0.21082297499005923\n"
     ]
    },
    {
     "name": "stderr",
     "output_type": "stream",
     "text": [
      "/home/xuming/.local/lib/python3.8/site-packages/optuna/distributions.py:427: UserWarning: Choices for a categorical distribution should be a tuple of None, bool, int, float and str for persistent storage but contains (128, 64, 32) which is of type tuple.\n",
      "  warnings.warn(message)\n",
      "/home/xuming/.local/lib/python3.8/site-packages/optuna/distributions.py:427: UserWarning: Choices for a categorical distribution should be a tuple of None, bool, int, float and str for persistent storage but contains (128, 128, 64, 32) which is of type tuple.\n",
      "  warnings.warn(message)\n",
      "/home/xuming/.local/lib/python3.8/site-packages/optuna/distributions.py:427: UserWarning: Choices for a categorical distribution should be a tuple of None, bool, int, float and str for persistent storage but contains (128, 64, 32, 16) which is of type tuple.\n",
      "  warnings.warn(message)\n",
      "/home/xuming/.local/lib/python3.8/site-packages/optuna/distributions.py:427: UserWarning: Choices for a categorical distribution should be a tuple of None, bool, int, float and str for persistent storage but contains (128, 64, 64, 32) which is of type tuple.\n",
      "  warnings.warn(message)\n"
     ]
    },
    {
     "name": "stdout",
     "output_type": "stream",
     "text": [
      "Fold 1 NN: 0.20772\n",
      "Fold 2 NN: 0.21265\n",
      "Fold 3 NN: 0.20798\n",
      "Fold 4 NN: 0.21309\n"
     ]
    },
    {
     "name": "stderr",
     "output_type": "stream",
     "text": [
      " suffix  rmspe_score  hidden_units       stock_embedding_size  activation_func  learning_rate  batch_size  epochs  dropout1  dropout2  time\n",
      " 920099   0.2110586   (128, 128, 64, 32)           32                swish          0.0040         2048      200  0.05  0.00    01:49 \n",
      "\u001b[32m[I 2021-09-20 15:46:01,004]\u001b[0m Trial 99 finished with value: 0.21105855900645024 and parameters: {'hidden_units': (128, 128, 64, 32), 'stock_embedding_size': 32, 'activation_func': 'swish', 'learning_rate': 0.004, 'epochs': 200, 'dropout1': 0.05, 'dropout2': 0}. Best is trial 97 with value: 0.21068324993361098.\u001b[0m\n"
     ]
    },
    {
     "name": "stdout",
     "output_type": "stream",
     "text": [
      "Fold 5 NN: 0.21377\n",
      "rmspe_score: 0.21105855900645024\n"
     ]
    },
    {
     "name": "stderr",
     "output_type": "stream",
     "text": [
      "/home/xuming/.local/lib/python3.8/site-packages/optuna/distributions.py:427: UserWarning: Choices for a categorical distribution should be a tuple of None, bool, int, float and str for persistent storage but contains (128, 64, 32) which is of type tuple.\n",
      "  warnings.warn(message)\n",
      "/home/xuming/.local/lib/python3.8/site-packages/optuna/distributions.py:427: UserWarning: Choices for a categorical distribution should be a tuple of None, bool, int, float and str for persistent storage but contains (128, 128, 64, 32) which is of type tuple.\n",
      "  warnings.warn(message)\n",
      "/home/xuming/.local/lib/python3.8/site-packages/optuna/distributions.py:427: UserWarning: Choices for a categorical distribution should be a tuple of None, bool, int, float and str for persistent storage but contains (128, 64, 32, 16) which is of type tuple.\n",
      "  warnings.warn(message)\n",
      "/home/xuming/.local/lib/python3.8/site-packages/optuna/distributions.py:427: UserWarning: Choices for a categorical distribution should be a tuple of None, bool, int, float and str for persistent storage but contains (128, 64, 64, 32) which is of type tuple.\n",
      "  warnings.warn(message)\n"
     ]
    },
    {
     "name": "stdout",
     "output_type": "stream",
     "text": [
      "Fold 1 NN: 0.20696\n",
      "Fold 2 NN: 0.21167\n",
      "Fold 3 NN: 0.20897\n",
      "Fold 4 NN: 0.21468\n"
     ]
    },
    {
     "name": "stderr",
     "output_type": "stream",
     "text": [
      " suffix  rmspe_score  hidden_units       stock_embedding_size  activation_func  learning_rate  batch_size  epochs  dropout1  dropout2  time\n",
      " 920100   0.2112702   (128, 128, 64, 32)           32                swish          0.0040         2048      200  0.05  0.00    01:54 \n",
      "\u001b[32m[I 2021-09-20 15:47:55,595]\u001b[0m Trial 100 finished with value: 0.21127017814546536 and parameters: {'hidden_units': (128, 128, 64, 32), 'stock_embedding_size': 32, 'activation_func': 'swish', 'learning_rate': 0.004, 'epochs': 200, 'dropout1': 0.05, 'dropout2': 0}. Best is trial 97 with value: 0.21068324993361098.\u001b[0m\n"
     ]
    },
    {
     "name": "stdout",
     "output_type": "stream",
     "text": [
      "Fold 5 NN: 0.21397\n",
      "rmspe_score: 0.21127017814546536\n"
     ]
    },
    {
     "name": "stderr",
     "output_type": "stream",
     "text": [
      "/home/xuming/.local/lib/python3.8/site-packages/optuna/distributions.py:427: UserWarning: Choices for a categorical distribution should be a tuple of None, bool, int, float and str for persistent storage but contains (128, 64, 32) which is of type tuple.\n",
      "  warnings.warn(message)\n",
      "/home/xuming/.local/lib/python3.8/site-packages/optuna/distributions.py:427: UserWarning: Choices for a categorical distribution should be a tuple of None, bool, int, float and str for persistent storage but contains (128, 128, 64, 32) which is of type tuple.\n",
      "  warnings.warn(message)\n",
      "/home/xuming/.local/lib/python3.8/site-packages/optuna/distributions.py:427: UserWarning: Choices for a categorical distribution should be a tuple of None, bool, int, float and str for persistent storage but contains (128, 64, 32, 16) which is of type tuple.\n",
      "  warnings.warn(message)\n",
      "/home/xuming/.local/lib/python3.8/site-packages/optuna/distributions.py:427: UserWarning: Choices for a categorical distribution should be a tuple of None, bool, int, float and str for persistent storage but contains (128, 64, 64, 32) which is of type tuple.\n",
      "  warnings.warn(message)\n"
     ]
    },
    {
     "name": "stdout",
     "output_type": "stream",
     "text": [
      "Fold 1 NN: 0.20644\n",
      "Fold 2 NN: 0.21301\n",
      "Fold 3 NN: 0.20779\n",
      "Fold 4 NN: 0.21456\n"
     ]
    },
    {
     "name": "stderr",
     "output_type": "stream",
     "text": [
      " suffix  rmspe_score  hidden_units       stock_embedding_size  activation_func  learning_rate  batch_size  epochs  dropout1  dropout2  time\n",
      " 920101   0.2112878   (128, 128, 64, 32)           32                swish          0.0040         2048      200  0.05  0.00    01:55 \n",
      "\u001b[32m[I 2021-09-20 15:49:51,235]\u001b[0m Trial 101 finished with value: 0.21128780850441564 and parameters: {'hidden_units': (128, 128, 64, 32), 'stock_embedding_size': 32, 'activation_func': 'swish', 'learning_rate': 0.004, 'epochs': 200, 'dropout1': 0.05, 'dropout2': 0}. Best is trial 97 with value: 0.21068324993361098.\u001b[0m\n"
     ]
    },
    {
     "name": "stdout",
     "output_type": "stream",
     "text": [
      "Fold 5 NN: 0.21449\n",
      "rmspe_score: 0.21128780850441564\n"
     ]
    },
    {
     "name": "stderr",
     "output_type": "stream",
     "text": [
      "/home/xuming/.local/lib/python3.8/site-packages/optuna/distributions.py:427: UserWarning: Choices for a categorical distribution should be a tuple of None, bool, int, float and str for persistent storage but contains (128, 64, 32) which is of type tuple.\n",
      "  warnings.warn(message)\n",
      "/home/xuming/.local/lib/python3.8/site-packages/optuna/distributions.py:427: UserWarning: Choices for a categorical distribution should be a tuple of None, bool, int, float and str for persistent storage but contains (128, 128, 64, 32) which is of type tuple.\n",
      "  warnings.warn(message)\n",
      "/home/xuming/.local/lib/python3.8/site-packages/optuna/distributions.py:427: UserWarning: Choices for a categorical distribution should be a tuple of None, bool, int, float and str for persistent storage but contains (128, 64, 32, 16) which is of type tuple.\n",
      "  warnings.warn(message)\n",
      "/home/xuming/.local/lib/python3.8/site-packages/optuna/distributions.py:427: UserWarning: Choices for a categorical distribution should be a tuple of None, bool, int, float and str for persistent storage but contains (128, 64, 64, 32) which is of type tuple.\n",
      "  warnings.warn(message)\n"
     ]
    },
    {
     "name": "stdout",
     "output_type": "stream",
     "text": [
      "Fold 1 NN: 0.20712\n",
      "Fold 2 NN: 0.21364\n",
      "Fold 3 NN: 0.20842\n",
      "Fold 4 NN: 0.21507\n"
     ]
    },
    {
     "name": "stderr",
     "output_type": "stream",
     "text": [
      " suffix  rmspe_score  hidden_units       stock_embedding_size  activation_func  learning_rate  batch_size  epochs  dropout1  dropout2  time\n",
      " 920102   0.2114273   (128, 128, 64, 32)           32                swish          0.0040         2048      200  0.05  0.00    01:57 \n",
      "\u001b[32m[I 2021-09-20 15:51:48,649]\u001b[0m Trial 102 finished with value: 0.2114273074492686 and parameters: {'hidden_units': (128, 128, 64, 32), 'stock_embedding_size': 32, 'activation_func': 'swish', 'learning_rate': 0.004, 'epochs': 200, 'dropout1': 0.05, 'dropout2': 0}. Best is trial 97 with value: 0.21068324993361098.\u001b[0m\n"
     ]
    },
    {
     "name": "stdout",
     "output_type": "stream",
     "text": [
      "Fold 5 NN: 0.21277\n",
      "rmspe_score: 0.2114273074492686\n"
     ]
    },
    {
     "name": "stderr",
     "output_type": "stream",
     "text": [
      "/home/xuming/.local/lib/python3.8/site-packages/optuna/distributions.py:427: UserWarning: Choices for a categorical distribution should be a tuple of None, bool, int, float and str for persistent storage but contains (128, 64, 32) which is of type tuple.\n",
      "  warnings.warn(message)\n",
      "/home/xuming/.local/lib/python3.8/site-packages/optuna/distributions.py:427: UserWarning: Choices for a categorical distribution should be a tuple of None, bool, int, float and str for persistent storage but contains (128, 128, 64, 32) which is of type tuple.\n",
      "  warnings.warn(message)\n",
      "/home/xuming/.local/lib/python3.8/site-packages/optuna/distributions.py:427: UserWarning: Choices for a categorical distribution should be a tuple of None, bool, int, float and str for persistent storage but contains (128, 64, 32, 16) which is of type tuple.\n",
      "  warnings.warn(message)\n",
      "/home/xuming/.local/lib/python3.8/site-packages/optuna/distributions.py:427: UserWarning: Choices for a categorical distribution should be a tuple of None, bool, int, float and str for persistent storage but contains (128, 64, 64, 32) which is of type tuple.\n",
      "  warnings.warn(message)\n"
     ]
    },
    {
     "name": "stdout",
     "output_type": "stream",
     "text": [
      "Fold 1 NN: 0.20704\n",
      "Fold 2 NN: 0.21218\n",
      "Fold 3 NN: 0.20758\n",
      "Fold 4 NN: 0.21457\n"
     ]
    },
    {
     "name": "stderr",
     "output_type": "stream",
     "text": [
      " suffix  rmspe_score  hidden_units       stock_embedding_size  activation_func  learning_rate  batch_size  epochs  dropout1  dropout2  time\n",
      " 920103   0.2109690   (128, 128, 64, 32)           32                swish          0.0040         2048      200  0.05  0.00    01:58 \n",
      "\u001b[32m[I 2021-09-20 15:53:47,540]\u001b[0m Trial 103 finished with value: 0.21096903979859802 and parameters: {'hidden_units': (128, 128, 64, 32), 'stock_embedding_size': 32, 'activation_func': 'swish', 'learning_rate': 0.004, 'epochs': 200, 'dropout1': 0.05, 'dropout2': 0}. Best is trial 97 with value: 0.21068324993361098.\u001b[0m\n"
     ]
    },
    {
     "name": "stdout",
     "output_type": "stream",
     "text": [
      "Fold 5 NN: 0.21336\n",
      "rmspe_score: 0.21096903979859802\n"
     ]
    },
    {
     "name": "stderr",
     "output_type": "stream",
     "text": [
      "/home/xuming/.local/lib/python3.8/site-packages/optuna/distributions.py:427: UserWarning: Choices for a categorical distribution should be a tuple of None, bool, int, float and str for persistent storage but contains (128, 64, 32) which is of type tuple.\n",
      "  warnings.warn(message)\n",
      "/home/xuming/.local/lib/python3.8/site-packages/optuna/distributions.py:427: UserWarning: Choices for a categorical distribution should be a tuple of None, bool, int, float and str for persistent storage but contains (128, 128, 64, 32) which is of type tuple.\n",
      "  warnings.warn(message)\n",
      "/home/xuming/.local/lib/python3.8/site-packages/optuna/distributions.py:427: UserWarning: Choices for a categorical distribution should be a tuple of None, bool, int, float and str for persistent storage but contains (128, 64, 32, 16) which is of type tuple.\n",
      "  warnings.warn(message)\n",
      "/home/xuming/.local/lib/python3.8/site-packages/optuna/distributions.py:427: UserWarning: Choices for a categorical distribution should be a tuple of None, bool, int, float and str for persistent storage but contains (128, 64, 64, 32) which is of type tuple.\n",
      "  warnings.warn(message)\n"
     ]
    },
    {
     "name": "stdout",
     "output_type": "stream",
     "text": [
      "Fold 1 NN: 0.20747\n",
      "Fold 2 NN: 0.21261\n",
      "Fold 3 NN: 0.20877\n",
      "Fold 4 NN: 0.21433\n"
     ]
    },
    {
     "name": "stderr",
     "output_type": "stream",
     "text": [
      " suffix  rmspe_score  hidden_units       stock_embedding_size  activation_func  learning_rate  batch_size  epochs  dropout1  dropout2  time\n",
      " 920104   0.2113334   (128, 128, 64, 32)           32                swish          0.0040         2048      200  0.05  0.00    01:55 \n",
      "\u001b[32m[I 2021-09-20 15:55:43,503]\u001b[0m Trial 104 finished with value: 0.2113334094750164 and parameters: {'hidden_units': (128, 128, 64, 32), 'stock_embedding_size': 32, 'activation_func': 'swish', 'learning_rate': 0.004, 'epochs': 200, 'dropout1': 0.05, 'dropout2': 0}. Best is trial 97 with value: 0.21068324993361098.\u001b[0m\n"
     ]
    },
    {
     "name": "stdout",
     "output_type": "stream",
     "text": [
      "Fold 5 NN: 0.2134\n",
      "rmspe_score: 0.2113334094750164\n"
     ]
    },
    {
     "name": "stderr",
     "output_type": "stream",
     "text": [
      "/home/xuming/.local/lib/python3.8/site-packages/optuna/distributions.py:427: UserWarning: Choices for a categorical distribution should be a tuple of None, bool, int, float and str for persistent storage but contains (128, 64, 32) which is of type tuple.\n",
      "  warnings.warn(message)\n",
      "/home/xuming/.local/lib/python3.8/site-packages/optuna/distributions.py:427: UserWarning: Choices for a categorical distribution should be a tuple of None, bool, int, float and str for persistent storage but contains (128, 128, 64, 32) which is of type tuple.\n",
      "  warnings.warn(message)\n",
      "/home/xuming/.local/lib/python3.8/site-packages/optuna/distributions.py:427: UserWarning: Choices for a categorical distribution should be a tuple of None, bool, int, float and str for persistent storage but contains (128, 64, 32, 16) which is of type tuple.\n",
      "  warnings.warn(message)\n",
      "/home/xuming/.local/lib/python3.8/site-packages/optuna/distributions.py:427: UserWarning: Choices for a categorical distribution should be a tuple of None, bool, int, float and str for persistent storage but contains (128, 64, 64, 32) which is of type tuple.\n",
      "  warnings.warn(message)\n"
     ]
    },
    {
     "name": "stdout",
     "output_type": "stream",
     "text": [
      "Fold 1 NN: 0.20757\n",
      "Fold 2 NN: 0.21205\n",
      "Fold 3 NN: 0.20852\n",
      "Fold 4 NN: 0.21497\n"
     ]
    },
    {
     "name": "stderr",
     "output_type": "stream",
     "text": [
      " suffix  rmspe_score  hidden_units       stock_embedding_size  activation_func  learning_rate  batch_size  epochs  dropout1  dropout2  time\n",
      " 920105   0.2114224   (128, 128, 64, 32)           32                swish          0.0040         2048      200  0.05  0.00    01:48 \n",
      "\u001b[32m[I 2021-09-20 15:57:31,535]\u001b[0m Trial 105 finished with value: 0.21142238571637872 and parameters: {'hidden_units': (128, 128, 64, 32), 'stock_embedding_size': 32, 'activation_func': 'swish', 'learning_rate': 0.004, 'epochs': 200, 'dropout1': 0.05, 'dropout2': 0}. Best is trial 97 with value: 0.21068324993361098.\u001b[0m\n"
     ]
    },
    {
     "name": "stdout",
     "output_type": "stream",
     "text": [
      "Fold 5 NN: 0.21391\n",
      "rmspe_score: 0.21142238571637872\n"
     ]
    },
    {
     "name": "stderr",
     "output_type": "stream",
     "text": [
      "/home/xuming/.local/lib/python3.8/site-packages/optuna/distributions.py:427: UserWarning: Choices for a categorical distribution should be a tuple of None, bool, int, float and str for persistent storage but contains (128, 64, 32) which is of type tuple.\n",
      "  warnings.warn(message)\n",
      "/home/xuming/.local/lib/python3.8/site-packages/optuna/distributions.py:427: UserWarning: Choices for a categorical distribution should be a tuple of None, bool, int, float and str for persistent storage but contains (128, 128, 64, 32) which is of type tuple.\n",
      "  warnings.warn(message)\n",
      "/home/xuming/.local/lib/python3.8/site-packages/optuna/distributions.py:427: UserWarning: Choices for a categorical distribution should be a tuple of None, bool, int, float and str for persistent storage but contains (128, 64, 32, 16) which is of type tuple.\n",
      "  warnings.warn(message)\n",
      "/home/xuming/.local/lib/python3.8/site-packages/optuna/distributions.py:427: UserWarning: Choices for a categorical distribution should be a tuple of None, bool, int, float and str for persistent storage but contains (128, 64, 64, 32) which is of type tuple.\n",
      "  warnings.warn(message)\n"
     ]
    },
    {
     "name": "stdout",
     "output_type": "stream",
     "text": [
      "Fold 1 NN: 0.20778\n",
      "Fold 2 NN: 0.21245\n",
      "Fold 3 NN: 0.20807\n",
      "Fold 4 NN: 0.21525\n"
     ]
    },
    {
     "name": "stderr",
     "output_type": "stream",
     "text": [
      " suffix  rmspe_score  hidden_units       stock_embedding_size  activation_func  learning_rate  batch_size  epochs  dropout1  dropout2  time\n",
      " 920106   0.2113748   (128, 128, 64, 32)           32                swish          0.0040         2048      200  0.05  0.00    01:50 \n",
      "\u001b[32m[I 2021-09-20 15:59:22,132]\u001b[0m Trial 106 finished with value: 0.21137481929070873 and parameters: {'hidden_units': (128, 128, 64, 32), 'stock_embedding_size': 32, 'activation_func': 'swish', 'learning_rate': 0.004, 'epochs': 200, 'dropout1': 0.05, 'dropout2': 0}. Best is trial 97 with value: 0.21068324993361098.\u001b[0m\n"
     ]
    },
    {
     "name": "stdout",
     "output_type": "stream",
     "text": [
      "Fold 5 NN: 0.21322\n",
      "rmspe_score: 0.21137481929070873\n"
     ]
    },
    {
     "name": "stderr",
     "output_type": "stream",
     "text": [
      "/home/xuming/.local/lib/python3.8/site-packages/optuna/distributions.py:427: UserWarning: Choices for a categorical distribution should be a tuple of None, bool, int, float and str for persistent storage but contains (128, 64, 32) which is of type tuple.\n",
      "  warnings.warn(message)\n",
      "/home/xuming/.local/lib/python3.8/site-packages/optuna/distributions.py:427: UserWarning: Choices for a categorical distribution should be a tuple of None, bool, int, float and str for persistent storage but contains (128, 128, 64, 32) which is of type tuple.\n",
      "  warnings.warn(message)\n",
      "/home/xuming/.local/lib/python3.8/site-packages/optuna/distributions.py:427: UserWarning: Choices for a categorical distribution should be a tuple of None, bool, int, float and str for persistent storage but contains (128, 64, 32, 16) which is of type tuple.\n",
      "  warnings.warn(message)\n",
      "/home/xuming/.local/lib/python3.8/site-packages/optuna/distributions.py:427: UserWarning: Choices for a categorical distribution should be a tuple of None, bool, int, float and str for persistent storage but contains (128, 64, 64, 32) which is of type tuple.\n",
      "  warnings.warn(message)\n"
     ]
    },
    {
     "name": "stdout",
     "output_type": "stream",
     "text": [
      "Fold 1 NN: 0.20778\n",
      "Fold 2 NN: 0.21385\n",
      "Fold 3 NN: 0.20856\n",
      "Fold 4 NN: 0.21298\n"
     ]
    },
    {
     "name": "stderr",
     "output_type": "stream",
     "text": [
      " suffix  rmspe_score  hidden_units       stock_embedding_size  activation_func  learning_rate  batch_size  epochs  dropout1  dropout2  time\n",
      " 920107   0.2112869   (128, 128, 64, 32)           32                swish          0.0040         2048      200  0.05  0.00    02:04 \n",
      "\u001b[32m[I 2021-09-20 16:01:26,400]\u001b[0m Trial 107 finished with value: 0.21128685871709388 and parameters: {'hidden_units': (128, 128, 64, 32), 'stock_embedding_size': 32, 'activation_func': 'swish', 'learning_rate': 0.004, 'epochs': 200, 'dropout1': 0.05, 'dropout2': 0}. Best is trial 97 with value: 0.21068324993361098.\u001b[0m\n"
     ]
    },
    {
     "name": "stdout",
     "output_type": "stream",
     "text": [
      "Fold 5 NN: 0.21319\n",
      "rmspe_score: 0.21128685871709388\n"
     ]
    },
    {
     "name": "stderr",
     "output_type": "stream",
     "text": [
      "/home/xuming/.local/lib/python3.8/site-packages/optuna/distributions.py:427: UserWarning: Choices for a categorical distribution should be a tuple of None, bool, int, float and str for persistent storage but contains (128, 64, 32) which is of type tuple.\n",
      "  warnings.warn(message)\n",
      "/home/xuming/.local/lib/python3.8/site-packages/optuna/distributions.py:427: UserWarning: Choices for a categorical distribution should be a tuple of None, bool, int, float and str for persistent storage but contains (128, 128, 64, 32) which is of type tuple.\n",
      "  warnings.warn(message)\n",
      "/home/xuming/.local/lib/python3.8/site-packages/optuna/distributions.py:427: UserWarning: Choices for a categorical distribution should be a tuple of None, bool, int, float and str for persistent storage but contains (128, 64, 32, 16) which is of type tuple.\n",
      "  warnings.warn(message)\n",
      "/home/xuming/.local/lib/python3.8/site-packages/optuna/distributions.py:427: UserWarning: Choices for a categorical distribution should be a tuple of None, bool, int, float and str for persistent storage but contains (128, 64, 64, 32) which is of type tuple.\n",
      "  warnings.warn(message)\n"
     ]
    },
    {
     "name": "stdout",
     "output_type": "stream",
     "text": [
      "Fold 1 NN: 0.20733\n",
      "Fold 2 NN: 0.21285\n",
      "Fold 3 NN: 0.20809\n",
      "Fold 4 NN: 0.21378\n"
     ]
    },
    {
     "name": "stderr",
     "output_type": "stream",
     "text": [
      " suffix  rmspe_score  hidden_units       stock_embedding_size  activation_func  learning_rate  batch_size  epochs  dropout1  dropout2  time\n",
      " 920108   0.2111528   (128, 128, 64, 32)           32                swish          0.0040         2048      200  0.05  0.00    01:42 \n",
      "\u001b[32m[I 2021-09-20 16:03:09,359]\u001b[0m Trial 108 finished with value: 0.211152823919392 and parameters: {'hidden_units': (128, 128, 64, 32), 'stock_embedding_size': 32, 'activation_func': 'swish', 'learning_rate': 0.004, 'epochs': 200, 'dropout1': 0.05, 'dropout2': 0}. Best is trial 97 with value: 0.21068324993361098.\u001b[0m\n"
     ]
    },
    {
     "name": "stdout",
     "output_type": "stream",
     "text": [
      "Fold 5 NN: 0.21362\n",
      "rmspe_score: 0.211152823919392\n"
     ]
    },
    {
     "name": "stderr",
     "output_type": "stream",
     "text": [
      "/home/xuming/.local/lib/python3.8/site-packages/optuna/distributions.py:427: UserWarning: Choices for a categorical distribution should be a tuple of None, bool, int, float and str for persistent storage but contains (128, 64, 32) which is of type tuple.\n",
      "  warnings.warn(message)\n",
      "/home/xuming/.local/lib/python3.8/site-packages/optuna/distributions.py:427: UserWarning: Choices for a categorical distribution should be a tuple of None, bool, int, float and str for persistent storage but contains (128, 128, 64, 32) which is of type tuple.\n",
      "  warnings.warn(message)\n",
      "/home/xuming/.local/lib/python3.8/site-packages/optuna/distributions.py:427: UserWarning: Choices for a categorical distribution should be a tuple of None, bool, int, float and str for persistent storage but contains (128, 64, 32, 16) which is of type tuple.\n",
      "  warnings.warn(message)\n",
      "/home/xuming/.local/lib/python3.8/site-packages/optuna/distributions.py:427: UserWarning: Choices for a categorical distribution should be a tuple of None, bool, int, float and str for persistent storage but contains (128, 64, 64, 32) which is of type tuple.\n",
      "  warnings.warn(message)\n"
     ]
    },
    {
     "name": "stdout",
     "output_type": "stream",
     "text": [
      "Fold 1 NN: 0.20671\n",
      "Fold 2 NN: 0.21245\n",
      "Fold 3 NN: 0.20816\n",
      "Fold 4 NN: 0.21324\n"
     ]
    },
    {
     "name": "stderr",
     "output_type": "stream",
     "text": [
      " suffix  rmspe_score  hidden_units       stock_embedding_size  activation_func  learning_rate  batch_size  epochs  dropout1  dropout2  time\n",
      " 920109   0.2108659   (128, 128, 64, 32)           32                swish          0.0040         2048      200  0.05  0.00    02:10 \n",
      "\u001b[32m[I 2021-09-20 16:05:20,254]\u001b[0m Trial 109 finished with value: 0.2108658509575372 and parameters: {'hidden_units': (128, 128, 64, 32), 'stock_embedding_size': 32, 'activation_func': 'swish', 'learning_rate': 0.004, 'epochs': 200, 'dropout1': 0.05, 'dropout2': 0}. Best is trial 97 with value: 0.21068324993361098.\u001b[0m\n"
     ]
    },
    {
     "name": "stdout",
     "output_type": "stream",
     "text": [
      "Fold 5 NN: 0.21367\n",
      "rmspe_score: 0.2108658509575372\n"
     ]
    },
    {
     "name": "stderr",
     "output_type": "stream",
     "text": [
      "/home/xuming/.local/lib/python3.8/site-packages/optuna/distributions.py:427: UserWarning: Choices for a categorical distribution should be a tuple of None, bool, int, float and str for persistent storage but contains (128, 64, 32) which is of type tuple.\n",
      "  warnings.warn(message)\n",
      "/home/xuming/.local/lib/python3.8/site-packages/optuna/distributions.py:427: UserWarning: Choices for a categorical distribution should be a tuple of None, bool, int, float and str for persistent storage but contains (128, 128, 64, 32) which is of type tuple.\n",
      "  warnings.warn(message)\n",
      "/home/xuming/.local/lib/python3.8/site-packages/optuna/distributions.py:427: UserWarning: Choices for a categorical distribution should be a tuple of None, bool, int, float and str for persistent storage but contains (128, 64, 32, 16) which is of type tuple.\n",
      "  warnings.warn(message)\n",
      "/home/xuming/.local/lib/python3.8/site-packages/optuna/distributions.py:427: UserWarning: Choices for a categorical distribution should be a tuple of None, bool, int, float and str for persistent storage but contains (128, 64, 64, 32) which is of type tuple.\n",
      "  warnings.warn(message)\n"
     ]
    },
    {
     "name": "stdout",
     "output_type": "stream",
     "text": [
      "Fold 1 NN: 0.20707\n",
      "Fold 2 NN: 0.21433\n",
      "Fold 3 NN: 0.2079\n",
      "Fold 4 NN: 0.21303\n"
     ]
    },
    {
     "name": "stderr",
     "output_type": "stream",
     "text": [
      " suffix  rmspe_score  hidden_units       stock_embedding_size  activation_func  learning_rate  batch_size  epochs  dropout1  dropout2  time\n",
      " 920110   0.2109823   (128, 128, 64, 32)           32                swish          0.0040         2048      200  0.05  0.00    02:05 \n",
      "\u001b[32m[I 2021-09-20 16:07:25,440]\u001b[0m Trial 110 finished with value: 0.2109822755011307 and parameters: {'hidden_units': (128, 128, 64, 32), 'stock_embedding_size': 32, 'activation_func': 'swish', 'learning_rate': 0.004, 'epochs': 200, 'dropout1': 0.05, 'dropout2': 0}. Best is trial 97 with value: 0.21068324993361098.\u001b[0m\n"
     ]
    },
    {
     "name": "stdout",
     "output_type": "stream",
     "text": [
      "Fold 5 NN: 0.21249\n",
      "rmspe_score: 0.2109822755011307\n"
     ]
    },
    {
     "name": "stderr",
     "output_type": "stream",
     "text": [
      "/home/xuming/.local/lib/python3.8/site-packages/optuna/distributions.py:427: UserWarning: Choices for a categorical distribution should be a tuple of None, bool, int, float and str for persistent storage but contains (128, 64, 32) which is of type tuple.\n",
      "  warnings.warn(message)\n",
      "/home/xuming/.local/lib/python3.8/site-packages/optuna/distributions.py:427: UserWarning: Choices for a categorical distribution should be a tuple of None, bool, int, float and str for persistent storage but contains (128, 128, 64, 32) which is of type tuple.\n",
      "  warnings.warn(message)\n",
      "/home/xuming/.local/lib/python3.8/site-packages/optuna/distributions.py:427: UserWarning: Choices for a categorical distribution should be a tuple of None, bool, int, float and str for persistent storage but contains (128, 64, 32, 16) which is of type tuple.\n",
      "  warnings.warn(message)\n",
      "/home/xuming/.local/lib/python3.8/site-packages/optuna/distributions.py:427: UserWarning: Choices for a categorical distribution should be a tuple of None, bool, int, float and str for persistent storage but contains (128, 64, 64, 32) which is of type tuple.\n",
      "  warnings.warn(message)\n"
     ]
    },
    {
     "name": "stdout",
     "output_type": "stream",
     "text": [
      "Fold 1 NN: 0.20661\n",
      "Fold 2 NN: 0.21318\n",
      "Fold 3 NN: 0.20956\n",
      "Fold 4 NN: 0.21425\n"
     ]
    },
    {
     "name": "stderr",
     "output_type": "stream",
     "text": [
      " suffix  rmspe_score  hidden_units       stock_embedding_size  activation_func  learning_rate  batch_size  epochs  dropout1  dropout2  time\n",
      " 920111   0.2115672   (128, 128, 64, 32)           32                swish          0.0040         2048      200  0.05  0.00    02:04 \n",
      "\u001b[32m[I 2021-09-20 16:09:29,879]\u001b[0m Trial 111 finished with value: 0.21156721889687757 and parameters: {'hidden_units': (128, 128, 64, 32), 'stock_embedding_size': 32, 'activation_func': 'swish', 'learning_rate': 0.004, 'epochs': 200, 'dropout1': 0.05, 'dropout2': 0}. Best is trial 97 with value: 0.21068324993361098.\u001b[0m\n"
     ]
    },
    {
     "name": "stdout",
     "output_type": "stream",
     "text": [
      "Fold 5 NN: 0.21413\n",
      "rmspe_score: 0.21156721889687757\n"
     ]
    },
    {
     "name": "stderr",
     "output_type": "stream",
     "text": [
      "/home/xuming/.local/lib/python3.8/site-packages/optuna/distributions.py:427: UserWarning: Choices for a categorical distribution should be a tuple of None, bool, int, float and str for persistent storage but contains (128, 64, 32) which is of type tuple.\n",
      "  warnings.warn(message)\n",
      "/home/xuming/.local/lib/python3.8/site-packages/optuna/distributions.py:427: UserWarning: Choices for a categorical distribution should be a tuple of None, bool, int, float and str for persistent storage but contains (128, 128, 64, 32) which is of type tuple.\n",
      "  warnings.warn(message)\n",
      "/home/xuming/.local/lib/python3.8/site-packages/optuna/distributions.py:427: UserWarning: Choices for a categorical distribution should be a tuple of None, bool, int, float and str for persistent storage but contains (128, 64, 32, 16) which is of type tuple.\n",
      "  warnings.warn(message)\n",
      "/home/xuming/.local/lib/python3.8/site-packages/optuna/distributions.py:427: UserWarning: Choices for a categorical distribution should be a tuple of None, bool, int, float and str for persistent storage but contains (128, 64, 64, 32) which is of type tuple.\n",
      "  warnings.warn(message)\n"
     ]
    },
    {
     "name": "stdout",
     "output_type": "stream",
     "text": [
      "Fold 1 NN: 0.20755\n",
      "Fold 2 NN: 0.21261\n",
      "Fold 3 NN: 0.20862\n",
      "Fold 4 NN: 0.21481\n"
     ]
    },
    {
     "name": "stderr",
     "output_type": "stream",
     "text": [
      " suffix  rmspe_score  hidden_units       stock_embedding_size  activation_func  learning_rate  batch_size  epochs  dropout1  dropout2  time\n",
      " 920112   0.2116550   (128, 128, 64, 32)           32                swish          0.0040         2048      200  0.05  0.00    01:56 \n",
      "\u001b[32m[I 2021-09-20 16:11:26,845]\u001b[0m Trial 112 finished with value: 0.21165496928957384 and parameters: {'hidden_units': (128, 128, 64, 32), 'stock_embedding_size': 32, 'activation_func': 'swish', 'learning_rate': 0.004, 'epochs': 200, 'dropout1': 0.05, 'dropout2': 0}. Best is trial 97 with value: 0.21068324993361098.\u001b[0m\n"
     ]
    },
    {
     "name": "stdout",
     "output_type": "stream",
     "text": [
      "Fold 5 NN: 0.21458\n",
      "rmspe_score: 0.21165496928957384\n"
     ]
    },
    {
     "name": "stderr",
     "output_type": "stream",
     "text": [
      "/home/xuming/.local/lib/python3.8/site-packages/optuna/distributions.py:427: UserWarning: Choices for a categorical distribution should be a tuple of None, bool, int, float and str for persistent storage but contains (128, 64, 32) which is of type tuple.\n",
      "  warnings.warn(message)\n",
      "/home/xuming/.local/lib/python3.8/site-packages/optuna/distributions.py:427: UserWarning: Choices for a categorical distribution should be a tuple of None, bool, int, float and str for persistent storage but contains (128, 128, 64, 32) which is of type tuple.\n",
      "  warnings.warn(message)\n",
      "/home/xuming/.local/lib/python3.8/site-packages/optuna/distributions.py:427: UserWarning: Choices for a categorical distribution should be a tuple of None, bool, int, float and str for persistent storage but contains (128, 64, 32, 16) which is of type tuple.\n",
      "  warnings.warn(message)\n",
      "/home/xuming/.local/lib/python3.8/site-packages/optuna/distributions.py:427: UserWarning: Choices for a categorical distribution should be a tuple of None, bool, int, float and str for persistent storage but contains (128, 64, 64, 32) which is of type tuple.\n",
      "  warnings.warn(message)\n"
     ]
    },
    {
     "name": "stdout",
     "output_type": "stream",
     "text": [
      "Fold 1 NN: 0.20784\n"
     ]
    }
   ],
   "source": [
    "study = optuna.create_study(sampler=TPESampler(n_startup_trials=n_startup_trials),direction=\"minimize\")\n",
    "study.optimize(objective, n_trials=n_trials)"
   ]
  },
  {
   "cell_type": "code",
   "execution_count": null,
   "id": "64032d2a",
   "metadata": {},
   "outputs": [],
   "source": []
  }
 ],
 "metadata": {
  "kernelspec": {
   "display_name": "Python 3",
   "language": "python",
   "name": "python3"
  },
  "language_info": {
   "codemirror_mode": {
    "name": "ipython",
    "version": 3
   },
   "file_extension": ".py",
   "mimetype": "text/x-python",
   "name": "python",
   "nbconvert_exporter": "python",
   "pygments_lexer": "ipython3",
   "version": "3.8.8"
  },
  "papermill": {
   "default_parameters": {},
   "duration": 3639.310619,
   "end_time": "2021-09-18T06:57:20.566222",
   "environment_variables": {},
   "exception": null,
   "input_path": "__notebook__.ipynb",
   "output_path": "__notebook__.ipynb",
   "parameters": {},
   "start_time": "2021-09-18T05:56:41.255603",
   "version": "2.3.3"
  },
  "toc": {
   "base_numbering": 1,
   "nav_menu": {},
   "number_sections": true,
   "sideBar": true,
   "skip_h1_title": false,
   "title_cell": "Table of Contents",
   "title_sidebar": "Contents",
   "toc_cell": false,
   "toc_position": {},
   "toc_section_display": true,
   "toc_window_display": false
  }
 },
 "nbformat": 4,
 "nbformat_minor": 5
}
